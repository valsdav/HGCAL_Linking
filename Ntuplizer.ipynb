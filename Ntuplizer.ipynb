{
 "cells": [
  {
   "cell_type": "code",
   "execution_count": null,
   "id": "45595c28",
   "metadata": {
    "ExecuteTime": {
     "end_time": "2022-06-21T09:43:00.909113Z",
     "start_time": "2022-06-21T09:42:58.972975Z"
    }
   },
   "outputs": [],
   "source": [
    "import uproot\n",
    "import matplotlib.pyplot as plt\n",
    "import matplotlib.lines as mlines\n",
    "from matplotlib import colors\n",
    "import matplotlib as mpl \n",
    "mpl.rcParams[\"image.origin\"] = 'lower'\n",
    "# mpl.rcParams[\"image.dpi\"] = 200\n",
    "from sklearn.metrics import auc\n",
    "import os\n",
    "import numpy as np\n",
    "import pandas as pd \n",
    "import awkward as ak \n",
    "import mplhep as hep\n",
    "plt.style.use(hep.style.CMS)"
   ]
  },
  {
   "cell_type": "code",
   "execution_count": null,
   "id": "df0de18f",
   "metadata": {
    "ExecuteTime": {
     "end_time": "2022-06-21T09:42:57.166613Z",
     "start_time": "2022-06-21T09:42:57.163028Z"
    }
   },
   "outputs": [],
   "source": [
    "input_folder = \"/eos/user/b/bmaier/ticl_ml_hackathon/samples/landingzone/single_electron/ntuples/\""
   ]
  },
  {
   "cell_type": "code",
   "execution_count": null,
   "id": "7c1f1e19",
   "metadata": {
    "ExecuteTime": {
     "end_time": "2022-06-21T08:40:51.051054Z",
     "start_time": "2022-06-21T08:40:50.431145Z"
    }
   },
   "outputs": [],
   "source": [
    "f = uproot.open(file)\n",
    "t =  f[\"ticlNtuplizer/tracksters\"]\n",
    "calo = f[\"ticlNtuplizer/simtrackstersCP\"]\n",
    "ass = f[\"ticlNtuplizer/associations\"]"
   ]
  },
  {
   "cell_type": "code",
   "execution_count": null,
   "id": "5083b47e",
   "metadata": {
    "ExecuteTime": {
     "end_time": "2022-06-21T08:40:51.179032Z",
     "start_time": "2022-06-21T08:40:51.167376Z"
    }
   },
   "outputs": [],
   "source": [
    "ass.keys()"
   ]
  },
  {
   "cell_type": "code",
   "execution_count": null,
   "id": "e4671951",
   "metadata": {
    "ExecuteTime": {
     "end_time": "2022-06-20T15:24:54.180971Z",
     "start_time": "2022-06-20T15:24:54.172604Z"
    }
   },
   "outputs": [],
   "source": [
    "calo.keys()"
   ]
  },
  {
   "cell_type": "code",
   "execution_count": 194,
   "id": "159b2ae2",
   "metadata": {
    "ExecuteTime": {
     "end_time": "2022-06-21T12:54:17.370989Z",
     "start_time": "2022-06-21T12:54:17.364443Z"
    }
   },
   "outputs": [
    {
     "data": {
      "text/plain": [
       "['event',\n",
       " 'NClusters',\n",
       " 'NTracksters',\n",
       " 'time',\n",
       " 'timeError',\n",
       " 'regressed_energy',\n",
       " 'raw_energy',\n",
       " 'raw_em_energy',\n",
       " 'raw_pt',\n",
       " 'raw_em_pt',\n",
       " 'barycenter_x',\n",
       " 'barycenter_y',\n",
       " 'barycenter_z',\n",
       " 'trackster_barycenter_eta',\n",
       " 'trackster_barycenter_phi',\n",
       " 'EV1',\n",
       " 'EV2',\n",
       " 'EV3',\n",
       " 'eVector0_x',\n",
       " 'eVector0_y',\n",
       " 'eVector0_z',\n",
       " 'sigmaPCA1',\n",
       " 'sigmaPCA2',\n",
       " 'sigmaPCA3',\n",
       " 'id_probabilities',\n",
       " 'vertices_indexes',\n",
       " 'vertices_x',\n",
       " 'vertices_y',\n",
       " 'vertices_z',\n",
       " 'vertices_energy',\n",
       " 'vertices_correctedEnergy',\n",
       " 'vertices_correctedEnergyUncertainty',\n",
       " 'vertices_multiplicity',\n",
       " 'layer_cluster_seed']"
      ]
     },
     "execution_count": 194,
     "metadata": {},
     "output_type": "execute_result"
    }
   ],
   "source": [
    "t.keys()"
   ]
  },
  {
   "cell_type": "code",
   "execution_count": null,
   "id": "59960d16",
   "metadata": {
    "ExecuteTime": {
     "start_time": "2022-06-21T12:55:41.803Z"
    },
    "scrolled": true
   },
   "outputs": [
    {
     "name": "stdout",
     "output_type": "stream",
     "text": [
      "......................................................................................."
     ]
    }
   ],
   "source": [
    "import glob\n",
    "\n",
    "files = glob.glob(f\"{input_folder}/ntuples_13723002_*.root\")\n",
    "\n",
    "calos = [ ]\n",
    "tracksters = [ ]\n",
    "associations = [ ]\n",
    "\n",
    "i = 0\n",
    "N = 100\n",
    "for file in files:\n",
    "    if i >= N: break\n",
    "    i+=1\n",
    "    try:\n",
    "        print('.', end=\"\")\n",
    "        f = uproot.open(file)\n",
    "        t =  f[\"ticlNtuplizer/tracksters\"]\n",
    "        calo = f[\"ticlNtuplizer/simtrackstersCP\"]\n",
    "        ass = f[\"ticlNtuplizer/associations\"]\n",
    "        calos.append(calo.arrays([\"stsCP_trackster_barycenter_eta\",\"stsCP_trackster_barycenter_phi\",\n",
    "                                  \"stsCP_barycenter_x\",\"stsCP_barycenter_y\",\"stsCP_barycenter_z\"]))\n",
    "        tracksters.append(t.arrays([\"raw_energy\",\"trackster_barycenter_eta\",\"trackster_barycenter_phi\",\n",
    "                                    \"barycenter_x\",\"barycenter_y\",\"barycenter_z\",\"id_probabilities\",\n",
    "                                    \"EV1\", \"EV2\", \"EV3\", \"eVector0_x\", \"eVector0_y\",\"eVector0_z\", \"sigmaPCA1\", \"sigmaPCA2\", \"sigmaPCA3\"]))\n",
    "        associations.append(ass.arrays([ \"tsCLUE3D_recoToSim_CP\", \"tsCLUE3D_recoToSim_CP_score\"]))\n",
    "    except:\n",
    "        print(\"error \", file)\n",
    "        \n",
    "df_calo = ak.concatenate(calos)\n",
    "df_track = ak.concatenate(tracksters)\n",
    "df_ass = ak.concatenate(associations)"
   ]
  },
  {
   "cell_type": "code",
   "execution_count": 188,
   "id": "af13bab8",
   "metadata": {
    "ExecuteTime": {
     "end_time": "2022-06-21T12:52:58.265476Z",
     "start_time": "2022-06-21T12:52:58.258127Z"
    }
   },
   "outputs": [
    {
     "data": {
      "text/plain": [
       "<Array [11, 4, 3, 5, 8, 11, ... 6, 10, 9, 5, 5] type='10000 * int64'>"
      ]
     },
     "execution_count": 188,
     "metadata": {},
     "output_type": "execute_result"
    }
   ],
   "source": [
    "ak.num(df_track.trackster_barycenter_eta)"
   ]
  },
  {
   "cell_type": "code",
   "execution_count": 189,
   "id": "715dca8f",
   "metadata": {
    "ExecuteTime": {
     "end_time": "2022-06-21T12:52:59.332556Z",
     "start_time": "2022-06-21T12:52:59.326190Z"
    }
   },
   "outputs": [
    {
     "data": {
      "text/plain": [
       "<Array [2, 2, 2, 2, 2, 2, ... 2, 2, 2, 2, 2, 2] type='10000 * int64'>"
      ]
     },
     "execution_count": 189,
     "metadata": {},
     "output_type": "execute_result"
    }
   ],
   "source": [
    "ak.num(df_calo.stsCP_trackster_barycenter_eta)"
   ]
  },
  {
   "cell_type": "code",
   "execution_count": null,
   "id": "2c275711",
   "metadata": {
    "ExecuteTime": {
     "end_time": "2022-06-21T12:50:01.404259Z",
     "start_time": "2022-06-21T12:50:01.397609Z"
    }
   },
   "outputs": [],
   "source": [
    "df_ass[0].tolist()"
   ]
  },
  {
   "cell_type": "code",
   "execution_count": null,
   "id": "ea812c57",
   "metadata": {
    "ExecuteTime": {
     "end_time": "2022-06-21T12:50:02.393172Z",
     "start_time": "2022-06-21T12:50:02.387679Z"
    }
   },
   "outputs": [],
   "source": [
    "t.keys()"
   ]
  },
  {
   "cell_type": "code",
   "execution_count": null,
   "id": "df35ab75",
   "metadata": {
    "ExecuteTime": {
     "end_time": "2022-06-21T12:50:03.393502Z",
     "start_time": "2022-06-21T12:50:03.387053Z"
    }
   },
   "outputs": [],
   "source": [
    "df_calo.stsCP_trackster_barycenter_eta"
   ]
  },
  {
   "cell_type": "code",
   "execution_count": null,
   "id": "c89c0ea9",
   "metadata": {
    "ExecuteTime": {
     "end_time": "2022-06-21T12:50:05.314222Z",
     "start_time": "2022-06-21T12:50:04.389421Z"
    }
   },
   "outputs": [],
   "source": [
    "f, ax = plt.subplots(1,2, figsize=(16,8), dpi=150)\n",
    "\n",
    "zmaskP = df_calo.stsCP_trackster_barycenter_eta > 0 \n",
    "zmaskM = df_calo.stsCP_trackster_barycenter_eta < 0 \n",
    "\n",
    "ax[0].hist2d(np.array(ak.flatten(df_calo[zmaskP].stsCP_trackster_barycenter_eta)),\n",
    "             np.array(ak.flatten(df_calo[zmaskP].stsCP_trackster_barycenter_phi)),\n",
    "           bins=(101,101), range=((1.5,3.5),(-3.14,3.14)), cmin=1)\n",
    "ax[0].set_xlabel(\"eta\")\n",
    "ax[0].set_ylabel(\"phi\")\n",
    "\n",
    "ax[1].hist2d(np.array(ak.flatten(df_calo[zmaskM].stsCP_trackster_barycenter_eta)),\n",
    "             np.array(ak.flatten(df_calo[zmaskM].stsCP_trackster_barycenter_phi)),\n",
    "           bins=(101,101), range=((-3.5,-1.5),(-3.14,3.14)), cmin=1)\n",
    "ax[1].set_xlabel(\"eta\")\n",
    "ax[1].set_ylabel(\"phi\")\n"
   ]
  },
  {
   "cell_type": "code",
   "execution_count": null,
   "id": "5e05624c",
   "metadata": {
    "ExecuteTime": {
     "end_time": "2022-06-21T12:50:06.307364Z",
     "start_time": "2022-06-21T12:50:06.300819Z"
    }
   },
   "outputs": [],
   "source": [
    "def in_window_nonumba(calo_eta, calo_phi, calo_z, track_eta, track_phi, track_z, builder):\n",
    "    deta = 0.1\n",
    "    dphi = 0.2\n",
    "    for c_eta, c_phi, c_z, t_eta, t_phi, t_z in zip(calo_eta, calo_phi, calo_z, track_eta, track_phi, track_z):\n",
    "        builder.begin_list()\n",
    "        for (ceta, cphi, cz, teta,tphi, tz) in zip(c_eta, c_phi, c_z, t_eta, t_phi, t_z):\n",
    "            #print(cz, tz, ceta, teta, cphi,tphi)\n",
    "            same_z = np.sign(cz) == np.sign(tz)\n",
    "            in_eta = abs(ceta- teta) < deta\n",
    "            in_phi = abs(((cphi - tphi + np.pi) % (2 * np.pi) - np.pi)) < dphi\n",
    "            builder.append(same_z & in_eta & in_phi)\n",
    "        builder.end_list()\n",
    "    return builder"
   ]
  },
  {
   "cell_type": "code",
   "execution_count": null,
   "id": "db8bbda1",
   "metadata": {
    "ExecuteTime": {
     "end_time": "2022-06-21T12:50:07.294082Z",
     "start_time": "2022-06-21T12:50:07.285655Z"
    }
   },
   "outputs": [],
   "source": [
    "import numba\n",
    "\n",
    "@numba.njit\n",
    "def in_window(calo_eta, calo_phi, calo_z, track_eta, track_phi, track_z, builder):\n",
    "    deta = 0.1\n",
    "    dphi = 0.2\n",
    "    for c_eta, c_phi, c_z, t_eta, t_phi, t_z in zip(calo_eta, calo_phi, calo_z, track_eta, track_phi, track_z):\n",
    "        builder.begin_list()\n",
    "        for (ceta, cphi, cz, teta,tphi, tz) in zip(c_eta, c_phi, c_z, t_eta, t_phi, t_z):\n",
    "            #print(cz, tz, ceta, teta, cphi,tphi)\n",
    "            same_z = np.sign(cz) == np.sign(tz)\n",
    "            in_eta = abs(ceta- teta) < deta\n",
    "            in_phi = abs(((cphi - tphi + np.pi) % (2 * np.pi) - np.pi)) < dphi\n",
    "            builder.append(same_z & in_eta & in_phi)\n",
    "        builder.end_list()\n",
    "    return builder"
   ]
  },
  {
   "cell_type": "code",
   "execution_count": null,
   "id": "2fbc30ad",
   "metadata": {
    "ExecuteTime": {
     "end_time": "2022-06-21T12:50:08.272555Z",
     "start_time": "2022-06-21T12:50:08.264540Z"
    }
   },
   "outputs": [],
   "source": [
    "pairs = ak.argcartesian([df_calo.stsCP_trackster_barycenter_eta, df_track.trackster_barycenter_eta], axis=1)"
   ]
  },
  {
   "cell_type": "code",
   "execution_count": null,
   "id": "56c7d14a",
   "metadata": {
    "ExecuteTime": {
     "end_time": "2022-06-21T12:50:09.248111Z",
     "start_time": "2022-06-21T12:50:09.241563Z"
    }
   },
   "outputs": [],
   "source": [
    "ak.num(df_calo.stsCP_trackster_barycenter_eta)"
   ]
  },
  {
   "cell_type": "code",
   "execution_count": null,
   "id": "7f8e4bcf",
   "metadata": {
    "ExecuteTime": {
     "end_time": "2022-06-21T12:50:10.223225Z",
     "start_time": "2022-06-21T12:50:10.217155Z"
    }
   },
   "outputs": [],
   "source": [
    "ak.num(df_track.trackster_barycenter_eta)"
   ]
  },
  {
   "cell_type": "code",
   "execution_count": null,
   "id": "14d929fd",
   "metadata": {
    "ExecuteTime": {
     "end_time": "2022-06-21T12:50:11.219039Z",
     "start_time": "2022-06-21T12:50:11.215767Z"
    }
   },
   "outputs": [],
   "source": [
    "calo_idx, track_idx = ak.unzip(pairs)"
   ]
  },
  {
   "cell_type": "code",
   "execution_count": null,
   "id": "81634a51",
   "metadata": {
    "ExecuteTime": {
     "end_time": "2022-06-21T12:50:12.203189Z",
     "start_time": "2022-06-21T12:50:12.198265Z"
    }
   },
   "outputs": [],
   "source": [
    "df_calo.eta = df_calo.stsCP_trackster_barycenter_eta\n",
    "df_calo.phi = df_calo.stsCP_trackster_barycenter_phi\n",
    "df_calo.z = df_calo.stsCP_barycenter_z\n",
    "\n",
    "df_track.eta = df_track.trackster_barycenter_eta\n",
    "df_track.phi = df_track.trackster_barycenter_phi\n",
    "df_track.z = df_track.barycenter_z"
   ]
  },
  {
   "cell_type": "code",
   "execution_count": null,
   "id": "1b751453",
   "metadata": {
    "ExecuteTime": {
     "end_time": "2022-06-21T12:50:13.243359Z",
     "start_time": "2022-06-21T12:50:13.219917Z"
    }
   },
   "outputs": [],
   "source": [
    "all_calo_eta = df_calo.stsCP_trackster_barycenter_eta[calo_idx]\n",
    "all_calo_phi = df_calo.stsCP_trackster_barycenter_phi[calo_idx]\n",
    "all_calo_z = df_calo.stsCP_barycenter_z[calo_idx]\n",
    "\n",
    "all_track_eta = df_track.trackster_barycenter_eta[track_idx]\n",
    "all_track_phi = df_track.trackster_barycenter_phi[track_idx]\n",
    "all_track_z = df_track.barycenter_z[track_idx]"
   ]
  },
  {
   "cell_type": "code",
   "execution_count": null,
   "id": "9e24271a",
   "metadata": {
    "ExecuteTime": {
     "end_time": "2022-06-21T12:50:15.141763Z",
     "start_time": "2022-06-21T12:50:14.307698Z"
    }
   },
   "outputs": [],
   "source": [
    "%%timeit\n",
    "out = in_window(all_calo_eta, all_calo_phi, all_calo_z, all_track_eta, all_track_phi,  all_track_z, ak.ArrayBuilder())"
   ]
  },
  {
   "cell_type": "code",
   "execution_count": null,
   "id": "44721a62",
   "metadata": {
    "ExecuteTime": {
     "end_time": "2022-06-21T12:51:08.457444Z",
     "start_time": "2022-06-21T12:50:16.076973Z"
    }
   },
   "outputs": [],
   "source": [
    "%%timeit\n",
    "out = in_window_nonumba(all_calo_eta, all_calo_phi, all_calo_z, all_track_eta, all_track_phi,  all_track_z, ak.ArrayBuilder())"
   ]
  },
  {
   "cell_type": "code",
   "execution_count": null,
   "id": "92d70c61",
   "metadata": {
    "ExecuteTime": {
     "end_time": "2022-06-21T12:51:09.413660Z",
     "start_time": "2022-06-21T12:51:09.399064Z"
    }
   },
   "outputs": [],
   "source": [
    "out = in_window(all_calo_eta, all_calo_phi, all_calo_z, all_track_eta, all_track_phi,  all_track_z, ak.ArrayBuilder())"
   ]
  },
  {
   "cell_type": "code",
   "execution_count": null,
   "id": "1bef4d42",
   "metadata": {
    "ExecuteTime": {
     "end_time": "2022-06-21T12:51:10.384966Z",
     "start_time": "2022-06-21T12:51:10.380114Z"
    }
   },
   "outputs": [],
   "source": [
    "goodpairs = pairs[out]"
   ]
  },
  {
   "cell_type": "markdown",
   "id": "c1f178b2",
   "metadata": {},
   "source": [
    "Now we have the pairs of caloparticle-trackers that are close in a window"
   ]
  },
  {
   "cell_type": "code",
   "execution_count": null,
   "id": "3dcc6463",
   "metadata": {
    "ExecuteTime": {
     "end_time": "2022-06-21T12:51:11.340697Z",
     "start_time": "2022-06-21T12:51:11.337586Z"
    }
   },
   "outputs": [],
   "source": [
    "calo_idx_inwindow, track_idx_inwindow = ak.unzip(goodpairs)"
   ]
  },
  {
   "cell_type": "code",
   "execution_count": null,
   "id": "3cd0b22f",
   "metadata": {
    "ExecuteTime": {
     "end_time": "2022-06-21T12:51:12.335262Z",
     "start_time": "2022-06-21T12:51:12.327313Z"
    }
   },
   "outputs": [],
   "source": [
    "import numba\n",
    "@numba.njit\n",
    "def calo_match_mask(tcks_indices, indices_to_match,builder):\n",
    "    for tr_ind, index_to_match in zip(tcks_indices, indices_to_match):\n",
    "        builder.begin_list()\n",
    "        #Looping other all the calolist for each trackers\n",
    "        for trInd in range(len(tr_ind)):    \n",
    "            calo_indices_for_this_track = tr_ind[trInd]\n",
    "            #print(calo_indices_for_this_track)\n",
    "            builder.begin_list()\n",
    "            for i in range(len(calo_indices_for_this_track)):\n",
    "                # checking if the index is the one to keep\n",
    "                if i == index_to_match[trInd]:\n",
    "                    builder.append(True)\n",
    "                else:\n",
    "                    builder.append(False)\n",
    "            builder.end_list()\n",
    "        builder.end_list()\n",
    "    return builder"
   ]
  },
  {
   "cell_type": "code",
   "execution_count": null,
   "id": "65f4f9ac",
   "metadata": {
    "ExecuteTime": {
     "end_time": "2022-06-21T12:51:13.390019Z",
     "start_time": "2022-06-21T12:51:13.381553Z"
    }
   },
   "outputs": [],
   "source": [
    "masked_score  = ak.mask(df_ass.tsCLUE3D_recoToSim_CP_score, df_ass.tsCLUE3D_recoToSim_CP_score<0.1)"
   ]
  },
  {
   "cell_type": "code",
   "execution_count": null,
   "id": "7ea2a5ec",
   "metadata": {
    "ExecuteTime": {
     "end_time": "2022-06-21T12:51:14.766181Z",
     "start_time": "2022-06-21T12:51:14.418077Z"
    }
   },
   "outputs": [],
   "source": [
    "armin = ak.argmin(masked_score, axis=2)\n",
    "mask_for_calomatching_trackers = calo_match_mask(df_ass.tsCLUE3D_recoToSim_CP, armin, ak.ArrayBuilder())\n",
    "trackers_to_calo = ak.flatten(df_ass.tsCLUE3D_recoToSim_CP[mask_for_calomatching_trackers], axis=-1)"
   ]
  },
  {
   "cell_type": "markdown",
   "id": "27a9aaf4",
   "metadata": {},
   "source": [
    "Now we have the caloindex of each tracker in `trackers_to_calo` and the trackers close to each calo in the `calo_idx_inwindow` and `track_idx_inwindow` arrays"
   ]
  },
  {
   "cell_type": "code",
   "execution_count": null,
   "id": "efa24232",
   "metadata": {
    "ExecuteTime": {
     "end_time": "2022-06-21T12:51:16.956009Z",
     "start_time": "2022-06-21T12:51:15.765686Z"
    },
    "scrolled": true
   },
   "outputs": [],
   "source": [
    "trackers_to_calo.tolist()"
   ]
  },
  {
   "cell_type": "code",
   "execution_count": null,
   "id": "b9115142",
   "metadata": {
    "ExecuteTime": {
     "end_time": "2022-06-21T12:51:22.609788Z",
     "start_time": "2022-06-21T12:51:17.965953Z"
    }
   },
   "outputs": [],
   "source": [
    "goodpairs.tolist()"
   ]
  },
  {
   "cell_type": "markdown",
   "id": "b1d68949",
   "metadata": {},
   "source": [
    "We now can get the indices of all the trackers close a calo 0"
   ]
  },
  {
   "cell_type": "code",
   "execution_count": null,
   "id": "2119409e",
   "metadata": {
    "ExecuteTime": {
     "end_time": "2022-06-21T12:51:24.482515Z",
     "start_time": "2022-06-21T12:51:23.603032Z"
    }
   },
   "outputs": [],
   "source": [
    "track_idx_inwindow[calo_idx_inwindow == 0].tolist()"
   ]
  },
  {
   "cell_type": "code",
   "execution_count": null,
   "id": "720a0f2f",
   "metadata": {
    "ExecuteTime": {
     "end_time": "2022-06-21T12:51:26.341158Z",
     "start_time": "2022-06-21T12:51:25.470783Z"
    }
   },
   "outputs": [],
   "source": [
    "track_idx_inwindow[calo_idx_inwindow == 1].tolist()"
   ]
  },
  {
   "cell_type": "markdown",
   "id": "3e4f688d",
   "metadata": {},
   "source": [
    "Or get the **true** caloparticle matched to each trackers that is in the windo of caloparticle 0"
   ]
  },
  {
   "cell_type": "code",
   "execution_count": null,
   "id": "5fc96b02",
   "metadata": {
    "ExecuteTime": {
     "end_time": "2022-06-21T12:51:29.063038Z",
     "start_time": "2022-06-21T12:51:27.305200Z"
    }
   },
   "outputs": [],
   "source": [
    "(trackers_to_calo[   track_idx_inwindow[calo_idx_inwindow == 0] ] == 0).tolist()"
   ]
  },
  {
   "cell_type": "markdown",
   "id": "6d4720b5",
   "metadata": {},
   "source": [
    "### Extracting info"
   ]
  },
  {
   "cell_type": "code",
   "execution_count": null,
   "id": "10e8cb9b",
   "metadata": {
    "ExecuteTime": {
     "end_time": "2022-06-21T12:51:30.110932Z",
     "start_time": "2022-06-21T12:51:30.105376Z"
    }
   },
   "outputs": [],
   "source": [
    "df_track.type"
   ]
  },
  {
   "cell_type": "code",
   "execution_count": null,
   "id": "5489bfdd",
   "metadata": {
    "ExecuteTime": {
     "end_time": "2022-06-21T12:51:31.159713Z",
     "start_time": "2022-06-21T12:51:31.134214Z"
    }
   },
   "outputs": [],
   "source": [
    "norm_PCAVect = (df_track.eVector0_x **2 + df_track.eVector0_y**2  + df_track.eVector0_z**2)**0.5\n",
    "norm_baryVect = (df_track.barycenter_x **2 + df_track.barycenter_y**2  + df_track.barycenter_z**2)**0.5"
   ]
  },
  {
   "cell_type": "code",
   "execution_count": 142,
   "id": "9f110ee5",
   "metadata": {
    "ExecuteTime": {
     "end_time": "2022-06-21T12:44:51.230030Z",
     "start_time": "2022-06-21T12:44:51.223824Z"
    }
   },
   "outputs": [
    {
     "data": {
      "text/plain": [
       "<Array [[1, 1, 1, 1, 1, 1, ... 1, 1, 1, 1, 1]] type='1000 * var * float32'>"
      ]
     },
     "execution_count": 142,
     "metadata": {},
     "output_type": "execute_result"
    }
   ],
   "source": [
    "norm_vect"
   ]
  },
  {
   "cell_type": "code",
   "execution_count": null,
   "id": "87e93006",
   "metadata": {
    "ExecuteTime": {
     "end_time": "2022-06-21T12:51:32.139269Z",
     "start_time": "2022-06-21T12:51:32.125477Z"
    }
   },
   "outputs": [],
   "source": [
    "prod_scalar = (df_track.barycenter_x * df_track.eVector0_x + df_track.barycenter_y * df_track.eVector0_y + \\\n",
    "                        df_track.barycenter_z * df_track.eVector0_z) /(norm_PCAVect*norm_baryVect)"
   ]
  },
  {
   "cell_type": "code",
   "execution_count": 193,
   "id": "343d4515",
   "metadata": {
    "ExecuteTime": {
     "end_time": "2022-06-21T12:53:45.943877Z",
     "start_time": "2022-06-21T12:53:44.398178Z"
    }
   },
   "outputs": [
    {
     "data": {
      "image/png": "[encoded data removed]",
      "text/plain": [
       "<Figure size 720x720 with 1 Axes>"
      ]
     },
     "metadata": {
      "needs_background": "light"
     },
     "output_type": "display_data"
    }
   ],
   "source": [
    "plt.hist(ak.flatten(prod_scalar[df_track.raw_energy< 5] ), bins=50, density=True, histtype=\"step\", label=\"LowEn < 5 GeV\")\n",
    "plt.hist(ak.flatten(prod_scalar[df_track.raw_energy> 5] ), bins=50, density=True, histtype=\"step\", label=\"highEn > 5 GeV\")\n",
    "plt.legend()\n",
    "plt.xlabel(\"barycenter @ PCA\")\n",
    "plt.yscale(\"log\")"
   ]
  },
  {
   "cell_type": "code",
   "execution_count": null,
   "id": "c2055ebf",
   "metadata": {},
   "outputs": [],
   "source": []
  },
  {
   "cell_type": "code",
   "execution_count": null,
   "id": "c4f25a8f",
   "metadata": {},
   "outputs": [],
   "source": []
  },
  {
   "cell_type": "code",
   "execution_count": null,
   "id": "16befb45",
   "metadata": {},
   "outputs": [],
   "source": []
  },
  {
   "cell_type": "code",
   "execution_count": null,
   "id": "59917406",
   "metadata": {},
   "outputs": [],
   "source": []
  }
 ],
 "metadata": {
  "kernelspec": {
   "display_name": "Python 3",
   "language": "python",
   "name": "python3"
  },
  "language_info": {
   "codemirror_mode": {
    "name": "ipython",
    "version": 3
   },
   "file_extension": ".py",
   "mimetype": "text/x-python",
   "name": "python",
   "nbconvert_exporter": "python",
   "pygments_lexer": "ipython3",
   "version": "3.9.6"
  },
  "toc": {
   "base_numbering": 1,
   "nav_menu": {},
   "number_sections": true,
   "sideBar": true,
   "skip_h1_title": false,
   "title_cell": "Table of Contents",
   "title_sidebar": "Contents",
   "toc_cell": false,
   "toc_position": {},
   "toc_section_display": true,
   "toc_window_display": false
  },
  "varInspector": {
   "cols": {
    "lenName": 16,
    "lenType": 16,
    "lenVar": 40
   },
   "kernels_config": {
    "python": {
     "delete_cmd_postfix": "",
     "delete_cmd_prefix": "del ",
     "library": "var_list.py",
     "varRefreshCmd": "print(var_dic_list())"
    },
    "r": {
     "delete_cmd_postfix": ") ",
     "delete_cmd_prefix": "rm(",
     "library": "var_list.r",
     "varRefreshCmd": "cat(var_dic_list()) "
    }
   },
   "types_to_exclude": [
    "module",
    "function",
    "builtin_function_or_method",
    "instance",
    "_Feature"
   ],
   "window_display": false
  }
 },
 "nbformat": 4,
 "nbformat_minor": 5
}
