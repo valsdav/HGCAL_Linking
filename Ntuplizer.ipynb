{
 "cells": [
  {
   "cell_type": "code",
   "execution_count": 1,
   "id": "45595c28",
   "metadata": {
    "ExecuteTime": {
     "end_time": "2022-06-21T13:48:10.283013Z",
     "start_time": "2022-06-21T13:48:04.582003Z"
    }
   },
   "outputs": [],
   "source": [
    "import uproot\n",
    "import matplotlib.pyplot as plt\n",
    "import matplotlib.lines as mlines\n",
    "from matplotlib import colors\n",
    "import matplotlib as mpl \n",
    "mpl.rcParams[\"image.origin\"] = 'lower'\n",
    "# mpl.rcParams[\"image.dpi\"] = 200\n",
    "from sklearn.metrics import auc\n",
    "import os\n",
    "import numpy as np\n",
    "import pandas as pd \n",
    "import awkward as ak \n",
    "import mplhep as hep\n",
    "plt.style.use(hep.style.CMS)"
   ]
  },
  {
   "cell_type": "code",
   "execution_count": 2,
   "id": "df0de18f",
   "metadata": {
    "ExecuteTime": {
     "end_time": "2022-06-21T13:48:10.351407Z",
     "start_time": "2022-06-21T13:48:10.348516Z"
    }
   },
   "outputs": [],
   "source": [
    "input_folder = \"/eos/user/b/bmaier/ticl_ml_hackathon/samples/landingzone/single_electron/ntuples/\""
   ]
  },
  {
   "cell_type": "code",
   "execution_count": null,
   "id": "7c1f1e19",
   "metadata": {
    "ExecuteTime": {
     "end_time": "2022-06-21T08:40:51.051054Z",
     "start_time": "2022-06-21T08:40:50.431145Z"
    }
   },
   "outputs": [],
   "source": [
    "f = uproot.open(file)\n",
    "t =  f[\"ticlNtuplizer/tracksters\"]\n",
    "calo = f[\"ticlNtuplizer/simtrackstersCP\"]\n",
    "ass = f[\"ticlNtuplizer/associations\"]"
   ]
  },
  {
   "cell_type": "code",
   "execution_count": null,
   "id": "142bc957",
   "metadata": {
    "ExecuteTime": {
     "end_time": "2022-06-21T08:40:51.179032Z",
     "start_time": "2022-06-21T08:40:51.167376Z"
    }
   },
   "outputs": [],
   "source": [
    "ass.keys()"
   ]
  },
  {
   "cell_type": "code",
   "execution_count": 353,
   "id": "e4671951",
   "metadata": {
    "ExecuteTime": {
     "end_time": "2022-06-21T13:37:10.408220Z",
     "start_time": "2022-06-21T13:37:10.397879Z"
    }
   },
   "outputs": [
    {
     "data": {
      "text/plain": [
       "['stsCP_event',\n",
       " 'stsCP_NClusters',\n",
       " 'stsCP_NTracksters',\n",
       " 'stsCP_time',\n",
       " 'stsCP_timeError',\n",
       " 'stsCP_regressed_energy',\n",
       " 'stsCP_raw_energy',\n",
       " 'stsCP_raw_em_energy',\n",
       " 'stsCP_raw_pt',\n",
       " 'stsCP_raw_em_pt',\n",
       " 'stsCP_barycenter_x',\n",
       " 'stsCP_barycenter_y',\n",
       " 'stsCP_barycenter_z',\n",
       " 'stsCP_trackster_barycenter_eta',\n",
       " 'stsCP_trackster_barycenter_phi',\n",
       " 'stsCP_EV1',\n",
       " 'stsCP_EV2',\n",
       " 'stsCP_EV3',\n",
       " 'stsCP_eVector0_x',\n",
       " 'stsCP_eVector0_y',\n",
       " 'stsCP_eVector0_z',\n",
       " 'stsCP_sigmaPCA1',\n",
       " 'stsCP_sigmaPCA2',\n",
       " 'stsCP_sigmaPCA3',\n",
       " 'stsCP_id_probabilities',\n",
       " 'stsCP_vertices_indexes',\n",
       " 'stsCP_vertices_x',\n",
       " 'stsCP_vertices_y',\n",
       " 'stsCP_vertices_z',\n",
       " 'stsCP_vertices_energy',\n",
       " 'stsCP_vertices_correctedEnergy',\n",
       " 'stsCP_vertices_correctedEnergyUncertainty',\n",
       " 'stsCP_vertices_multiplicity']"
      ]
     },
     "execution_count": 353,
     "metadata": {},
     "output_type": "execute_result"
    }
   ],
   "source": [
    "calo.keys()"
   ]
  },
  {
   "cell_type": "code",
   "execution_count": 194,
   "id": "4967967e",
   "metadata": {
    "ExecuteTime": {
     "end_time": "2022-06-21T12:54:17.370989Z",
     "start_time": "2022-06-21T12:54:17.364443Z"
    }
   },
   "outputs": [
    {
     "data": {
      "text/plain": [
       "['event',\n",
       " 'NClusters',\n",
       " 'NTracksters',\n",
       " 'time',\n",
       " 'timeError',\n",
       " 'regressed_energy',\n",
       " 'raw_energy',\n",
       " 'raw_em_energy',\n",
       " 'raw_pt',\n",
       " 'raw_em_pt',\n",
       " 'barycenter_x',\n",
       " 'barycenter_y',\n",
       " 'barycenter_z',\n",
       " 'trackster_barycenter_eta',\n",
       " 'trackster_barycenter_phi',\n",
       " 'EV1',\n",
       " 'EV2',\n",
       " 'EV3',\n",
       " 'eVector0_x',\n",
       " 'eVector0_y',\n",
       " 'eVector0_z',\n",
       " 'sigmaPCA1',\n",
       " 'sigmaPCA2',\n",
       " 'sigmaPCA3',\n",
       " 'id_probabilities',\n",
       " 'vertices_indexes',\n",
       " 'vertices_x',\n",
       " 'vertices_y',\n",
       " 'vertices_z',\n",
       " 'vertices_energy',\n",
       " 'vertices_correctedEnergy',\n",
       " 'vertices_correctedEnergyUncertainty',\n",
       " 'vertices_multiplicity',\n",
       " 'layer_cluster_seed']"
      ]
     },
     "execution_count": 194,
     "metadata": {},
     "output_type": "execute_result"
    }
   ],
   "source": [
    "t.keys()"
   ]
  },
  {
   "cell_type": "code",
   "execution_count": null,
   "id": "59960d16",
   "metadata": {
    "ExecuteTime": {
     "start_time": "2022-06-21T13:49:13.945Z"
    },
    "scrolled": true
   },
   "outputs": [
    {
     "name": "stdout",
     "output_type": "stream",
     "text": [
      "............................................................................................................................................................................................................................................................................................................................................................................................................................................................................................................."
     ]
    }
   ],
   "source": [
    "import glob\n",
    "\n",
    "files = glob.glob(f\"{input_folder}/ntuples_13723002_*.root\")\n",
    "\n",
    "calos = [ ]\n",
    "tracksters = [ ]\n",
    "associations = [ ]\n",
    "\n",
    "i = 0\n",
    "N = 10000000\n",
    "for file in files:\n",
    "    if i >= N: break\n",
    "    i+=1\n",
    "    try:\n",
    "        print('.', end=\"\")\n",
    "        f = uproot.open(file)\n",
    "        t =  f[\"ticlNtuplizer/tracksters\"]\n",
    "        calo = f[\"ticlNtuplizer/simtrackstersCP\"]\n",
    "        ass = f[\"ticlNtuplizer/associations\"]\n",
    "        calos.append(calo.arrays([\"stsCP_trackster_barycenter_eta\",\"stsCP_trackster_barycenter_phi\",\n",
    "                                  \"stsCP_barycenter_x\",\"stsCP_barycenter_y\",\"stsCP_barycenter_z\",\"stsCP_raw_energy\"]))\n",
    "        tracksters.append(t.arrays([\"raw_energy\",\"raw_em_energy\", \"trackster_barycenter_eta\",\"trackster_barycenter_phi\",\n",
    "                                    \"barycenter_x\",\"barycenter_y\",\"barycenter_z\",\"id_probabilities\",\n",
    "                                    \"EV1\", \"EV2\", \"EV3\", \"eVector0_x\", \"eVector0_y\",\"eVector0_z\", \"sigmaPCA1\", \"sigmaPCA2\", \"sigmaPCA3\"]))\n",
    "        associations.append(ass.arrays([ \"tsCLUE3D_recoToSim_CP\", \"tsCLUE3D_recoToSim_CP_score\"]))\n",
    "    except:\n",
    "        print(\"error \", file)\n",
    "        \n",
    "df_calo = ak.concatenate(calos)\n",
    "df_track = ak.concatenate(tracksters)\n",
    "df_ass = ak.concatenate(associations)"
   ]
  },
  {
   "cell_type": "code",
   "execution_count": 271,
   "id": "7af9f8ed",
   "metadata": {
    "ExecuteTime": {
     "end_time": "2022-06-21T13:11:31.907156Z",
     "start_time": "2022-06-21T13:11:31.856469Z"
    }
   },
   "outputs": [],
   "source": [
    "EM_mask = ((df_track.id_probabilities[:,:,0] + df_track.id_probabilities[:,:,1])> 0.5) | ((df_track.raw_em_energy / df_track.raw_energy ) > 0.9)\n",
    "df_track_EM = df_track[EM_mask]"
   ]
  },
  {
   "cell_type": "code",
   "execution_count": 272,
   "id": "d7b6eba3",
   "metadata": {
    "ExecuteTime": {
     "end_time": "2022-06-21T13:11:34.537346Z",
     "start_time": "2022-06-21T13:11:33.331639Z"
    }
   },
   "outputs": [
    {
     "data": {
      "text/plain": [
       "(array([ 4058.,   246.,   333.,   376.,   395.,   412.,   481.,   536.,\n",
       "          567.,   569.,   578.,   563.,   577.,   571.,   530.,   506.,\n",
       "          480.,   471.,   518.,   485.,   530.,   559.,   528.,   581.,\n",
       "          605.,   679.,   672.,   798.,   862.,   978.,  1163.,  1351.,\n",
       "         1844.,  2425.,  3261.,  4642.,  5655.,  6971., 18938., 34639.]),\n",
       " array([0.   , 0.025, 0.05 , 0.075, 0.1  , 0.125, 0.15 , 0.175, 0.2  ,\n",
       "        0.225, 0.25 , 0.275, 0.3  , 0.325, 0.35 , 0.375, 0.4  , 0.425,\n",
       "        0.45 , 0.475, 0.5  , 0.525, 0.55 , 0.575, 0.6  , 0.625, 0.65 ,\n",
       "        0.675, 0.7  , 0.725, 0.75 , 0.775, 0.8  , 0.825, 0.85 , 0.875,\n",
       "        0.9  , 0.925, 0.95 , 0.975, 1.   ]),\n",
       " [<matplotlib.patches.Polygon at 0x7f7205d37610>])"
      ]
     },
     "execution_count": 272,
     "metadata": {},
     "output_type": "execute_result"
    },
    {
     "data": {
      "image/png": "[encoded data removed]",
      "text/plain": [
       "<Figure size 720x720 with 1 Axes>"
      ]
     },
     "metadata": {
      "needs_background": "light"
     },
     "output_type": "display_data"
    }
   ],
   "source": [
    "plt.hist(ak.flatten(df_track.id_probabilities[:,:,0]+df_track.id_probabilities[:,:,1]), bins=40, range=(0,1), linewidth=2, histtype='step' )\n",
    "#plt.legend()"
   ]
  },
  {
   "cell_type": "code",
   "execution_count": 274,
   "id": "fe4fb20d",
   "metadata": {
    "ExecuteTime": {
     "end_time": "2022-06-21T13:11:49.709816Z",
     "start_time": "2022-06-21T13:11:48.192029Z"
    }
   },
   "outputs": [
    {
     "data": {
      "image/png": "[encoded data removed]",
      "text/plain": [
       "<Figure size 720x720 with 1 Axes>"
      ]
     },
     "metadata": {
      "needs_background": "light"
     },
     "output_type": "display_data"
    }
   ],
   "source": [
    "plt.hist(ak.flatten(df_track.raw_em_energy / df_track.raw_energy), bins=40, range=(0,1), linewidth=2, histtype='step' )\n",
    "plt.yscale(\"log\")\n",
    "#plt.legend()"
   ]
  },
  {
   "cell_type": "code",
   "execution_count": 275,
   "id": "caa735c9",
   "metadata": {
    "ExecuteTime": {
     "end_time": "2022-06-21T13:11:52.428634Z",
     "start_time": "2022-06-21T13:11:52.417907Z"
    }
   },
   "outputs": [
    {
     "data": {
      "text/plain": [
       "<Array [11, 4, 3, 5, 8, 11, ... 4, 3, 4, 3, 5] type='15000 * int64'>"
      ]
     },
     "execution_count": 275,
     "metadata": {},
     "output_type": "execute_result"
    }
   ],
   "source": [
    "ak.num(df_track.trackster_barycenter_eta[EM_mask])"
   ]
  },
  {
   "cell_type": "code",
   "execution_count": 276,
   "id": "f231a30c",
   "metadata": {
    "ExecuteTime": {
     "end_time": "2022-06-21T13:11:53.895052Z",
     "start_time": "2022-06-21T13:11:53.887716Z"
    }
   },
   "outputs": [
    {
     "data": {
      "text/plain": [
       "<Array [2, 2, 2, 2, 2, 2, ... 2, 2, 2, 2, 2, 2] type='15000 * int64'>"
      ]
     },
     "execution_count": 276,
     "metadata": {},
     "output_type": "execute_result"
    }
   ],
   "source": [
    "ak.num(df_calo.stsCP_trackster_barycenter_eta)"
   ]
  },
  {
   "cell_type": "code",
   "execution_count": 277,
   "id": "c89c0ea9",
   "metadata": {
    "ExecuteTime": {
     "end_time": "2022-06-21T13:11:57.161479Z",
     "start_time": "2022-06-21T13:11:56.184291Z"
    }
   },
   "outputs": [
    {
     "data": {
      "text/plain": [
       "Text(0, 1, 'phi')"
      ]
     },
     "execution_count": 277,
     "metadata": {},
     "output_type": "execute_result"
    },
    {
     "data": {
      "image/png": "[encoded data removed]",
      "text/plain": [
       "<Figure size 2400x1200 with 2 Axes>"
      ]
     },
     "metadata": {
      "needs_background": "light"
     },
     "output_type": "display_data"
    }
   ],
   "source": [
    "f, ax = plt.subplots(1,2, figsize=(16,8), dpi=150)\n",
    "\n",
    "zmaskP = df_calo.stsCP_trackster_barycenter_eta > 0 \n",
    "zmaskM = df_calo.stsCP_trackster_barycenter_eta < 0 \n",
    "\n",
    "ax[0].hist2d(np.array(ak.flatten(df_calo[zmaskP].stsCP_trackster_barycenter_eta)),\n",
    "             np.array(ak.flatten(df_calo[zmaskP].stsCP_trackster_barycenter_phi)),\n",
    "           bins=(101,101), range=((1.5,3.5),(-3.14,3.14)), cmin=1)\n",
    "ax[0].set_xlabel(\"eta\")\n",
    "ax[0].set_ylabel(\"phi\")\n",
    "\n",
    "ax[1].hist2d(np.array(ak.flatten(df_calo[zmaskM].stsCP_trackster_barycenter_eta)),\n",
    "             np.array(ak.flatten(df_calo[zmaskM].stsCP_trackster_barycenter_phi)),\n",
    "           bins=(101,101), range=((-3.5,-1.5),(-3.14,3.14)), cmin=1)\n",
    "ax[1].set_xlabel(\"eta\")\n",
    "ax[1].set_ylabel(\"phi\")\n"
   ]
  },
  {
   "cell_type": "code",
   "execution_count": 278,
   "id": "d1aaa3a4",
   "metadata": {
    "ExecuteTime": {
     "end_time": "2022-06-21T13:11:59.472095Z",
     "start_time": "2022-06-21T13:11:59.463498Z"
    }
   },
   "outputs": [],
   "source": [
    "def in_window_nonumba(calo_eta, calo_phi, calo_z, track_eta, track_phi, track_z, builder):\n",
    "    deta = 0.1\n",
    "    dphi = 0.2\n",
    "    for c_eta, c_phi, c_z, t_eta, t_phi, t_z in zip(calo_eta, calo_phi, calo_z, track_eta, track_phi, track_z):\n",
    "        builder.begin_list()\n",
    "        for (ceta, cphi, cz, teta,tphi, tz) in zip(c_eta, c_phi, c_z, t_eta, t_phi, t_z):\n",
    "            #print(cz, tz, ceta, teta, cphi,tphi)\n",
    "            same_z = np.sign(cz) == np.sign(tz)\n",
    "            in_eta = abs(ceta- teta) < deta\n",
    "            in_phi = abs(((cphi - tphi + np.pi) % (2 * np.pi) - np.pi)) < dphi\n",
    "            builder.append(same_z & in_eta & in_phi)\n",
    "        builder.end_list()\n",
    "    return builder"
   ]
  },
  {
   "cell_type": "code",
   "execution_count": 279,
   "id": "db8bbda1",
   "metadata": {
    "ExecuteTime": {
     "end_time": "2022-06-21T13:12:00.994267Z",
     "start_time": "2022-06-21T13:12:00.983869Z"
    }
   },
   "outputs": [],
   "source": [
    "import numba\n",
    "\n",
    "@numba.njit\n",
    "def in_window(calo_eta, calo_phi, calo_z, track_eta, track_phi, track_z, builder):\n",
    "    deta = 0.1\n",
    "    dphi = 0.2\n",
    "    for c_eta, c_phi, c_z, t_eta, t_phi, t_z in zip(calo_eta, calo_phi, calo_z, track_eta, track_phi, track_z):\n",
    "        builder.begin_list()\n",
    "        for (ceta, cphi, cz, teta,tphi, tz) in zip(c_eta, c_phi, c_z, t_eta, t_phi, t_z):\n",
    "            #print(cz, tz, ceta, teta, cphi,tphi)\n",
    "            same_z = np.sign(cz) == np.sign(tz)\n",
    "            in_eta = abs(ceta- teta) < deta\n",
    "            in_phi = abs(((cphi - tphi + np.pi) % (2 * np.pi) - np.pi)) < dphi\n",
    "            builder.append(same_z & in_eta & in_phi)\n",
    "        builder.end_list()\n",
    "    return builder"
   ]
  },
  {
   "cell_type": "code",
   "execution_count": 280,
   "id": "2fbc30ad",
   "metadata": {
    "ExecuteTime": {
     "end_time": "2022-06-21T13:12:02.363144Z",
     "start_time": "2022-06-21T13:12:02.352702Z"
    }
   },
   "outputs": [],
   "source": [
    "pairs = ak.argcartesian([df_calo.stsCP_trackster_barycenter_eta, df_track_EM.trackster_barycenter_eta], axis=1)"
   ]
  },
  {
   "cell_type": "code",
   "execution_count": 281,
   "id": "56c7d14a",
   "metadata": {
    "ExecuteTime": {
     "end_time": "2022-06-21T13:12:03.781344Z",
     "start_time": "2022-06-21T13:12:03.774562Z"
    }
   },
   "outputs": [
    {
     "data": {
      "text/plain": [
       "<Array [2, 2, 2, 2, 2, 2, ... 2, 2, 2, 2, 2, 2] type='15000 * int64'>"
      ]
     },
     "execution_count": 281,
     "metadata": {},
     "output_type": "execute_result"
    }
   ],
   "source": [
    "ak.num(df_calo.stsCP_trackster_barycenter_eta)"
   ]
  },
  {
   "cell_type": "code",
   "execution_count": 282,
   "id": "7f8e4bcf",
   "metadata": {
    "ExecuteTime": {
     "end_time": "2022-06-21T13:12:05.167540Z",
     "start_time": "2022-06-21T13:12:05.160616Z"
    }
   },
   "outputs": [
    {
     "data": {
      "text/plain": [
       "<Array [11, 4, 3, 5, 8, 11, ... 4, 3, 4, 3, 5] type='15000 * int64'>"
      ]
     },
     "execution_count": 282,
     "metadata": {},
     "output_type": "execute_result"
    }
   ],
   "source": [
    "ak.num(df_track_EM.trackster_barycenter_eta)"
   ]
  },
  {
   "cell_type": "code",
   "execution_count": 283,
   "id": "14d929fd",
   "metadata": {
    "ExecuteTime": {
     "end_time": "2022-06-21T13:12:06.575058Z",
     "start_time": "2022-06-21T13:12:06.571866Z"
    }
   },
   "outputs": [],
   "source": [
    "calo_idx, track_idx = ak.unzip(pairs)"
   ]
  },
  {
   "cell_type": "code",
   "execution_count": 284,
   "id": "81634a51",
   "metadata": {
    "ExecuteTime": {
     "end_time": "2022-06-21T13:12:07.950588Z",
     "start_time": "2022-06-21T13:12:07.945467Z"
    }
   },
   "outputs": [],
   "source": [
    "df_calo.eta = df_calo.stsCP_trackster_barycenter_eta\n",
    "df_calo.phi = df_calo.stsCP_trackster_barycenter_phi\n",
    "df_calo.z = df_calo.stsCP_barycenter_z\n",
    "\n",
    "df_track.eta = df_track_EM.trackster_barycenter_eta\n",
    "df_track.phi = df_track_EM.trackster_barycenter_phi\n",
    "df_track.z = df_track_EM.barycenter_z"
   ]
  },
  {
   "cell_type": "code",
   "execution_count": 285,
   "id": "1b751453",
   "metadata": {
    "ExecuteTime": {
     "end_time": "2022-06-21T13:12:09.404025Z",
     "start_time": "2022-06-21T13:12:09.374971Z"
    }
   },
   "outputs": [],
   "source": [
    "all_calo_eta = df_calo.stsCP_trackster_barycenter_eta[calo_idx]\n",
    "all_calo_phi = df_calo.stsCP_trackster_barycenter_phi[calo_idx]\n",
    "all_calo_z = df_calo.stsCP_barycenter_z[calo_idx]\n",
    "\n",
    "all_track_eta = df_track_EM.trackster_barycenter_eta[track_idx]\n",
    "all_track_phi = df_track_EM.trackster_barycenter_phi[track_idx]\n",
    "all_track_z = df_track_EM.barycenter_z[track_idx]"
   ]
  },
  {
   "cell_type": "code",
   "execution_count": 286,
   "id": "9e24271a",
   "metadata": {
    "ExecuteTime": {
     "end_time": "2022-06-21T13:12:11.655588Z",
     "start_time": "2022-06-21T13:12:10.845635Z"
    }
   },
   "outputs": [
    {
     "name": "stdout",
     "output_type": "stream",
     "text": [
      "14.6 ms ± 422 µs per loop (mean ± std. dev. of 7 runs, 1 loop each)\n"
     ]
    }
   ],
   "source": [
    "%%timeit\n",
    "out = in_window(all_calo_eta, all_calo_phi, all_calo_z, all_track_eta, all_track_phi,  all_track_z, ak.ArrayBuilder())"
   ]
  },
  {
   "cell_type": "code",
   "execution_count": 287,
   "id": "33ea8fb2",
   "metadata": {
    "ExecuteTime": {
     "end_time": "2022-06-21T13:13:30.241785Z",
     "start_time": "2022-06-21T13:12:13.012003Z"
    }
   },
   "outputs": [
    {
     "name": "stdout",
     "output_type": "stream",
     "text": [
      "9.68 s ± 258 ms per loop (mean ± std. dev. of 7 runs, 1 loop each)\n"
     ]
    }
   ],
   "source": [
    "%%timeit\n",
    "out = in_window_nonumba(all_calo_eta, all_calo_phi, all_calo_z, all_track_eta, all_track_phi,  all_track_z, ak.ArrayBuilder())"
   ]
  },
  {
   "cell_type": "code",
   "execution_count": 288,
   "id": "92d70c61",
   "metadata": {
    "ExecuteTime": {
     "end_time": "2022-06-21T13:13:31.692599Z",
     "start_time": "2022-06-21T13:13:31.673014Z"
    }
   },
   "outputs": [],
   "source": [
    "out = in_window(all_calo_eta, all_calo_phi, all_calo_z, all_track_eta, all_track_phi,  all_track_z, ak.ArrayBuilder())"
   ]
  },
  {
   "cell_type": "code",
   "execution_count": 289,
   "id": "054b46c7",
   "metadata": {
    "ExecuteTime": {
     "end_time": "2022-06-21T13:13:33.095171Z",
     "start_time": "2022-06-21T13:13:33.089904Z"
    }
   },
   "outputs": [],
   "source": [
    "goodpairs = pairs[out]"
   ]
  },
  {
   "cell_type": "markdown",
   "id": "e5eb6e12",
   "metadata": {},
   "source": [
    "Now we have the pairs of caloparticle-trackers that are close in a window"
   ]
  },
  {
   "cell_type": "code",
   "execution_count": 292,
   "id": "34a9114f",
   "metadata": {
    "ExecuteTime": {
     "end_time": "2022-06-21T13:13:42.955642Z",
     "start_time": "2022-06-21T13:13:42.950869Z"
    }
   },
   "outputs": [],
   "source": [
    "calo_idx_inwindow, track_idx_inwindow = ak.unzip(goodpairs)"
   ]
  },
  {
   "cell_type": "code",
   "execution_count": 293,
   "id": "3cd0b22f",
   "metadata": {
    "ExecuteTime": {
     "end_time": "2022-06-21T13:13:44.416325Z",
     "start_time": "2022-06-21T13:13:44.409251Z"
    }
   },
   "outputs": [],
   "source": [
    "import numba\n",
    "@numba.njit\n",
    "def calo_match_mask(tcks_indices, indices_to_match,builder):\n",
    "    for tr_ind, index_to_match in zip(tcks_indices, indices_to_match):\n",
    "        builder.begin_list()\n",
    "        #Looping other all the calolist for each trackers\n",
    "        for trInd in range(len(tr_ind)):    \n",
    "            calo_indices_for_this_track = tr_ind[trInd]\n",
    "            #print(calo_indices_for_this_track)\n",
    "            builder.begin_list()\n",
    "            for i in range(len(calo_indices_for_this_track)):\n",
    "                # checking if the index is the one to keep\n",
    "                if i == index_to_match[trInd]:\n",
    "                    builder.append(True)\n",
    "                else:\n",
    "                    builder.append(False)\n",
    "            builder.end_list()\n",
    "        builder.end_list()\n",
    "    return builder"
   ]
  },
  {
   "cell_type": "code",
   "execution_count": 294,
   "id": "10a9b51d",
   "metadata": {
    "ExecuteTime": {
     "end_time": "2022-06-21T13:13:45.995653Z",
     "start_time": "2022-06-21T13:13:45.986554Z"
    }
   },
   "outputs": [],
   "source": [
    "masked_score  = ak.mask(df_ass.tsCLUE3D_recoToSim_CP_score, df_ass.tsCLUE3D_recoToSim_CP_score<0.1)"
   ]
  },
  {
   "cell_type": "code",
   "execution_count": 295,
   "id": "b16ee54a",
   "metadata": {
    "ExecuteTime": {
     "end_time": "2022-06-21T13:13:47.835410Z",
     "start_time": "2022-06-21T13:13:47.449786Z"
    }
   },
   "outputs": [],
   "source": [
    "armin = ak.argmin(masked_score, axis=2)\n",
    "mask_for_calomatching_trackers = calo_match_mask(df_ass.tsCLUE3D_recoToSim_CP, armin, ak.ArrayBuilder())\n",
    "# Apply also the EM mask on all the trackers, the index goes on top of the trackers index\n",
    "trackers_to_calo = ak.flatten(df_ass.tsCLUE3D_recoToSim_CP[mask_for_calomatching_trackers], axis=-1)[EM_mask]"
   ]
  },
  {
   "cell_type": "markdown",
   "id": "10f22533",
   "metadata": {},
   "source": [
    "Now we have the caloindex of each tracker in `trackers_to_calo` and the trackers close to each calo in the `calo_idx_inwindow` and `track_idx_inwindow` arrays"
   ]
  },
  {
   "cell_type": "code",
   "execution_count": 299,
   "id": "305fae22",
   "metadata": {
    "ExecuteTime": {
     "end_time": "2022-06-21T13:14:19.282150Z",
     "start_time": "2022-06-21T13:14:19.268791Z"
    },
    "scrolled": true
   },
   "outputs": [
    {
     "data": {
      "text/plain": [
       "[[0, 0, 0, 1, 1, 1, 1, 1, 1, 1, 1],\n",
       " [0, 0, 1, 1],\n",
       " [0, 0, 1],\n",
       " [0, 0, 1, 1, 1],\n",
       " [0, 0, 0, 0, 0, 1, 1, 1],\n",
       " [0, 0, 0, 0, 0, 0, 1, 1, 1, 1, 1],\n",
       " [0, 1, 1],\n",
       " [0, 0, 0, 1, 1, 1],\n",
       " [0, 0, 0, 0, 1, 1, 1, 1, 1, 1],\n",
       " [0, 0, 1, 1]]"
      ]
     },
     "execution_count": 299,
     "metadata": {},
     "output_type": "execute_result"
    }
   ],
   "source": [
    "trackers_to_calo[0:10].tolist()"
   ]
  },
  {
   "cell_type": "code",
   "execution_count": 301,
   "id": "12a6577e",
   "metadata": {
    "ExecuteTime": {
     "end_time": "2022-06-21T13:14:26.069136Z",
     "start_time": "2022-06-21T13:14:26.058765Z"
    }
   },
   "outputs": [
    {
     "data": {
      "text/plain": [
       "[[(0, 0), (0, 1), (0, 2), (1, 4), (1, 5), (1, 6), (1, 7), (1, 8), (1, 10)],\n",
       " [(0, 0), (0, 1), (1, 2), (1, 3)],\n",
       " [(0, 0), (0, 1), (1, 2)],\n",
       " [(0, 0), (0, 1), (1, 2), (1, 3), (1, 4)],\n",
       " [(0, 2), (0, 3), (0, 4), (1, 5), (1, 6), (1, 7)]]"
      ]
     },
     "execution_count": 301,
     "metadata": {},
     "output_type": "execute_result"
    }
   ],
   "source": [
    "goodpairs[0:5].tolist()"
   ]
  },
  {
   "cell_type": "markdown",
   "id": "32c27e8c",
   "metadata": {},
   "source": [
    "We now can get the indices of all the trackers close a calo 0"
   ]
  },
  {
   "cell_type": "code",
   "execution_count": 302,
   "id": "88d1f94e",
   "metadata": {
    "ExecuteTime": {
     "end_time": "2022-06-21T13:14:31.009032Z",
     "start_time": "2022-06-21T13:14:30.999659Z"
    }
   },
   "outputs": [
    {
     "data": {
      "text/plain": [
       "[[0, 1, 2], [0, 1], [0, 1], [0, 1], [2, 3, 4]]"
      ]
     },
     "execution_count": 302,
     "metadata": {},
     "output_type": "execute_result"
    }
   ],
   "source": [
    "track_idx_inwindow[calo_idx_inwindow == 0][0:5].tolist()"
   ]
  },
  {
   "cell_type": "code",
   "execution_count": 303,
   "id": "4130c835",
   "metadata": {
    "ExecuteTime": {
     "end_time": "2022-06-21T13:14:38.587453Z",
     "start_time": "2022-06-21T13:14:38.575327Z"
    }
   },
   "outputs": [
    {
     "data": {
      "text/plain": [
       "[[4, 5, 6, 7, 8, 10], [2, 3], [2], [2, 3, 4], [5, 6, 7]]"
      ]
     },
     "execution_count": 303,
     "metadata": {},
     "output_type": "execute_result"
    }
   ],
   "source": [
    "track_idx_inwindow[calo_idx_inwindow == 1][0:5].tolist()"
   ]
  },
  {
   "cell_type": "markdown",
   "id": "64bf18c5",
   "metadata": {},
   "source": [
    "Or get the **true** caloparticle matched to each trackers that is in the windo of caloparticle 0"
   ]
  },
  {
   "cell_type": "code",
   "execution_count": 304,
   "id": "51bdb254",
   "metadata": {
    "ExecuteTime": {
     "end_time": "2022-06-21T13:14:57.756271Z",
     "start_time": "2022-06-21T13:14:57.745511Z"
    }
   },
   "outputs": [],
   "source": [
    "true_in_window = (trackers_to_calo[   track_idx_inwindow[calo_idx_inwindow == 0] ] == 0)"
   ]
  },
  {
   "cell_type": "markdown",
   "id": "f40dff46",
   "metadata": {},
   "source": [
    "### Extracting info"
   ]
  },
  {
   "cell_type": "code",
   "execution_count": 306,
   "id": "6924d783",
   "metadata": {
    "ExecuteTime": {
     "end_time": "2022-06-21T13:15:07.367430Z",
     "start_time": "2022-06-21T13:15:07.335265Z"
    }
   },
   "outputs": [],
   "source": [
    "norm_PCAVect = (df_track_EM.eVector0_x **2 + df_track_EM.eVector0_y**2  + df_track_EM.eVector0_z**2)**0.5\n",
    "norm_baryVect = (df_track_EM.barycenter_x **2 + df_track_EM.barycenter_y**2  + df_track_EM.barycenter_z**2)**0.5"
   ]
  },
  {
   "cell_type": "code",
   "execution_count": 307,
   "id": "f5fee001",
   "metadata": {
    "ExecuteTime": {
     "end_time": "2022-06-21T13:15:08.823708Z",
     "start_time": "2022-06-21T13:15:08.817239Z"
    }
   },
   "outputs": [
    {
     "data": {
      "text/plain": [
       "<Array [[1, 1, 1, 1, 1, 1, ... 1, 1, 1, 1, 1]] type='1000 * var * float32'>"
      ]
     },
     "execution_count": 307,
     "metadata": {},
     "output_type": "execute_result"
    }
   ],
   "source": [
    "norm_vect"
   ]
  },
  {
   "cell_type": "code",
   "execution_count": 308,
   "id": "805e593e",
   "metadata": {
    "ExecuteTime": {
     "end_time": "2022-06-21T13:15:10.214561Z",
     "start_time": "2022-06-21T13:15:10.200999Z"
    }
   },
   "outputs": [],
   "source": [
    "prod_scalar = (df_track_EM.barycenter_x * df_track_EM.eVector0_x + df_track_EM.barycenter_y * df_track_EM.eVector0_y + \\\n",
    "                        df_track_EM.barycenter_z * df_track_EM.eVector0_z) /(norm_PCAVect*norm_baryVect)"
   ]
  },
  {
   "cell_type": "code",
   "execution_count": 309,
   "id": "60ad625f",
   "metadata": {
    "ExecuteTime": {
     "end_time": "2022-06-21T13:15:13.663009Z",
     "start_time": "2022-06-21T13:15:11.694880Z"
    }
   },
   "outputs": [
    {
     "data": {
      "image/png": "[encoded data removed]",
      "text/plain": [
       "<Figure size 720x720 with 1 Axes>"
      ]
     },
     "metadata": {
      "needs_background": "light"
     },
     "output_type": "display_data"
    }
   ],
   "source": [
    "plt.hist(ak.flatten(prod_scalar[df_track_EM.raw_energy< 5] ), bins=50, density=True, histtype=\"step\", label=\"LowEn < 5 GeV\")\n",
    "plt.hist(ak.flatten(prod_scalar[df_track_EM.raw_energy> 5] ), bins=50, density=True, histtype=\"step\", label=\"highEn > 5 GeV\")\n",
    "plt.legend()\n",
    "plt.xlabel(\"barycenter @ PCA\")\n",
    "plt.yscale(\"log\")"
   ]
  },
  {
   "cell_type": "markdown",
   "id": "5a501c27",
   "metadata": {},
   "source": [
    "## Write datasets"
   ]
  },
  {
   "cell_type": "code",
   "execution_count": 380,
   "id": "bf856f9f",
   "metadata": {
    "ExecuteTime": {
     "end_time": "2022-06-21T13:47:47.872073Z",
     "start_time": "2022-06-21T13:47:47.547906Z"
    }
   },
   "outputs": [],
   "source": [
    "X = [ ]\n",
    "Y = [ ] \n",
    "Y_meta = [ ]\n",
    "\n",
    "for calo_idx in [0, 1]:\n",
    "    # Get the tracksters in the window of each calo particles\n",
    "    tracks_in_window = track_idx_inwindow[calo_idx_inwindow == calo_idx]\n",
    "    # Get only those trackers by ID\n",
    "    trk_data = df_track_EM[tracks_in_window]\n",
    "    # Save the input variables\n",
    "    x = ak.zip({\"raw_en\": trk_data.raw_energy, \n",
    "                     \"barycenter_x\": trk_data.barycenter_x,\n",
    "                     \"barycenter_y\": trk_data.barycenter_y,\n",
    "                     \"barycenter_z\": trk_data.barycenter_z,\n",
    "                     \"EV1\": trk_data.EV1,\n",
    "                     \"EV2\": trk_data.EV2,\n",
    "                     \"EV3\": trk_data.EV3,\n",
    "                     \"sigmaPCA1\": trk_data.sigmaPCA1,\n",
    "                     \"sigmaPCA2\": trk_data.sigmaPCA2,\n",
    "                     \"sigmaPCA3\": trk_data.sigmaPCA3,\n",
    "                     \"misalign\":  prod_scalar[tracks_in_window],\n",
    "                    }  )\n",
    "    \n",
    "    y  =  ak.Array(trackers_to_calo[ tracks_in_window ] == calo_idx)\n",
    "    # Saving also the caloparticle metadata\n",
    "    m = df_calo[:,calo_idx]\n",
    "    X.append(x)\n",
    "    Y.append(y)\n",
    "    Y_meta.append(m)\n",
    "\n",
    "dataset = ak.zip({\"X\": ak.concatenate(X, axis=0), \"Y\": ak.concatenate(Y, axis=0), \"meta\": ak.concatenate(Y_meta, axis=0)})\n",
    "ak.to_parquet(dataset, \"dataset.parquet\")"
   ]
  },
  {
   "cell_type": "code",
   "execution_count": 342,
   "id": "429cda21",
   "metadata": {
    "ExecuteTime": {
     "end_time": "2022-06-21T13:31:12.988261Z",
     "start_time": "2022-06-21T13:31:12.029479Z"
    }
   },
   "outputs": [
    {
     "data": {
      "image/png": "[encoded data removed]",
      "text/plain": [
       "<Figure size 720x720 with 1 Axes>"
      ]
     },
     "metadata": {
      "needs_background": "light"
     },
     "output_type": "display_data"
    }
   ],
   "source": [
    "plt.hist(ak.num(train_data), bins=20, range=(1,21))\n",
    "plt.xlabel(\"N trackers in window\")\n",
    "plt.yscale(\"log\")"
   ]
  },
  {
   "cell_type": "code",
   "execution_count": 370,
   "id": "c4f9c911",
   "metadata": {
    "ExecuteTime": {
     "end_time": "2022-06-21T13:43:03.797817Z",
     "start_time": "2022-06-21T13:43:02.886681Z"
    }
   },
   "outputs": [
    {
     "data": {
      "image/png": "[encoded data removed]",
      "text/plain": [
       "<Figure size 720x720 with 1 Axes>"
      ]
     },
     "metadata": {
      "needs_background": "light"
     },
     "output_type": "display_data"
    }
   ],
   "source": [
    "plt.hist(ak.num(train_data[true_metadata.stsCP_raw_energy<10]), bins=20, range=(1,21), label=\"En < 10\", histtype=\"step\")\n",
    "plt.hist(ak.num(train_data[(true_metadata.stsCP_raw_energy>10)&(true_metadata.stsCP_raw_energy<150)]), bins=20, range=(1,21), \n",
    "         label=\"10 < En < 150\", histtype=\"step\")\n",
    "plt.hist(ak.num(train_data[(true_metadata.stsCP_raw_energy>150)]), bins=20, range=(1,21), \n",
    "         label=\"En > 150\", histtype=\"step\")\n",
    "plt.xlabel(\"N trackers in window\")\n",
    "plt.legend()\n",
    "plt.yscale(\"log\")"
   ]
  },
  {
   "cell_type": "code",
   "execution_count": 373,
   "id": "989c81fb",
   "metadata": {
    "ExecuteTime": {
     "end_time": "2022-06-21T13:45:26.421839Z",
     "start_time": "2022-06-21T13:45:26.076791Z"
    }
   },
   "outputs": [],
   "source": []
  },
  {
   "cell_type": "code",
   "execution_count": null,
   "id": "ab0ff21f",
   "metadata": {},
   "outputs": [],
   "source": []
  }
 ],
 "metadata": {
  "kernelspec": {
   "display_name": "Python 3",
   "language": "python",
   "name": "python3"
  },
  "language_info": {
   "codemirror_mode": {
    "name": "ipython",
    "version": 3
   },
   "file_extension": ".py",
   "mimetype": "text/x-python",
   "name": "python",
   "nbconvert_exporter": "python",
   "pygments_lexer": "ipython3",
   "version": "3.9.6"
  },
  "toc": {
   "base_numbering": 1,
   "nav_menu": {},
   "number_sections": true,
   "sideBar": true,
   "skip_h1_title": false,
   "title_cell": "Table of Contents",
   "title_sidebar": "Contents",
   "toc_cell": false,
   "toc_position": {},
   "toc_section_display": true,
   "toc_window_display": false
  },
  "varInspector": {
   "cols": {
    "lenName": 16,
    "lenType": 16,
    "lenVar": 40
   },
   "kernels_config": {
    "python": {
     "delete_cmd_postfix": "",
     "delete_cmd_prefix": "del ",
     "library": "var_list.py",
     "varRefreshCmd": "print(var_dic_list())"
    },
    "r": {
     "delete_cmd_postfix": ") ",
     "delete_cmd_prefix": "rm(",
     "library": "var_list.r",
     "varRefreshCmd": "cat(var_dic_list()) "
    }
   },
   "types_to_exclude": [
    "module",
    "function",
    "builtin_function_or_method",
    "instance",
    "_Feature"
   ],
   "window_display": false
  }
 },
 "nbformat": 4,
 "nbformat_minor": 5
}
