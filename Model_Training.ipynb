{
 "cells": [
  {
   "cell_type": "code",
   "execution_count": 1,
   "id": "749e5d62",
   "metadata": {
    "ExecuteTime": {
     "end_time": "2022-06-22T14:06:49.198889Z",
     "start_time": "2022-06-22T14:06:44.387571Z"
    }
   },
   "outputs": [
    {
     "name": "stderr",
     "output_type": "stream",
     "text": [
      "2022-06-22 16:06:44.883372: W tensorflow/stream_executor/platform/default/dso_loader.cc:64] Could not load dynamic library 'libcudart.so.11.0'; dlerror: libcudart.so.11.0: cannot open shared object file: No such file or directory; LD_LIBRARY_PATH: /cvmfs/sft.cern.ch/lcg/releases/MCGenerators/thepeg/2.2.1-8d929/x86_64-centos7-gcc8-opt/lib/ThePEG:/cvmfs/sft.cern.ch/lcg/releases/MCGenerators/herwig++/7.2.1-f3599/x86_64-centos7-gcc8-opt/lib/Herwig:/cvmfs/sft.cern.ch/lcg/views/LCG_101swan/x86_64-centos7-gcc8-opt/lib/python3.9/site-packages/torch/lib:/cvmfs/sft.cern.ch/lcg/views/LCG_101swan/x86_64-centos7-gcc8-opt/lib/python3.9/site-packages/tensorflow:/cvmfs/sft.cern.ch/lcg/views/LCG_101swan/x86_64-centos7-gcc8-opt/lib/python3.9/site-packages/tensorflow/contrib/tensor_forest:/cvmfs/sft.cern.ch/lcg/views/LCG_101swan/x86_64-centos7-gcc8-opt/lib/python3.9/site-packages/tensorflow/python/framework:/cvmfs/sft.cern.ch/lcg/releases/java/8u222-884d8/x86_64-centos7-gcc8-opt/jre/lib/amd64:/cvmfs/sft.cern.ch/lcg/views/LCG_101swan/x86_64-centos7-gcc8-opt/lib64:/cvmfs/sft.cern.ch/lcg/views/LCG_101swan/x86_64-centos7-gcc8-opt/lib:/cvmfs/sft.cern.ch/lcg/releases/gcc/8.3.0-cebb0/x86_64-centos7/lib:/cvmfs/sft.cern.ch/lcg/releases/gcc/8.3.0-cebb0/x86_64-centos7/lib64:/cvmfs/sft.cern.ch/lcg/releases/binutils/2.30-e5b21/x86_64-centos7/lib:/usr/local/lib/:/cvmfs/sft.cern.ch/lcg/releases/R/3.6.3-dfb24/x86_64-centos7-gcc8-opt/lib64/R/library/readr/rcon\n",
      "2022-06-22 16:06:44.883434: I tensorflow/stream_executor/cuda/cudart_stub.cc:29] Ignore above cudart dlerror if you do not have a GPU set up on your machine.\n"
     ]
    }
   ],
   "source": [
    "import tensorflow as tf\n",
    "import numpy as np\n",
    "import awkward as ak"
   ]
  },
  {
   "cell_type": "code",
   "execution_count": 2,
   "id": "46096fbc",
   "metadata": {
    "ExecuteTime": {
     "end_time": "2022-06-22T14:06:53.220500Z",
     "start_time": "2022-06-22T14:06:53.204775Z"
    }
   },
   "outputs": [
    {
     "name": "stdout",
     "output_type": "stream",
     "text": [
      "version=2.5.0, CUDA=True, GPU=False\n"
     ]
    },
    {
     "name": "stderr",
     "output_type": "stream",
     "text": [
      "2022-06-22 16:06:53.210710: W tensorflow/stream_executor/platform/default/dso_loader.cc:64] Could not load dynamic library 'libcuda.so.1'; dlerror: libcuda.so.1: cannot open shared object file: No such file or directory; LD_LIBRARY_PATH: /cvmfs/sft.cern.ch/lcg/releases/MCGenerators/thepeg/2.2.1-8d929/x86_64-centos7-gcc8-opt/lib/ThePEG:/cvmfs/sft.cern.ch/lcg/releases/MCGenerators/herwig++/7.2.1-f3599/x86_64-centos7-gcc8-opt/lib/Herwig:/cvmfs/sft.cern.ch/lcg/views/LCG_101swan/x86_64-centos7-gcc8-opt/lib/python3.9/site-packages/torch/lib:/cvmfs/sft.cern.ch/lcg/views/LCG_101swan/x86_64-centos7-gcc8-opt/lib/python3.9/site-packages/tensorflow:/cvmfs/sft.cern.ch/lcg/views/LCG_101swan/x86_64-centos7-gcc8-opt/lib/python3.9/site-packages/tensorflow/contrib/tensor_forest:/cvmfs/sft.cern.ch/lcg/views/LCG_101swan/x86_64-centos7-gcc8-opt/lib/python3.9/site-packages/tensorflow/python/framework:/cvmfs/sft.cern.ch/lcg/releases/java/8u222-884d8/x86_64-centos7-gcc8-opt/jre/lib/amd64:/cvmfs/sft.cern.ch/lcg/views/LCG_101swan/x86_64-centos7-gcc8-opt/lib64:/cvmfs/sft.cern.ch/lcg/views/LCG_101swan/x86_64-centos7-gcc8-opt/lib:/cvmfs/sft.cern.ch/lcg/releases/gcc/8.3.0-cebb0/x86_64-centos7/lib:/cvmfs/sft.cern.ch/lcg/releases/gcc/8.3.0-cebb0/x86_64-centos7/lib64:/cvmfs/sft.cern.ch/lcg/releases/binutils/2.30-e5b21/x86_64-centos7/lib:/usr/local/lib/:/cvmfs/sft.cern.ch/lcg/releases/R/3.6.3-dfb24/x86_64-centos7-gcc8-opt/lib64/R/library/readr/rcon\n",
      "2022-06-22 16:06:53.210771: W tensorflow/stream_executor/cuda/cuda_driver.cc:326] failed call to cuInit: UNKNOWN ERROR (303)\n",
      "2022-06-22 16:06:53.210857: I tensorflow/stream_executor/cuda/cuda_diagnostics.cc:156] kernel driver does not appear to be running on this host (db20892937df): /proc/driver/nvidia/version does not exist\n",
      "2022-06-22 16:06:53.212921: I tensorflow/core/platform/cpu_feature_guard.cc:142] This TensorFlow binary is optimized with oneAPI Deep Neural Network Library (oneDNN) to use the following CPU instructions in performance-critical operations:  AVX2 FMA\n",
      "To enable them in other operations, rebuild TensorFlow with the appropriate compiler flags.\n"
     ]
    }
   ],
   "source": [
    "import tensorflow as tf\n",
    "import json, os\n",
    "import numpy as np\n",
    "\n",
    "# Tested with TensorFlow 2.1.0\n",
    "print('version={}, CUDA={}, GPU={}'.format(\n",
    "    tf.__version__, tf.test.is_built_with_cuda(),\n",
    "    len(tf.config.list_physical_devices('GPU')) > 0))\n",
    "      \n",
    "if len(tf.config.list_physical_devices('GPU')) > 0:\n",
    "    physical_devices = tf.config.list_physical_devices('GPU')\n",
    "    tf.config.experimental.set_memory_growth(physical_devices[0], enable=True)\n",
    "    strategy = tf.distribute.OneDeviceStrategy(\"gpu:0\")\n",
    "else:\n",
    "    strategy = tf.distribute.OneDeviceStrategy(\"cpu:0\")\n",
    "\n"
   ]
  },
  {
   "cell_type": "code",
   "execution_count": 3,
   "id": "e54b8656",
   "metadata": {
    "ExecuteTime": {
     "end_time": "2022-06-22T14:06:53.948886Z",
     "start_time": "2022-06-22T14:06:53.927181Z"
    }
   },
   "outputs": [],
   "source": [
    "#########################3\n",
    "# Masking utils\n",
    "\n",
    "def create_padding_masks(rechits):\n",
    "    #mask_rechits = tf.cast(tf.reduce_sum(rechits,-1) != 0, tf.float32)\n",
    "    mask_cls = tf.cast(tf.reduce_sum(rechits,[-1]) != 0, tf.float32)\n",
    "    return mask_cls\n",
    "\n",
    "###########################\n",
    "\n",
    "def point_wise_feed_forward_network(d_model, dff, name=\"fff\"):\n",
    "      return tf.keras.Sequential([\n",
    "      tf.keras.layers.Dense(dff, activation='relu'),  # (batch_size, seq_len, dff)\n",
    "      tf.keras.layers.Dense(d_model)  # (batch_size, seq_len, d_model)\n",
    "  ],name=name)\n",
    "\n",
    "    \n",
    "def get_dense(spec, act, last_act, dropout=0., L2=False, L1=False, name=\"dense\"):\n",
    "    layers = [] \n",
    "    for i, d in enumerate(spec[:-1]):\n",
    "        if not L1 and not L2:\n",
    "            layers.append(tf.keras.layers.Dense(d, activation=act, name=name+\"_{}\".format(i)))\n",
    "        if not L1 and L2:\n",
    "            layers.append(tf.keras.layers.Dense(d, activation=act, kernel_regularizer=tf.keras.regularizers.L2(0.001), name=name+\"_{}\".format(i)))\n",
    "        if not L2 and L1:\n",
    "            layers.append(tf.keras.layers.Dense(d, activation=act, kernel_regularizer=tf.keras.regularizers.L1(0.001),name=name+\"_{}\".format(i)))\n",
    "        if L1 and L2:\n",
    "            layers.append(tf.keras.layers.Dense(d, activation=act, kernel_regularizer=tf.keras.regularizers.L1L2(0.001,0.001),name=name+\"_{}\".format(i)))\n",
    "        if dropout > 0.:\n",
    "            layers.append(tf.keras.layers.Dropout(dropout))\n",
    "    layers.append(tf.keras.layers.Dense(spec[-1], activation=last_act, name=name+\"_{}\".format(i+1)))\n",
    "    return tf.keras.Sequential(layers, name=name)\n",
    "\n",
    "def get_conv1d(spec, act, last_act, dropout=0., L2=False, L1=False, name=\"dense\"):\n",
    "    layers = [] \n",
    "    for i, d in enumerate(spec[:-1]):\n",
    "        if not L1 and not L2:\n",
    "            layers.append(tf.keras.layers.Conv1D(filters=d,kernel_size=1, activation=act, name=name+\"_{}\".format(i)))\n",
    "        if not L1 and L2:\n",
    "            layers.append(tf.keras.layers.Conv1D(filters=d,kernel_size=1, activation=act, kernel_regularizer=tf.keras.regularizers.L2(0.001), name=name+\"_{}\".format(i)))\n",
    "        if not L2 and L1:\n",
    "            layers.append(tf.keras.layers.Conv1D(filters=d,kernel_size=1, activation=act, kernel_regularizer=tf.keras.regularizers.L1(0.001),name=name+\"_{}\".format(i)))\n",
    "        if L1 and L2:\n",
    "            layers.append(tf.keras.layers.Conv1D(filters=d,kernel_size=1, activation=act, kernel_regularizer=tf.keras.regularizers.L1L2(0.001,0.001),name=name+\"_{}\".format(i)))\n",
    "        if dropout > 0.:\n",
    "            layers.append(tf.keras.layers.Dropout(dropout))\n",
    "    layers.append(tf.keras.layers.Conv1D(filters=spec[-1], kernel_size=1, activation=last_act, name=name+\"_{}\".format(i+1)))\n",
    "    return tf.keras.Sequential(layers, name=name)\n",
    "\n"
   ]
  },
  {
   "cell_type": "code",
   "execution_count": 4,
   "id": "21ff5214",
   "metadata": {
    "ExecuteTime": {
     "end_time": "2022-06-22T14:06:56.084123Z",
     "start_time": "2022-06-22T14:06:56.015367Z"
    }
   },
   "outputs": [],
   "source": [
    "############################\n",
    "# From https://www.tensorflow.org/tutorials/text/transformer#multi-head_attention\n",
    "def scaled_dot_product_attention(q, k, v, mask):\n",
    "    \"\"\"Calculate the attention weights.\n",
    "    q, k, v must have matching leading dimensions.\n",
    "    k, v must have matching penultimate dimension, i.e.: seq_len_k = seq_len_v.\n",
    "    The mask has different shapes depending on its type(padding or look ahead) \n",
    "    but it must be broadcastable for addition.\n",
    "    Args:\n",
    "    q: query shape == (..., seq_len_q, depth)\n",
    "    k: key shape == (..., seq_len_k, depth)\n",
    "    v: value shape == (..., seq_len_v, depth_v)\n",
    "    mask: Float tensor with shape broadcastable \n",
    "          to (..., seq_len_q, seq_len_k). Defaults to None.\n",
    "    Returns:\n",
    "    output, attention_weights\n",
    "    \"\"\"\n",
    "\n",
    "    matmul_qk = tf.matmul(q, k, transpose_b=True)  # (..., seq_len_q, seq_len_k)\n",
    "\n",
    "    # scale matmul_qk\n",
    "    dk = tf.cast(tf.shape(k)[-1], tf.float32)\n",
    "    scaled_attention_logits = matmul_qk / tf.math.sqrt(dk)\n",
    "\n",
    "    # add the mask to the scaled tensor.\n",
    "    if mask is not None:\n",
    "        # the mask signals the elements to keep so we have to invert it\n",
    "        scaled_attention_logits += ( (1 - mask) * -1e9)  \n",
    "\n",
    "    # softmax is normalized on the last axis (seq_len_k) so that the scores\n",
    "    # add up to 1.\n",
    "    attention_weights = tf.nn.softmax(scaled_attention_logits, axis=-1)  # (..., seq_len_q, seq_len_k)\n",
    "    output = tf.matmul(attention_weights, v)  # (..., seq_len_q, depth_v)\n",
    "    return output, attention_weights\n",
    "\n",
    "\n",
    "########################################\n",
    "\n",
    "class SelfAttention(tf.keras.layers.Layer):\n",
    "    '''\n",
    "    Self attention layer only computing the SA computation\n",
    "    Input : [Nbatch, Nclusters, input_dim]\n",
    "    Output:  [Nbatch, Nclusters, output_dim]\n",
    "    '''    \n",
    "    def __init__(self, input_dim, output_dim, *args, **kwargs):\n",
    "        self.activation = kwargs.pop(\"activation\", \"relu\")\n",
    "        self.input_dim = input_dim\n",
    "        self.output_dim = output_dim\n",
    "        name = kwargs.pop(\"name\", None)\n",
    "\n",
    "        super(SelfAttention, self).__init__(name=name)\n",
    "\n",
    "        # Self-attention matrices\n",
    "        self.Q = self.add_weight(shape=(self.input_dim, self.output_dim), name=\"Q_sa_\"+name, initializer=\"random_normal\")\n",
    "        self.K = self.add_weight(shape=(self.input_dim, self.output_dim), name=\"K_sa_\"+name, initializer=\"random_normal\")\n",
    "        self.V = self.add_weight(shape=(self.input_dim, self.output_dim), name=\"V_sa_\"+name, initializer=\"random_normal\")\n",
    "\n",
    "\n",
    "    def get_config():\n",
    "        return {\n",
    "            \"input_dim\" : self.input_dim,\n",
    "            \"output_dim\": self.output_dim,\n",
    "            \"name\": self.name\n",
    "        }\n",
    "        \n",
    "    def call(self, x, mask, training):\n",
    "        # x has structure  [Nbatch, Nclusters, Nfeatures]\n",
    "        q = tf.matmul(x,self.Q)\n",
    "        k = tf.matmul(x,self.K)\n",
    "        v = tf.matmul(x,self.V)\n",
    "        # mask the padded clusters in the attention distance\n",
    "        mask_for_attention = mask[:,tf.newaxis,:]\n",
    "        # Mask for output\n",
    "        mask_for_nodes = mask[:,:,tf.newaxis]\n",
    "        # Get self-attention output and attention weights\n",
    "        sa_output, attention_weights = scaled_dot_product_attention(q, k, v, mask_for_attention)\n",
    "        # Dropout\n",
    "        sa_output = sa_output * mask_for_nodes\n",
    "        \n",
    "        return sa_output, attention_weights\n",
    "\n",
    "####################################################\n",
    "\n",
    "class SelfAttentionBlock(tf.keras.layers.Layer):\n",
    "    '''\n",
    "    Generic self attention layer that can reduce or not the output feature vectors.\n",
    "    Input : [Nbatch, Nclusters, input_dim]\n",
    "    Output:  \n",
    "            - reduce=none  [Nbatch, Nclusters, output_dim]  \n",
    "            - reduce=sum or mean   [Nbatch, output_dim]  \n",
    "    '''    \n",
    "    def __init__(self, input_dim, output_dim, reduce=None, *args, **kwargs):\n",
    "        self.activation = kwargs.pop(\"activation\", \"relu\")\n",
    "        self.dropout = kwargs.get(\"dropout\", 0.)\n",
    "        self.l2_reg = kwargs.get(\"l2_reg\", False)\n",
    "        self.input_dim = input_dim\n",
    "        self.output_dim = output_dim\n",
    "        self.reduce = reduce # it can be None, sum, mean, max\n",
    "        name = kwargs.pop(\"name\", None)\n",
    "\n",
    "        super(SelfAttentionBlock, self).__init__(name=name)\n",
    "        \n",
    "        # Self-attention matrices\n",
    "        self.Q = self.add_weight(shape=(self.input_dim, self.output_dim), name=\"Q_sa_\"+name, initializer=\"random_normal\")\n",
    "        self.K = self.add_weight(shape=(self.input_dim, self.output_dim), name=\"K_sa_\"+name, initializer=\"random_normal\")\n",
    "        self.V = self.add_weight(shape=(self.input_dim, self.output_dim), name=\"V_sa_\"+name, initializer=\"random_normal\")\n",
    "        self.inputW = self.add_weight(shape=(self.input_dim, self.output_dim), name=\"input_sa_\"+name, initializer=\"random_normal\")\n",
    "\n",
    "        # Feed-forward output (1 hidden layer)\n",
    "        self.dense_out = get_conv1d([self.output_dim, self.output_dim], self.activation, last_act=self.activation,\n",
    "                                    L2=self.l2_reg, dropout=self.dropout, name=\"output_sa_\"+name)\n",
    "        # Layer normalizations\n",
    "        self.norm1 = tf.keras.layers.LayerNormalization(name=\"SA_lnorm1_\"+name, epsilon=1e-3, axis=-1)\n",
    "        self.norm2 = tf.keras.layers.LayerNormalization(name=\"SA_lnorm2_\"+name, epsilon=1e-3, axis=-1)\n",
    "        # Dropouts\n",
    "        self.drop1 = tf.keras.layers.Dropout(self.dropout)\n",
    "        self.drop2 = tf.keras.layers.Dropout(self.dropout)\n",
    "\n",
    "    def get_config():\n",
    "        return {\n",
    "            \"input_dim\" : self.input_dim,\n",
    "            \"output_dim\": self.output_dim,\n",
    "            \"l2_reg\": self.l2_reg,\n",
    "            \"dropout\": self.dropout,\n",
    "            \"activation\": self.activation,\n",
    "            \"reduce\": self.reduce,\n",
    "            \"name\": self.name\n",
    "        }\n",
    "        \n",
    "    def call(self, x, mask, training):\n",
    "        # x has structure  [Nbatch, Nclusters, Nfeatures]\n",
    "        q = tf.matmul(x,self.Q)\n",
    "        k = tf.matmul(x,self.K)\n",
    "        v = tf.matmul(x,self.V)\n",
    "        # Apply the dense_input to x to get transformed dimension\n",
    "        transf_input = tf.matmul(x,self.inputW)\n",
    "        # mask the padded clusters in the attention distance\n",
    "        mask_for_attention = mask[:,tf.newaxis,:]\n",
    "        # Mask for output\n",
    "        mask_for_nodes = mask[:,:,tf.newaxis]\n",
    "        # Get self-attention output and attention weights\n",
    "        sa_output, attention_weights = scaled_dot_product_attention(q, k, v, mask_for_attention)\n",
    "        # Dropout\n",
    "        sa_output = self.drop1(sa_output, training=training) \n",
    "        # Add + layer norm  + mask\n",
    "        output_sa = self.norm1(transf_input + sa_output) * mask_for_nodes\n",
    "        # Apply dense\n",
    "        output_dense = self.dense_out(output_sa, training=training) \n",
    "        # Dropout\n",
    "        output_dense = self.drop2(output_dense, training=training)\n",
    "        # Add and layer norm\n",
    "        output_block = self.norm2(output_dense + output_sa) * mask_for_nodes\n",
    "\n",
    "        # Now the aggregation \n",
    "        if self.reduce == \"sum\":\n",
    "            return  tf.reduce_sum(output_block, -2), attention_weights\n",
    "        if self.reduce == \"mean\":\n",
    "            N_nodes = tf.reduce_sum(mask,-1)[:,tf.newaxis]\n",
    "            return tf.math.divide_no_nan( tf.reduce_sum(output_block, -2), N_nodes), attention_weights\n",
    "        if self.reduce == \"max\":\n",
    "            return tf.reduce_max(output_block, axis=-2), attention_weights\n",
    "        else:\n",
    "            #just return all the nodes\n",
    "            return output_block, attention_weights\n",
    "\n",
    "######################################################################\n",
    "######################################################################\n",
    "\n",
    "class MultiHeadAttention(tf.keras.layers.Layer):\n",
    "    def __init__(self, d_model, num_heads, **kwargs):\n",
    "        self.num_heads = num_heads\n",
    "        self.d_model = d_model\n",
    "        name = kwargs.pop(\"name\", None)\n",
    "        super(MultiHeadAttention, self).__init__(name=name)\n",
    "\n",
    "        assert d_model % self.num_heads == 0\n",
    "\n",
    "        self.depth = d_model // self.num_heads\n",
    "\n",
    "        self.Wq = tf.keras.layers.Conv1D(filters=self.d_model,kernel_size=1, use_bias=False)\n",
    "        self.Wk = tf.keras.layers.Conv1D(filters=self.d_model,kernel_size=1, use_bias=False)\n",
    "        self.Wv = tf.keras.layers.Conv1D(filters=self.d_model,kernel_size=1, use_bias=False)\n",
    "        self.dense = tf.keras.layers.Conv1D(filters=self.d_model,kernel_size=1, use_bias=False)\n",
    "\n",
    "    def get_config():\n",
    "            return {\n",
    "                \"num_heads\" : self.num_heads,\n",
    "                \"d_model\": self.d_model,\n",
    "                \"name\": self.name\n",
    "            }\n",
    "\n",
    "    def split_heads(self, x, batch_size):\n",
    "        \"\"\"Split the last dimension into (num_heads, depth).\n",
    "        Transpose the result such that the shape is (batch_size, num_heads, seq_len, depth)\n",
    "        \"\"\"\n",
    "        x = tf.reshape(x, (batch_size, -1, self.num_heads, self.depth))\n",
    "        return tf.transpose(x, perm=[0, 2, 1, 3])\n",
    "\n",
    "    def call(self, v, k, q, mask):\n",
    "        batch_size = tf.shape(q)[0]\n",
    "\n",
    "        mask_att = mask[:,tf.newaxis,tf.newaxis,:]\n",
    "\n",
    "        q = self.Wq(q)  # (batch_size, seq_len, d_model)\n",
    "        k = self.Wk(k)  # (batch_size, seq_len, d_model)\n",
    "        v = self.Wv(v)  # (batch_size, seq_len, d_model)\n",
    "\n",
    "        q = self.split_heads(q, batch_size)  # (batch_size, num_heads, seq_len_q, depth)\n",
    "        k = self.split_heads(k, batch_size)  # (batch_size, num_heads, seq_len_k, depth)\n",
    "        v = self.split_heads(v, batch_size)  # (batch_size, num_heads, seq_len_v, depth)\n",
    "\n",
    "        # scaled_attention.shape == (batch_size, num_heads, seq_len_q, depth)\n",
    "        # attention_weights.shape == (batch_size, num_heads, seq_len_q, seq_len_k)\n",
    "        scaled_attention, attention_weights = scaled_dot_product_attention(\n",
    "            q, k, v, mask_att)\n",
    "\n",
    "        scaled_attention = tf.transpose(scaled_attention, perm=[0, 2, 1, 3])  # (batch_size, seq_len_q, num_heads, depth)\n",
    "        concat_attention = tf.reshape(scaled_attention,\n",
    "                                      (batch_size, -1, self.d_model))  # (batch_size, seq_len_q, d_model)\n",
    "\n",
    "        # the output is not masked\n",
    "        output = self.dense(concat_attention) # (batch_size, seq_len_q, d_model)\n",
    "\n",
    "        return output, attention_weights\n",
    "\n",
    "\n",
    "#######################################################################################\n",
    "\n",
    "class MultiSelfAttentionBlock(tf.keras.layers.Layer):\n",
    "    def __init__(self, output_dim, num_heads, ff_dim,reduce=None, **kwargs):\n",
    "        name = kwargs.pop(\"name\", None)\n",
    "        super(MultiSelfAttentionBlock, self).__init__(name=name)\n",
    "        self.output_dim = output_dim\n",
    "        self.ff_dim = ff_dim\n",
    "        self.num_heads = num_heads\n",
    "        self.reduce = reduce # it can be None, sum, mean, max\n",
    "        self.activation = kwargs.pop(\"activation\", \"relu\")\n",
    "        self.dropout = kwargs.get(\"dropout\", 0.)\n",
    "        self.l2_reg = kwargs.get(\"l2_reg\", False)\n",
    "\n",
    "        self.inputW = tf.keras.layers.Conv1D(filters=self.output_dim, kernel_size=1, use_bias=False)\n",
    "        self.mha = MultiHeadAttention(self.output_dim, self.num_heads,name=self.name+\"_msa\", )\n",
    "        self.ffn = get_conv1d([self.ff_dim, self.output_dim], self.activation, last_act=\"linear\",\n",
    "                                        L2=self.l2_reg, dropout=self.dropout, name=self.name+\"_ff\")\n",
    "\n",
    "        self.layernorm1 = tf.keras.layers.LayerNormalization(epsilon=1e-6)\n",
    "        self.layernorm2 = tf.keras.layers.LayerNormalization(epsilon=1e-6)\n",
    "        self.dropout1 = tf.keras.layers.Dropout(self.dropout)\n",
    "        self.dropout2 = tf.keras.layers.Dropout(self.dropout)\n",
    "\n",
    "    def get_config():\n",
    "        return {\n",
    "            \"output_dim\" : self.output_dim,\n",
    "            \"ff_dim\" : self.ff_dim,\n",
    "            \"num_heads\" : self.num_heads,\n",
    "            \"dropout\" : self.dropout,\n",
    "            \"name\": self.name,\n",
    "            \"reduce\": self.reduce\n",
    "        }\n",
    "    \n",
    "    def call(self, x, mask, training):\n",
    "        mask_out = mask[:,:,tf.newaxis]\n",
    "        #projecting the input on the MSA dim\n",
    "        msa_input = self.inputW(x)\n",
    "        attn_output, attn_weights = self.mha(msa_input,msa_input,msa_input, mask)  # (batch_size, input_seq_len, d_model)\n",
    "        attn_output = self.dropout1(attn_output, training=training)\n",
    "        out1 = self.layernorm1(msa_input + attn_output)  # (batch_size, input_seq_len, d_model)\n",
    "\n",
    "        ffn_output = self.ffn(out1)  # (batch_size, input_seq_len, d_model)\n",
    "        ffn_output = self.dropout2(ffn_output, training=training)\n",
    "        output_block = self.layernorm2(out1 + ffn_output) * mask_out  # (batch_size, input_seq_len, d_model)\n",
    "\n",
    "        # Now the aggregation \n",
    "        if self.reduce == \"sum\":\n",
    "            return  tf.reduce_sum(output_block, -2), attn_weights\n",
    "        if self.reduce == \"mean\":\n",
    "            N_nodes = tf.reduce_sum(mask,-1)[:,tf.newaxis]\n",
    "            return tf.math.divide_no_nan( tf.reduce_sum(output_block, -2), N_nodes), attn_weights\n",
    "        if self.reduce == \"max\":\n",
    "            return tf.reduce_max(output_block, axis=-2), attn_weights\n",
    "        else:\n",
    "            #just return all the nodes\n",
    "            return output_block, attn_weights\n"
   ]
  },
  {
   "cell_type": "code",
   "execution_count": 100,
   "id": "992a4f50",
   "metadata": {
    "ExecuteTime": {
     "end_time": "2022-06-22T14:46:32.762599Z",
     "start_time": "2022-06-22T14:46:32.737662Z"
    }
   },
   "outputs": [],
   "source": [
    "############################################\n",
    "# Putting all the pieces together\n",
    "\n",
    "class LinkingModel(tf.keras.Model):\n",
    "    '''\n",
    "    Model parameters:\n",
    "    - activation\n",
    "    - output_dim_nodes: latent space dimension for clusters node built from rechits and cluster features\n",
    "    - output_dim_msa_encoder: output of the self-attention layer for cluster classification (default==output_dim_gconv)\n",
    "    - layers_input:  list representing the DNN applied on the [rechit+cluster] concatened features to build the clusters latent space\n",
    "    - dropout: dropout function to apply on classification DNN\n",
    "    - l2_reg: activate l2 regularization in all the Dense layers\n",
    "    - loss_weights:  dictionary \n",
    "    '''\n",
    "    def __init__(self, **kwargs):\n",
    "        self.activation = kwargs.get(\"activation\", tf.nn.selu)\n",
    "        self.output_dim_msa = kwargs.get(\"output_dim_msa\",32)\n",
    "        self.nrepeat_msa = kwargs.pop(\"nrepeat_msa\",1)\n",
    "        self.num_heads_msa = kwargs.pop(\"num_heads_msa\", 8)\n",
    "        self.ff_dim_msa = kwargs.pop(\"ff_dim_msa\", 128)\n",
    "        self.dropout = kwargs.get(\"dropout\",0.)\n",
    "        self.l2_reg = kwargs.get(\"l2_reg\", False)\n",
    "        #self.loss_weights = kwargs.get(\"loss_weights\", {\"classification\":1})\n",
    "        \n",
    "        super(LinkingModel, self).__init__()\n",
    "        \n",
    "        # Multi-Self-attention layers\n",
    "        self.MSA =[ ] \n",
    "        for i in range(self.nrepeat_msa):\n",
    "            self.MSA.append(MultiSelfAttentionBlock(name=\"MSA_{}\".format(i), \n",
    "                                                    output_dim=self.output_dim_msa, \n",
    "                                                    num_heads=self.num_heads_msa,\n",
    "                                                    ff_dim=self.ff_dim_msa, **kwargs))\n",
    "\n",
    "\n",
    "    def get_config(self):\n",
    "        return {\n",
    "            \"output_dim_msa\": self.graphbuild.output_dim_msa,\n",
    "            \n",
    "            \"num_heads_msa\": self.num_heads_msa,\n",
    "            \"ff_dim_msa\": self.ff_dim_msa,\n",
    "            \"nrepeat_msa\": self.nrepeat_msa,\n",
    "            \"l2_reg\": self.l2_reg,\n",
    "            \"dropout\": self.dropout,\n",
    "            \"activation\": self.activation,\n",
    "            \"name\": self.name,\n",
    "           # \"loss_weights\": self.loss_weights\n",
    "        }\n",
    "\n",
    "    def call(self, X, training):\n",
    "        # getting paddin mask\n",
    "        mask = create_padding_masks(X)\n",
    "        \n",
    "        output_MSA = X\n",
    "        att_weights_MSA = []\n",
    "        for msa in self.MSA:\n",
    "            output_MSA, attweights = msa(output_MSA, mask, training)\n",
    "            att_weights_MSA.append(attweights)\n",
    "        \n",
    "        output = tf.nn.sigmoid(output_MSA @ tf.transpose(output_MSA, perm=(0,2,1)))\n",
    "        \n",
    "        return output, mask\n",
    "\n",
    "    ########################\n",
    "    # Training related methods\n",
    "    def set_metrics(self):\n",
    "        self.loss_tracker = tf.keras.metrics.Mean(name=\"loss\")\n",
    "       \n",
    "\n",
    "    #Customized training loop\n",
    "    #Based on https://www.tensorflow.org/guide/keras/customizing_what_happens_in_fit/\n",
    "    @tf.function\n",
    "    def train_step(self, data):\n",
    "        x, y = data \n",
    "        with tf.GradientTape() as tape:\n",
    "            y_pred = self(x, training=True)  # Forward pass\n",
    "            # Compute our own loss\n",
    "            loss = classification_loss(y, y_pred)\n",
    "            # Total loss function\n",
    "            # adding the regularization losses\n",
    "            loss += sum(self.losses)\n",
    "\n",
    "        # Compute gradients\n",
    "        trainable_vars = self.trainable_variables\n",
    "        gradients = tape.gradient(loss, trainable_vars)\n",
    "        # Update weights\n",
    "        self.optimizer.apply_gradients(zip(gradients, trainable_vars))\n",
    "        # Compute our own metrics\n",
    "        self.loss_tracker.update_state(loss)\n",
    "        # mae_metric.update_state(y, y_pred)\n",
    "        return {\"loss\": self.loss_tracker.result()}\n",
    "\n",
    "    @tf.function\n",
    "    def test_step(self, data):\n",
    "        # Unpack the data\n",
    "        x, y   = data\n",
    "        # Compute predictions\n",
    "        y_pred = self(x, training=False)\n",
    "        # Updates the metrics tracking the loss\n",
    "        loss = classification_loss(y, y_pred )\n",
    "\n",
    "        # Total loss function\n",
    "        loss += sum(self.losses)\n",
    "        \n",
    "        # Compute our own metrics\n",
    "        self.loss_tracker.update_state(loss)\n",
    "        # mae_metric.update_state(y, y_pred)\n",
    "        return {\"loss\": self.loss_tracker.result()}\n",
    "\n",
    "    @property\n",
    "    def metrics(self):\n",
    "        # We list our `Metric` objects here so that `reset_states()` can be\n",
    "        # called automatically at the start of each epoch\n",
    "        # or at the start of `evaluate()`.\n",
    "        # If you don't implement this property, you have to call\n",
    "        # `reset_states()` yourself at the time of your choosing.\n",
    "        return [self.loss_tracker]\n",
    "\n",
    "## Loss functions\n",
    "\n",
    "def classification_loss(y_true, y_pred):\n",
    "    dense_out,  mask  = model(X)\n",
    "    class_loss = tf.keras.losses.binary_crossentropy(Y, dense_out, from_logits=False) * mask\n",
    "    reduced_loss = tf.reduce_mean(tf.reduce_sum(class_loss, axis=-1)/ tf.reduce_sum(mask, axis=1))\n",
    "    return reduced_loss \n"
   ]
  },
  {
   "cell_type": "code",
   "execution_count": 6,
   "id": "a641b794",
   "metadata": {
    "ExecuteTime": {
     "end_time": "2022-06-22T14:06:59.712871Z",
     "start_time": "2022-06-22T14:06:59.265170Z"
    }
   },
   "outputs": [],
   "source": [
    "import numba\n",
    "@numba.njit\n",
    "def get_truth_matrix_padded(Y, N, pad):\n",
    "    Z = np.zeros((N, pad, pad))\n",
    "    ev = 0\n",
    "    for yvec in Y:\n",
    "        for i in range(len(yvec)):\n",
    "            for j in range(len(yvec)):\n",
    "                if i==j:\n",
    "                    Z[ev, i, j] = 0.\n",
    "                else:\n",
    "                    if yvec[i] and yvec[j]:\n",
    "                        Z[ev, i,j] = 1.\n",
    "                    else:\n",
    "                        Z[ev, i,j] = 0\n",
    "        ev+=1\n",
    "    return Z\n",
    "                    "
   ]
  },
  {
   "cell_type": "code",
   "execution_count": 76,
   "id": "10184c28",
   "metadata": {
    "ExecuteTime": {
     "end_time": "2022-06-22T14:43:34.080676Z",
     "start_time": "2022-06-22T14:43:34.062268Z"
    }
   },
   "outputs": [],
   "source": [
    "df = ak.from_parquet(\"dataset.parquet\")\n",
    "df_pad_X = ak.pad_none(df.X, 40, clip=True)"
   ]
  },
  {
   "cell_type": "code",
   "execution_count": 82,
   "id": "4f7a4a6a",
   "metadata": {
    "ExecuteTime": {
     "end_time": "2022-06-22T14:44:00.230899Z",
     "start_time": "2022-06-22T14:44:00.221531Z"
    }
   },
   "outputs": [
    {
     "data": {
      "text/plain": [
       "15"
      ]
     },
     "execution_count": 82,
     "metadata": {},
     "output_type": "execute_result"
    }
   ],
   "source": [
    "ak.sum(ak.num(df, axis=1) == 0)"
   ]
  },
  {
   "cell_type": "code",
   "execution_count": 96,
   "id": "f25c3324",
   "metadata": {
    "ExecuteTime": {
     "end_time": "2022-06-22T14:46:00.163848Z",
     "start_time": "2022-06-22T14:46:00.154119Z"
    }
   },
   "outputs": [],
   "source": [
    "def load_data(path, pad):\n",
    "    df = ak.from_parquet(path)\n",
    "    mask_empty_window = ak.num(df, axis=1)!=0\n",
    "    df = df[mask_empty_window]\n",
    "    df_pad_X = ak.pad_none(df.X, pad, clip=True)\n",
    "    X =  ak.fill_none(df_pad_X, \n",
    "             {'raw_en': 0.,\n",
    "               'barycenter_x': 0.,\n",
    "               'barycenter_y': 0.,\n",
    "               'barycenter_z': 0.,\n",
    "               'EV1': 0.,\n",
    "               'EV2': 0.,\n",
    "               'EV3': 0.,\n",
    "               'sigmaPCA1': 0.,\n",
    "               'sigmaPCA2': 0.,\n",
    "               'sigmaPCA3': 0.,\n",
    "               'misalign': 0.})\n",
    "    \n",
    "    \n",
    "    #Y = fill_pad(df.Y, ak.num(df.Y, axis=0), pad)\n",
    "   # Y = np.asarray(ak.fill_none(df_pad.Y, 0.))\n",
    "    #np.fill_diagonal(Y, 0.)\n",
    "    X = np.transpose(np.asarray(ak.concatenate(ak.unzip(X[:, np.newaxis]), axis=1)), \n",
    "                     axes=(0,2,1))\n",
    "        \n",
    "    Y  =  get_truth_matrix_padded(df.Y , \n",
    "                               ak.num(df.Y, axis=0), #number of events\n",
    "                                pad )\n",
    "    \n",
    "        \n",
    "    \n",
    "    return X,Y\n"
   ]
  },
  {
   "cell_type": "code",
   "execution_count": 97,
   "id": "b4441511",
   "metadata": {
    "ExecuteTime": {
     "end_time": "2022-06-22T14:46:01.531557Z",
     "start_time": "2022-06-22T14:46:01.444823Z"
    }
   },
   "outputs": [],
   "source": [
    "X, Y = load_data(\"dataset.parquet\", 40)"
   ]
  },
  {
   "cell_type": "markdown",
   "id": "85dcb75e",
   "metadata": {},
   "source": [
    "# Playing manually with the code "
   ]
  },
  {
   "cell_type": "code",
   "execution_count": 65,
   "id": "fc02c4bd",
   "metadata": {
    "ExecuteTime": {
     "end_time": "2022-06-22T08:44:42.549129Z",
     "start_time": "2022-06-22T08:44:42.520398Z"
    }
   },
   "outputs": [],
   "source": [
    "mblock = MultiSelfAttentionBlock(name=\"test\", output_dim=64, num_heads=8,ff_dim =64 )"
   ]
  },
  {
   "cell_type": "code",
   "execution_count": 54,
   "id": "f6d02c5a",
   "metadata": {
    "ExecuteTime": {
     "end_time": "2022-06-22T08:41:17.804997Z",
     "start_time": "2022-06-22T08:41:17.800413Z"
    }
   },
   "outputs": [],
   "source": [
    "x = X[0:10] "
   ]
  },
  {
   "cell_type": "code",
   "execution_count": 93,
   "id": "76b19eaf",
   "metadata": {
    "ExecuteTime": {
     "end_time": "2022-06-22T08:56:49.429246Z",
     "start_time": "2022-06-22T08:56:49.419890Z"
    }
   },
   "outputs": [
    {
     "data": {
      "text/plain": [
       "<tf.Tensor: shape=(10, 30), dtype=float32, numpy=\n",
       "array([[1., 1., 1., 0., 0., 0., 0., 0., 0., 0., 0., 0., 0., 0., 0., 0.,\n",
       "        0., 0., 0., 0., 0., 0., 0., 0., 0., 0., 0., 0., 0., 0.],\n",
       "       [1., 1., 0., 0., 0., 0., 0., 0., 0., 0., 0., 0., 0., 0., 0., 0.,\n",
       "        0., 0., 0., 0., 0., 0., 0., 0., 0., 0., 0., 0., 0., 0.],\n",
       "       [1., 1., 0., 0., 0., 0., 0., 0., 0., 0., 0., 0., 0., 0., 0., 0.,\n",
       "        0., 0., 0., 0., 0., 0., 0., 0., 0., 0., 0., 0., 0., 0.],\n",
       "       [1., 1., 0., 0., 0., 0., 0., 0., 0., 0., 0., 0., 0., 0., 0., 0.,\n",
       "        0., 0., 0., 0., 0., 0., 0., 0., 0., 0., 0., 0., 0., 0.],\n",
       "       [1., 1., 1., 0., 0., 0., 0., 0., 0., 0., 0., 0., 0., 0., 0., 0.,\n",
       "        0., 0., 0., 0., 0., 0., 0., 0., 0., 0., 0., 0., 0., 0.],\n",
       "       [1., 1., 1., 1., 1., 1., 0., 0., 0., 0., 0., 0., 0., 0., 0., 0.,\n",
       "        0., 0., 0., 0., 0., 0., 0., 0., 0., 0., 0., 0., 0., 0.],\n",
       "       [1., 0., 0., 0., 0., 0., 0., 0., 0., 0., 0., 0., 0., 0., 0., 0.,\n",
       "        0., 0., 0., 0., 0., 0., 0., 0., 0., 0., 0., 0., 0., 0.],\n",
       "       [1., 1., 1., 0., 0., 0., 0., 0., 0., 0., 0., 0., 0., 0., 0., 0.,\n",
       "        0., 0., 0., 0., 0., 0., 0., 0., 0., 0., 0., 0., 0., 0.],\n",
       "       [1., 1., 1., 1., 0., 0., 0., 0., 0., 0., 0., 0., 0., 0., 0., 0.,\n",
       "        0., 0., 0., 0., 0., 0., 0., 0., 0., 0., 0., 0., 0., 0.],\n",
       "       [1., 1., 0., 0., 0., 0., 0., 0., 0., 0., 0., 0., 0., 0., 0., 0.,\n",
       "        0., 0., 0., 0., 0., 0., 0., 0., 0., 0., 0., 0., 0., 0.]],\n",
       "      dtype=float32)>"
      ]
     },
     "execution_count": 93,
     "metadata": {},
     "output_type": "execute_result"
    }
   ],
   "source": [
    "mask"
   ]
  },
  {
   "cell_type": "code",
   "execution_count": 61,
   "id": "c298d136",
   "metadata": {
    "ExecuteTime": {
     "end_time": "2022-06-22T08:43:14.945566Z",
     "start_time": "2022-06-22T08:43:14.932915Z"
    }
   },
   "outputs": [
    {
     "data": {
      "text/plain": [
       "array([[ 4.96965218e+00,  5.54281044e+01, -8.06592846e+00,\n",
       "        -3.33302948e+02,  3.57265930e+01,  3.69383883e+00,\n",
       "         1.63760388e+00,  5.62472868e+00,  2.13143992e+00,\n",
       "         2.20849037e+00,  9.95262384e-01],\n",
       "       [ 1.96536850e+02,  5.51286774e+01, -1.40400867e+01,\n",
       "        -3.37301331e+02,  5.51291275e+01,  1.83413044e-01,\n",
       "         8.92492458e-02,  7.26717424e+00,  9.21676576e-01,\n",
       "         1.31927109e+00,  9.99922454e-01],\n",
       "       [ 2.36502171e+00,  6.01809464e+01, -1.63384705e+01,\n",
       "        -3.43526642e+02,  2.68618660e+01,  2.09040236e+00,\n",
       "         1.61338389e+00,  5.16966248e+00,  1.47657037e+00,\n",
       "         1.28840375e+00,  9.91966069e-01],\n",
       "       [ 0.00000000e+00,  0.00000000e+00,  0.00000000e+00,\n",
       "         0.00000000e+00,  0.00000000e+00,  0.00000000e+00,\n",
       "         0.00000000e+00,  0.00000000e+00,  0.00000000e+00,\n",
       "         0.00000000e+00,  0.00000000e+00],\n",
       "       [ 0.00000000e+00,  0.00000000e+00,  0.00000000e+00,\n",
       "         0.00000000e+00,  0.00000000e+00,  0.00000000e+00,\n",
       "         0.00000000e+00,  0.00000000e+00,  0.00000000e+00,\n",
       "         0.00000000e+00,  0.00000000e+00],\n",
       "       [ 0.00000000e+00,  0.00000000e+00,  0.00000000e+00,\n",
       "         0.00000000e+00,  0.00000000e+00,  0.00000000e+00,\n",
       "         0.00000000e+00,  0.00000000e+00,  0.00000000e+00,\n",
       "         0.00000000e+00,  0.00000000e+00],\n",
       "       [ 0.00000000e+00,  0.00000000e+00,  0.00000000e+00,\n",
       "         0.00000000e+00,  0.00000000e+00,  0.00000000e+00,\n",
       "         0.00000000e+00,  0.00000000e+00,  0.00000000e+00,\n",
       "         0.00000000e+00,  0.00000000e+00],\n",
       "       [ 0.00000000e+00,  0.00000000e+00,  0.00000000e+00,\n",
       "         0.00000000e+00,  0.00000000e+00,  0.00000000e+00,\n",
       "         0.00000000e+00,  0.00000000e+00,  0.00000000e+00,\n",
       "         0.00000000e+00,  0.00000000e+00],\n",
       "       [ 0.00000000e+00,  0.00000000e+00,  0.00000000e+00,\n",
       "         0.00000000e+00,  0.00000000e+00,  0.00000000e+00,\n",
       "         0.00000000e+00,  0.00000000e+00,  0.00000000e+00,\n",
       "         0.00000000e+00,  0.00000000e+00],\n",
       "       [ 0.00000000e+00,  0.00000000e+00,  0.00000000e+00,\n",
       "         0.00000000e+00,  0.00000000e+00,  0.00000000e+00,\n",
       "         0.00000000e+00,  0.00000000e+00,  0.00000000e+00,\n",
       "         0.00000000e+00,  0.00000000e+00],\n",
       "       [ 0.00000000e+00,  0.00000000e+00,  0.00000000e+00,\n",
       "         0.00000000e+00,  0.00000000e+00,  0.00000000e+00,\n",
       "         0.00000000e+00,  0.00000000e+00,  0.00000000e+00,\n",
       "         0.00000000e+00,  0.00000000e+00],\n",
       "       [ 0.00000000e+00,  0.00000000e+00,  0.00000000e+00,\n",
       "         0.00000000e+00,  0.00000000e+00,  0.00000000e+00,\n",
       "         0.00000000e+00,  0.00000000e+00,  0.00000000e+00,\n",
       "         0.00000000e+00,  0.00000000e+00],\n",
       "       [ 0.00000000e+00,  0.00000000e+00,  0.00000000e+00,\n",
       "         0.00000000e+00,  0.00000000e+00,  0.00000000e+00,\n",
       "         0.00000000e+00,  0.00000000e+00,  0.00000000e+00,\n",
       "         0.00000000e+00,  0.00000000e+00],\n",
       "       [ 0.00000000e+00,  0.00000000e+00,  0.00000000e+00,\n",
       "         0.00000000e+00,  0.00000000e+00,  0.00000000e+00,\n",
       "         0.00000000e+00,  0.00000000e+00,  0.00000000e+00,\n",
       "         0.00000000e+00,  0.00000000e+00],\n",
       "       [ 0.00000000e+00,  0.00000000e+00,  0.00000000e+00,\n",
       "         0.00000000e+00,  0.00000000e+00,  0.00000000e+00,\n",
       "         0.00000000e+00,  0.00000000e+00,  0.00000000e+00,\n",
       "         0.00000000e+00,  0.00000000e+00],\n",
       "       [ 0.00000000e+00,  0.00000000e+00,  0.00000000e+00,\n",
       "         0.00000000e+00,  0.00000000e+00,  0.00000000e+00,\n",
       "         0.00000000e+00,  0.00000000e+00,  0.00000000e+00,\n",
       "         0.00000000e+00,  0.00000000e+00],\n",
       "       [ 0.00000000e+00,  0.00000000e+00,  0.00000000e+00,\n",
       "         0.00000000e+00,  0.00000000e+00,  0.00000000e+00,\n",
       "         0.00000000e+00,  0.00000000e+00,  0.00000000e+00,\n",
       "         0.00000000e+00,  0.00000000e+00],\n",
       "       [ 0.00000000e+00,  0.00000000e+00,  0.00000000e+00,\n",
       "         0.00000000e+00,  0.00000000e+00,  0.00000000e+00,\n",
       "         0.00000000e+00,  0.00000000e+00,  0.00000000e+00,\n",
       "         0.00000000e+00,  0.00000000e+00],\n",
       "       [ 0.00000000e+00,  0.00000000e+00,  0.00000000e+00,\n",
       "         0.00000000e+00,  0.00000000e+00,  0.00000000e+00,\n",
       "         0.00000000e+00,  0.00000000e+00,  0.00000000e+00,\n",
       "         0.00000000e+00,  0.00000000e+00],\n",
       "       [ 0.00000000e+00,  0.00000000e+00,  0.00000000e+00,\n",
       "         0.00000000e+00,  0.00000000e+00,  0.00000000e+00,\n",
       "         0.00000000e+00,  0.00000000e+00,  0.00000000e+00,\n",
       "         0.00000000e+00,  0.00000000e+00],\n",
       "       [ 0.00000000e+00,  0.00000000e+00,  0.00000000e+00,\n",
       "         0.00000000e+00,  0.00000000e+00,  0.00000000e+00,\n",
       "         0.00000000e+00,  0.00000000e+00,  0.00000000e+00,\n",
       "         0.00000000e+00,  0.00000000e+00],\n",
       "       [ 0.00000000e+00,  0.00000000e+00,  0.00000000e+00,\n",
       "         0.00000000e+00,  0.00000000e+00,  0.00000000e+00,\n",
       "         0.00000000e+00,  0.00000000e+00,  0.00000000e+00,\n",
       "         0.00000000e+00,  0.00000000e+00],\n",
       "       [ 0.00000000e+00,  0.00000000e+00,  0.00000000e+00,\n",
       "         0.00000000e+00,  0.00000000e+00,  0.00000000e+00,\n",
       "         0.00000000e+00,  0.00000000e+00,  0.00000000e+00,\n",
       "         0.00000000e+00,  0.00000000e+00],\n",
       "       [ 0.00000000e+00,  0.00000000e+00,  0.00000000e+00,\n",
       "         0.00000000e+00,  0.00000000e+00,  0.00000000e+00,\n",
       "         0.00000000e+00,  0.00000000e+00,  0.00000000e+00,\n",
       "         0.00000000e+00,  0.00000000e+00],\n",
       "       [ 0.00000000e+00,  0.00000000e+00,  0.00000000e+00,\n",
       "         0.00000000e+00,  0.00000000e+00,  0.00000000e+00,\n",
       "         0.00000000e+00,  0.00000000e+00,  0.00000000e+00,\n",
       "         0.00000000e+00,  0.00000000e+00],\n",
       "       [ 0.00000000e+00,  0.00000000e+00,  0.00000000e+00,\n",
       "         0.00000000e+00,  0.00000000e+00,  0.00000000e+00,\n",
       "         0.00000000e+00,  0.00000000e+00,  0.00000000e+00,\n",
       "         0.00000000e+00,  0.00000000e+00],\n",
       "       [ 0.00000000e+00,  0.00000000e+00,  0.00000000e+00,\n",
       "         0.00000000e+00,  0.00000000e+00,  0.00000000e+00,\n",
       "         0.00000000e+00,  0.00000000e+00,  0.00000000e+00,\n",
       "         0.00000000e+00,  0.00000000e+00],\n",
       "       [ 0.00000000e+00,  0.00000000e+00,  0.00000000e+00,\n",
       "         0.00000000e+00,  0.00000000e+00,  0.00000000e+00,\n",
       "         0.00000000e+00,  0.00000000e+00,  0.00000000e+00,\n",
       "         0.00000000e+00,  0.00000000e+00],\n",
       "       [ 0.00000000e+00,  0.00000000e+00,  0.00000000e+00,\n",
       "         0.00000000e+00,  0.00000000e+00,  0.00000000e+00,\n",
       "         0.00000000e+00,  0.00000000e+00,  0.00000000e+00,\n",
       "         0.00000000e+00,  0.00000000e+00],\n",
       "       [ 0.00000000e+00,  0.00000000e+00,  0.00000000e+00,\n",
       "         0.00000000e+00,  0.00000000e+00,  0.00000000e+00,\n",
       "         0.00000000e+00,  0.00000000e+00,  0.00000000e+00,\n",
       "         0.00000000e+00,  0.00000000e+00]])"
      ]
     },
     "execution_count": 61,
     "metadata": {},
     "output_type": "execute_result"
    }
   ],
   "source": [
    "x[0]"
   ]
  },
  {
   "cell_type": "code",
   "execution_count": 58,
   "id": "f3e3e941",
   "metadata": {
    "ExecuteTime": {
     "end_time": "2022-06-22T08:42:48.585192Z",
     "start_time": "2022-06-22T08:42:48.579576Z"
    }
   },
   "outputs": [],
   "source": [
    "mask = create_padding_masks(X)"
   ]
  },
  {
   "cell_type": "code",
   "execution_count": 84,
   "id": "caa91a37",
   "metadata": {
    "ExecuteTime": {
     "end_time": "2022-06-22T08:53:44.060634Z",
     "start_time": "2022-06-22T08:53:44.041217Z"
    }
   },
   "outputs": [],
   "source": [
    "out, att = mblock(x, mask)"
   ]
  },
  {
   "cell_type": "code",
   "execution_count": 67,
   "id": "07aa8d83",
   "metadata": {
    "ExecuteTime": {
     "end_time": "2022-06-22T08:47:57.620456Z",
     "start_time": "2022-06-22T08:47:57.285437Z"
    },
    "scrolled": true
   },
   "outputs": [],
   "source": [
    "from plotting import *"
   ]
  },
  {
   "cell_type": "code",
   "execution_count": 79,
   "id": "4d91321b",
   "metadata": {
    "ExecuteTime": {
     "end_time": "2022-06-22T08:53:09.808377Z",
     "start_time": "2022-06-22T08:53:09.796156Z"
    }
   },
   "outputs": [],
   "source": [
    "total_att = np.concatenate(att, axis=1)"
   ]
  },
  {
   "cell_type": "code",
   "execution_count": 86,
   "id": "448850de",
   "metadata": {
    "ExecuteTime": {
     "end_time": "2022-06-22T08:53:55.745069Z",
     "start_time": "2022-06-22T08:53:55.739925Z"
    }
   },
   "outputs": [
    {
     "data": {
      "text/plain": [
       "TensorShape([10, 8, 30, 30])"
      ]
     },
     "execution_count": 86,
     "metadata": {},
     "output_type": "execute_result"
    }
   ],
   "source": [
    "att.shape"
   ]
  },
  {
   "cell_type": "code",
   "execution_count": 121,
   "id": "14c73cfd",
   "metadata": {
    "ExecuteTime": {
     "end_time": "2022-06-22T09:11:22.274970Z",
     "start_time": "2022-06-22T09:11:21.504676Z"
    }
   },
   "outputs": [
    {
     "data": {
      "image/png": "[encoded data removed]",
      "text/plain": [
       "<Figure size 1800x600 with 6 Axes>"
      ]
     },
     "metadata": {
      "needs_background": "light"
     },
     "output_type": "display_data"
    }
   ],
   "source": [
    "plotM(*x[3:6])"
   ]
  },
  {
   "cell_type": "code",
   "execution_count": 126,
   "id": "d9c99ba7",
   "metadata": {
    "ExecuteTime": {
     "end_time": "2022-06-22T09:12:00.840478Z",
     "start_time": "2022-06-22T09:12:00.104596Z"
    }
   },
   "outputs": [
    {
     "data": {
      "image/png": "[encoded data removed]",
      "text/plain": [
       "<Figure size 1800x600 with 6 Axes>"
      ]
     },
     "metadata": {
      "needs_background": "light"
     },
     "output_type": "display_data"
    }
   ],
   "source": [
    "plotM(*att[3:6,2])"
   ]
  },
  {
   "cell_type": "code",
   "execution_count": 127,
   "id": "d982b6b7",
   "metadata": {
    "ExecuteTime": {
     "end_time": "2022-06-22T09:12:02.081660Z",
     "start_time": "2022-06-22T09:12:01.079520Z"
    }
   },
   "outputs": [
    {
     "data": {
      "image/png": "[encoded data removed]",
      "text/plain": [
       "<Figure size 1800x600 with 6 Axes>"
      ]
     },
     "metadata": {
      "needs_background": "light"
     },
     "output_type": "display_data"
    }
   ],
   "source": [
    "plotM(*out[3:6])"
   ]
  },
  {
   "cell_type": "markdown",
   "id": "8ebe22b9",
   "metadata": {},
   "source": [
    "# Training"
   ]
  },
  {
   "cell_type": "code",
   "execution_count": 101,
   "id": "fa25c4c7",
   "metadata": {
    "ExecuteTime": {
     "end_time": "2022-06-22T14:46:39.859765Z",
     "start_time": "2022-06-22T14:46:39.852232Z"
    }
   },
   "outputs": [],
   "source": [
    "models_path = \"/eos/user/d/dvalsecc/HGCAL_SuperClustering/models/\"\n",
    "\n",
    "from collections import namedtuple\n",
    "#\n",
    "Args = namedtuple('args', [ 'name','models_path', 'load','initial_epoch','nepochs','ntrain','nval',\n",
    "                           'lr_decay','lr', 'batch_size','opt', 'activation', \n",
    "                           'output_dim_msa', 'num_heads_msa', 'ff_dim_msa', 'nrepeat_msa',\n",
    "                          'dropout','l2_reg'])\n",
    "\n",
    "args = Args( \n",
    "models_path = models_path,\n",
    "name= \"test1\",\n",
    "load = False,\n",
    "initial_epoch = 0,\n",
    "nepochs = 200,\n",
    "ntrain = 1000000,\n",
    "nval = 300000,\n",
    "lr_decay = 0.,\n",
    "lr = 1e-3,\n",
    "batch_size = 64,\n",
    "opt='adam',\n",
    "    \n",
    "activation = tf.keras.activations.selu,\n",
    "output_dim_msa = 64,\n",
    "num_heads_msa = 8,\n",
    "ff_dim_msa = 128,  \n",
    "nrepeat_msa = 2,\n",
    "dropout = 0.05,\n",
    "l2_reg = False\n",
    ")\n",
    "\n"
   ]
  },
  {
   "cell_type": "code",
   "execution_count": 102,
   "id": "7d7ceb8f",
   "metadata": {
    "ExecuteTime": {
     "end_time": "2022-06-22T14:46:40.361791Z",
     "start_time": "2022-06-22T14:46:40.344716Z"
    }
   },
   "outputs": [
    {
     "name": "stdout",
     "output_type": "stream",
     "text": [
      "/eos/user/d/dvalsecc/HGCAL_SuperClustering/models/run_07\n"
     ]
    }
   ],
   "source": [
    "import os\n",
    "def get_unique_run():\n",
    "    previous_runs = os.listdir(args.models_path)\n",
    "    if len(previous_runs) == 0:\n",
    "        run_number = 1\n",
    "    else:\n",
    "        run_number = max([int(s.split('run_')[1]) for s in previous_runs]) + 1\n",
    "    return run_number\n",
    "\n",
    "if not os.path.isdir(args.models_path):\n",
    "    os.makedirs(args.models_path)\n",
    "\n",
    "name =  'run_{:02}'.format(get_unique_run())\n",
    "outdir = args.models_path + name\n",
    "\n",
    "if os.path.isdir(outdir):\n",
    "    print(\"Output directory exists: {}\".format(outdir), file=sys.stderr)\n",
    "else:\n",
    "    os.makedirs(outdir)\n",
    "\n",
    "print(outdir)"
   ]
  },
  {
   "cell_type": "code",
   "execution_count": 103,
   "id": "873043aa",
   "metadata": {
    "ExecuteTime": {
     "end_time": "2022-06-22T14:46:40.882552Z",
     "start_time": "2022-06-22T14:46:40.877798Z"
    }
   },
   "outputs": [],
   "source": [
    "if args.lr_decay > 0:\n",
    "        #lr_schedule = tf.keras.optimizers.schedules.ExponentialDecay(\n",
    "        #    args.lr,\n",
    "        #    decay_steps=int(args.ntrain//args.batch_size),\n",
    "        #    decay_rate=args.lr_decay\n",
    "        #)\n",
    "        lr_schedule = tf.keras.optimizers.schedules.InverseTimeDecay(\n",
    "            args.lr,\n",
    "            decay_steps=int(args.ntrain//args.batch_size),\n",
    "            decay_rate=args.lr_decay,\n",
    "            staircase=True\n",
    "        )\n",
    "else:\n",
    "    lr_schedule = args.lr\n",
    "\n"
   ]
  },
  {
   "cell_type": "code",
   "execution_count": 105,
   "id": "4f2adb24",
   "metadata": {
    "ExecuteTime": {
     "end_time": "2022-06-22T14:48:53.112018Z",
     "start_time": "2022-06-22T14:48:53.103420Z"
    }
   },
   "outputs": [],
   "source": [
    "def get_model(args, weights=None):\n",
    "\n",
    "    tf.keras.backend.clear_session()\n",
    "\n",
    "    \n",
    "    with strategy.scope():\n",
    "        opt = tf.keras.optimizers.Adam(learning_rate=args.lr)\n",
    "        # Construction of the model\n",
    "        model = LinkingModel(\n",
    "                    activation = args.activation,\n",
    "                    output_dim_msa=args.output_dim_msa,\n",
    "                    num_heads_msa=args.num_heads_msa,\n",
    "                    ff_dim_msa=args.ff_dim_msa,\n",
    "                    nrepeat_msa=args.nrepeat_msa,\n",
    "                    dropout = args.dropout,\n",
    "                    l2_reg = args.l2_reg\n",
    "                    )\n",
    "        \n",
    "         \n",
    "        #     loss_new =  tf.keras.losses.BinaryFocalCrossentropy(\n",
    "        #         gamma=2.0,\n",
    "        #         from_logits=False,\n",
    "        #         label_smoothing=0.0,\n",
    "        #         axis=-1,\n",
    "        #         reduction=losses_utils.ReductionV2.AUTO,\n",
    "        #         name='binary_focal_crossentropy'\n",
    "        #     )\n",
    "\n",
    "        model.compile(optimizer=args.opt)\n",
    "        model.set_metrics()\n",
    "        \n",
    "        ypred = model(X[0:args.batch_size])\n",
    "        if weights:\n",
    "            model.load_weights(weights)\n",
    "        return model"
   ]
  },
  {
   "cell_type": "code",
   "execution_count": 104,
   "id": "a4d35aee",
   "metadata": {
    "ExecuteTime": {
     "end_time": "2022-06-22T14:48:50.999574Z",
     "start_time": "2022-06-22T14:48:50.520728Z"
    }
   },
   "outputs": [],
   "source": [
    "callbacks = []\n",
    "# tb = tf.keras.callbacks.TensorBoard(\n",
    "#     log_dir=outdir, histogram_freq=2, \n",
    "#     write_graph=False, \n",
    "#     write_images=True,\n",
    "#     update_freq='epoch',\n",
    "#     profile_batch=0,\n",
    "# )\n",
    "# tb.set_model(model)\n",
    "# callbacks += [tb]\n",
    "\n",
    "terminate_cb = tf.keras.callbacks.TerminateOnNaN()\n",
    "callbacks += [terminate_cb]\n",
    "\n",
    "lr_reduce = tf.keras.callbacks.ReduceLROnPlateau(\n",
    "    monitor='val_loss', factor=0.5, patience=5, verbose=1,\n",
    "    mode='auto', min_delta=0.0005, cooldown=0, min_lr=1e-7,\n",
    ")\n",
    "\n",
    "\n",
    "cp_callback = tf.keras.callbacks.ModelCheckpoint(\n",
    "    filepath=outdir + \"/weights.{epoch:02d}-{val_loss:.6f}.hdf5\",\n",
    "    save_weights_only=True,\n",
    "    verbose=1\n",
    ")\n",
    "cp_callback.set_model(model)\n",
    "\n",
    "\n",
    "early = tf.keras.callbacks.EarlyStopping(\n",
    "    monitor='val_loss', min_delta=0.001, patience=20, verbose=1,\n",
    "    mode='auto', baseline=None, restore_best_weights=False\n",
    ")\n",
    "early.set_model(model)\n",
    "\n",
    "\n",
    "import plot_loss\n",
    "\n",
    "loss_plotter = plot_loss.LossPlotter(outdir)\n",
    "# loss_plotter.set_model(model)\n",
    "\n",
    "\n",
    "callbacks += [loss_plotter, cp_callback, lr_reduce, early]"
   ]
  },
  {
   "cell_type": "code",
   "execution_count": 106,
   "id": "84d2e2f9",
   "metadata": {
    "ExecuteTime": {
     "end_time": "2022-06-22T14:48:59.880392Z",
     "start_time": "2022-06-22T14:48:59.646901Z"
    }
   },
   "outputs": [],
   "source": [
    "model = get_model(args)"
   ]
  },
  {
   "cell_type": "code",
   "execution_count": 107,
   "id": "ea2ada19",
   "metadata": {
    "ExecuteTime": {
     "end_time": "2022-06-22T14:49:00.338780Z",
     "start_time": "2022-06-22T14:49:00.331608Z"
    }
   },
   "outputs": [
    {
     "name": "stdout",
     "output_type": "stream",
     "text": [
      "Model: \"linking_model\"\n",
      "_________________________________________________________________\n",
      "Layer (type)                 Output Shape              Param #   \n",
      "=================================================================\n",
      "MSA_0 (MultiSelfAttentionBlo multiple                  33920     \n",
      "_________________________________________________________________\n",
      "MSA_1 (MultiSelfAttentionBlo multiple                  37312     \n",
      "=================================================================\n",
      "Total params: 71,234\n",
      "Trainable params: 71,232\n",
      "Non-trainable params: 2\n",
      "_________________________________________________________________\n"
     ]
    }
   ],
   "source": [
    "model.summary()"
   ]
  },
  {
   "cell_type": "code",
   "execution_count": 110,
   "id": "bfc74020",
   "metadata": {
    "ExecuteTime": {
     "end_time": "2022-06-22T14:51:19.891233Z",
     "start_time": "2022-06-22T14:50:16.586836Z"
    }
   },
   "outputs": [
    {
     "data": {
      "image/png": "[encoded data removed]",
      "text/plain": [
       "<Figure size 2400x1200 with 8 Axes>"
      ]
     },
     "metadata": {
      "needs_background": "light"
     },
     "output_type": "display_data"
    },
    {
     "ename": "KeyError",
     "evalue": "'Failed to format this callback filepath: \"/eos/user/d/dvalsecc/HGCAL_SuperClustering/models/run_07/weights.{epoch:02d}-{val_loss:.6f}.hdf5\". Reason: \\'val_loss\\''",
     "output_type": "error",
     "traceback": [
      "\u001b[0;31m---------------------------------------------------------------------------\u001b[0m",
      "\u001b[0;31mKeyError\u001b[0m                                  Traceback (most recent call last)",
      "\u001b[0;32m/cvmfs/sft.cern.ch/lcg/views/LCG_101swan/x86_64-centos7-gcc8-opt/lib/python3.9/site-packages/tensorflow/python/keras/callbacks.py\u001b[0m in \u001b[0;36m_get_file_path\u001b[0;34m(self, epoch, logs)\u001b[0m\n\u001b[1;32m   1451\u001b[0m       \u001b[0;31m# placeholders can cause formatting to fail.\u001b[0m\u001b[0;34m\u001b[0m\u001b[0;34m\u001b[0m\u001b[0;34m\u001b[0m\u001b[0m\n\u001b[0;32m-> 1452\u001b[0;31m       \u001b[0mfile_path\u001b[0m \u001b[0;34m=\u001b[0m \u001b[0mself\u001b[0m\u001b[0;34m.\u001b[0m\u001b[0mfilepath\u001b[0m\u001b[0;34m.\u001b[0m\u001b[0mformat\u001b[0m\u001b[0;34m(\u001b[0m\u001b[0mepoch\u001b[0m\u001b[0;34m=\u001b[0m\u001b[0mepoch\u001b[0m \u001b[0;34m+\u001b[0m \u001b[0;36m1\u001b[0m\u001b[0;34m,\u001b[0m \u001b[0;34m**\u001b[0m\u001b[0mlogs\u001b[0m\u001b[0;34m)\u001b[0m\u001b[0;34m\u001b[0m\u001b[0;34m\u001b[0m\u001b[0m\n\u001b[0m\u001b[1;32m   1453\u001b[0m     \u001b[0;32mexcept\u001b[0m \u001b[0mKeyError\u001b[0m \u001b[0;32mas\u001b[0m \u001b[0me\u001b[0m\u001b[0;34m:\u001b[0m\u001b[0;34m\u001b[0m\u001b[0;34m\u001b[0m\u001b[0m\n",
      "\u001b[0;31mKeyError\u001b[0m: 'val_loss'",
      "\nDuring handling of the above exception, another exception occurred:\n",
      "\u001b[0;31mKeyError\u001b[0m                                  Traceback (most recent call last)",
      "\u001b[0;32m/tmp/ipykernel_2004/1128512437.py\u001b[0m in \u001b[0;36m<module>\u001b[0;34m\u001b[0m\n\u001b[1;32m      1\u001b[0m \u001b[0;32mif\u001b[0m \u001b[0margs\u001b[0m\u001b[0;34m.\u001b[0m\u001b[0mnepochs\u001b[0m \u001b[0;34m>\u001b[0m \u001b[0;36m0\u001b[0m\u001b[0;34m:\u001b[0m\u001b[0;34m\u001b[0m\u001b[0;34m\u001b[0m\u001b[0m\n\u001b[0;32m----> 2\u001b[0;31m     ret = model.fit(\n\u001b[0m\u001b[1;32m      3\u001b[0m         \u001b[0mx\u001b[0m\u001b[0;34m=\u001b[0m\u001b[0mX\u001b[0m\u001b[0;34m,\u001b[0m\u001b[0;34m\u001b[0m\u001b[0;34m\u001b[0m\u001b[0m\n\u001b[1;32m      4\u001b[0m         \u001b[0my\u001b[0m\u001b[0;34m=\u001b[0m\u001b[0mY\u001b[0m\u001b[0;34m,\u001b[0m\u001b[0;34m\u001b[0m\u001b[0;34m\u001b[0m\u001b[0m\n\u001b[1;32m      5\u001b[0m         \u001b[0mbatch_size\u001b[0m\u001b[0;34m=\u001b[0m\u001b[0margs\u001b[0m\u001b[0;34m.\u001b[0m\u001b[0mbatch_size\u001b[0m\u001b[0;34m,\u001b[0m\u001b[0;34m\u001b[0m\u001b[0;34m\u001b[0m\u001b[0m\n",
      "\u001b[0;32m/cvmfs/sft.cern.ch/lcg/views/LCG_101swan/x86_64-centos7-gcc8-opt/lib/python3.9/site-packages/tensorflow/python/keras/engine/training.py\u001b[0m in \u001b[0;36mfit\u001b[0;34m(self, x, y, batch_size, epochs, verbose, callbacks, validation_split, validation_data, shuffle, class_weight, sample_weight, initial_epoch, steps_per_epoch, validation_steps, validation_batch_size, validation_freq, max_queue_size, workers, use_multiprocessing)\u001b[0m\n\u001b[1;32m   1227\u001b[0m           \u001b[0mepoch_logs\u001b[0m\u001b[0;34m.\u001b[0m\u001b[0mupdate\u001b[0m\u001b[0;34m(\u001b[0m\u001b[0mval_logs\u001b[0m\u001b[0;34m)\u001b[0m\u001b[0;34m\u001b[0m\u001b[0;34m\u001b[0m\u001b[0m\n\u001b[1;32m   1228\u001b[0m \u001b[0;34m\u001b[0m\u001b[0m\n\u001b[0;32m-> 1229\u001b[0;31m         \u001b[0mcallbacks\u001b[0m\u001b[0;34m.\u001b[0m\u001b[0mon_epoch_end\u001b[0m\u001b[0;34m(\u001b[0m\u001b[0mepoch\u001b[0m\u001b[0;34m,\u001b[0m \u001b[0mepoch_logs\u001b[0m\u001b[0;34m)\u001b[0m\u001b[0;34m\u001b[0m\u001b[0;34m\u001b[0m\u001b[0m\n\u001b[0m\u001b[1;32m   1230\u001b[0m         \u001b[0mtraining_logs\u001b[0m \u001b[0;34m=\u001b[0m \u001b[0mepoch_logs\u001b[0m\u001b[0;34m\u001b[0m\u001b[0;34m\u001b[0m\u001b[0m\n\u001b[1;32m   1231\u001b[0m         \u001b[0;32mif\u001b[0m \u001b[0mself\u001b[0m\u001b[0;34m.\u001b[0m\u001b[0mstop_training\u001b[0m\u001b[0;34m:\u001b[0m\u001b[0;34m\u001b[0m\u001b[0;34m\u001b[0m\u001b[0m\n",
      "\u001b[0;32m/cvmfs/sft.cern.ch/lcg/views/LCG_101swan/x86_64-centos7-gcc8-opt/lib/python3.9/site-packages/tensorflow/python/keras/callbacks.py\u001b[0m in \u001b[0;36mon_epoch_end\u001b[0;34m(self, epoch, logs)\u001b[0m\n\u001b[1;32m    433\u001b[0m     \u001b[0mlogs\u001b[0m \u001b[0;34m=\u001b[0m \u001b[0mself\u001b[0m\u001b[0;34m.\u001b[0m\u001b[0m_process_logs\u001b[0m\u001b[0;34m(\u001b[0m\u001b[0mlogs\u001b[0m\u001b[0;34m)\u001b[0m\u001b[0;34m\u001b[0m\u001b[0;34m\u001b[0m\u001b[0m\n\u001b[1;32m    434\u001b[0m     \u001b[0;32mfor\u001b[0m \u001b[0mcallback\u001b[0m \u001b[0;32min\u001b[0m \u001b[0mself\u001b[0m\u001b[0;34m.\u001b[0m\u001b[0mcallbacks\u001b[0m\u001b[0;34m:\u001b[0m\u001b[0;34m\u001b[0m\u001b[0;34m\u001b[0m\u001b[0m\n\u001b[0;32m--> 435\u001b[0;31m       \u001b[0mcallback\u001b[0m\u001b[0;34m.\u001b[0m\u001b[0mon_epoch_end\u001b[0m\u001b[0;34m(\u001b[0m\u001b[0mepoch\u001b[0m\u001b[0;34m,\u001b[0m \u001b[0mlogs\u001b[0m\u001b[0;34m)\u001b[0m\u001b[0;34m\u001b[0m\u001b[0;34m\u001b[0m\u001b[0m\n\u001b[0m\u001b[1;32m    436\u001b[0m \u001b[0;34m\u001b[0m\u001b[0m\n\u001b[1;32m    437\u001b[0m   \u001b[0;32mdef\u001b[0m \u001b[0mon_train_batch_begin\u001b[0m\u001b[0;34m(\u001b[0m\u001b[0mself\u001b[0m\u001b[0;34m,\u001b[0m \u001b[0mbatch\u001b[0m\u001b[0;34m,\u001b[0m \u001b[0mlogs\u001b[0m\u001b[0;34m=\u001b[0m\u001b[0;32mNone\u001b[0m\u001b[0;34m)\u001b[0m\u001b[0;34m:\u001b[0m\u001b[0;34m\u001b[0m\u001b[0;34m\u001b[0m\u001b[0m\n",
      "\u001b[0;32m/cvmfs/sft.cern.ch/lcg/views/LCG_101swan/x86_64-centos7-gcc8-opt/lib/python3.9/site-packages/tensorflow/python/keras/callbacks.py\u001b[0m in \u001b[0;36mon_epoch_end\u001b[0;34m(self, epoch, logs)\u001b[0m\n\u001b[1;32m   1367\u001b[0m     \u001b[0;31m# pylint: disable=protected-access\u001b[0m\u001b[0;34m\u001b[0m\u001b[0;34m\u001b[0m\u001b[0;34m\u001b[0m\u001b[0m\n\u001b[1;32m   1368\u001b[0m     \u001b[0;32mif\u001b[0m \u001b[0mself\u001b[0m\u001b[0;34m.\u001b[0m\u001b[0msave_freq\u001b[0m \u001b[0;34m==\u001b[0m \u001b[0;34m'epoch'\u001b[0m\u001b[0;34m:\u001b[0m\u001b[0;34m\u001b[0m\u001b[0;34m\u001b[0m\u001b[0m\n\u001b[0;32m-> 1369\u001b[0;31m       \u001b[0mself\u001b[0m\u001b[0;34m.\u001b[0m\u001b[0m_save_model\u001b[0m\u001b[0;34m(\u001b[0m\u001b[0mepoch\u001b[0m\u001b[0;34m=\u001b[0m\u001b[0mepoch\u001b[0m\u001b[0;34m,\u001b[0m \u001b[0mlogs\u001b[0m\u001b[0;34m=\u001b[0m\u001b[0mlogs\u001b[0m\u001b[0;34m)\u001b[0m\u001b[0;34m\u001b[0m\u001b[0;34m\u001b[0m\u001b[0m\n\u001b[0m\u001b[1;32m   1370\u001b[0m \u001b[0;34m\u001b[0m\u001b[0m\n\u001b[1;32m   1371\u001b[0m   \u001b[0;32mdef\u001b[0m \u001b[0m_should_save_on_batch\u001b[0m\u001b[0;34m(\u001b[0m\u001b[0mself\u001b[0m\u001b[0;34m,\u001b[0m \u001b[0mbatch\u001b[0m\u001b[0;34m)\u001b[0m\u001b[0;34m:\u001b[0m\u001b[0;34m\u001b[0m\u001b[0;34m\u001b[0m\u001b[0m\n",
      "\u001b[0;32m/cvmfs/sft.cern.ch/lcg/views/LCG_101swan/x86_64-centos7-gcc8-opt/lib/python3.9/site-packages/tensorflow/python/keras/callbacks.py\u001b[0m in \u001b[0;36m_save_model\u001b[0;34m(self, epoch, logs)\u001b[0m\n\u001b[1;32m   1400\u001b[0m       \u001b[0mlogs\u001b[0m \u001b[0;34m=\u001b[0m \u001b[0mtf_utils\u001b[0m\u001b[0;34m.\u001b[0m\u001b[0msync_to_numpy_or_python_type\u001b[0m\u001b[0;34m(\u001b[0m\u001b[0mlogs\u001b[0m\u001b[0;34m)\u001b[0m\u001b[0;34m\u001b[0m\u001b[0;34m\u001b[0m\u001b[0m\n\u001b[1;32m   1401\u001b[0m       \u001b[0mself\u001b[0m\u001b[0;34m.\u001b[0m\u001b[0mepochs_since_last_save\u001b[0m \u001b[0;34m=\u001b[0m \u001b[0;36m0\u001b[0m\u001b[0;34m\u001b[0m\u001b[0;34m\u001b[0m\u001b[0m\n\u001b[0;32m-> 1402\u001b[0;31m       \u001b[0mfilepath\u001b[0m \u001b[0;34m=\u001b[0m \u001b[0mself\u001b[0m\u001b[0;34m.\u001b[0m\u001b[0m_get_file_path\u001b[0m\u001b[0;34m(\u001b[0m\u001b[0mepoch\u001b[0m\u001b[0;34m,\u001b[0m \u001b[0mlogs\u001b[0m\u001b[0;34m)\u001b[0m\u001b[0;34m\u001b[0m\u001b[0;34m\u001b[0m\u001b[0m\n\u001b[0m\u001b[1;32m   1403\u001b[0m \u001b[0;34m\u001b[0m\u001b[0m\n\u001b[1;32m   1404\u001b[0m       \u001b[0;32mtry\u001b[0m\u001b[0;34m:\u001b[0m\u001b[0;34m\u001b[0m\u001b[0;34m\u001b[0m\u001b[0m\n",
      "\u001b[0;32m/cvmfs/sft.cern.ch/lcg/views/LCG_101swan/x86_64-centos7-gcc8-opt/lib/python3.9/site-packages/tensorflow/python/keras/callbacks.py\u001b[0m in \u001b[0;36m_get_file_path\u001b[0;34m(self, epoch, logs)\u001b[0m\n\u001b[1;32m   1452\u001b[0m       \u001b[0mfile_path\u001b[0m \u001b[0;34m=\u001b[0m \u001b[0mself\u001b[0m\u001b[0;34m.\u001b[0m\u001b[0mfilepath\u001b[0m\u001b[0;34m.\u001b[0m\u001b[0mformat\u001b[0m\u001b[0;34m(\u001b[0m\u001b[0mepoch\u001b[0m\u001b[0;34m=\u001b[0m\u001b[0mepoch\u001b[0m \u001b[0;34m+\u001b[0m \u001b[0;36m1\u001b[0m\u001b[0;34m,\u001b[0m \u001b[0;34m**\u001b[0m\u001b[0mlogs\u001b[0m\u001b[0;34m)\u001b[0m\u001b[0;34m\u001b[0m\u001b[0;34m\u001b[0m\u001b[0m\n\u001b[1;32m   1453\u001b[0m     \u001b[0;32mexcept\u001b[0m \u001b[0mKeyError\u001b[0m \u001b[0;32mas\u001b[0m \u001b[0me\u001b[0m\u001b[0;34m:\u001b[0m\u001b[0;34m\u001b[0m\u001b[0;34m\u001b[0m\u001b[0m\n\u001b[0;32m-> 1454\u001b[0;31m       raise KeyError('Failed to format this callback filepath: \"{}\". '\n\u001b[0m\u001b[1;32m   1455\u001b[0m                      'Reason: {}'.format(self.filepath, e))\n\u001b[1;32m   1456\u001b[0m     self._write_filepath = distributed_file_utils.write_filepath(\n",
      "\u001b[0;31mKeyError\u001b[0m: 'Failed to format this callback filepath: \"/eos/user/d/dvalsecc/HGCAL_SuperClustering/models/run_07/weights.{epoch:02d}-{val_loss:.6f}.hdf5\". Reason: \\'val_loss\\''"
     ]
    }
   ],
   "source": [
    "if args.nepochs > 0:\n",
    "    ret = model.fit(\n",
    "        x=X,\n",
    "        y=Y,\n",
    "        batch_size=args.batch_size,\n",
    "        epochs=args.nepochs,\n",
    "        verbose=True,\n",
    "        callbacks = callbacks,\n",
    "        initial_epoch = args.initial_epoch\n",
    "    )\n",
    "\n"
   ]
  },
  {
   "cell_type": "code",
   "execution_count": null,
   "id": "c026cdd4",
   "metadata": {},
   "outputs": [],
   "source": []
  },
  {
   "cell_type": "code",
   "execution_count": null,
   "id": "f4fb5c54",
   "metadata": {},
   "outputs": [],
   "source": []
  },
  {
   "cell_type": "code",
   "execution_count": null,
   "id": "e4f038a0",
   "metadata": {},
   "outputs": [],
   "source": []
  },
  {
   "cell_type": "code",
   "execution_count": null,
   "id": "34bc912d",
   "metadata": {},
   "outputs": [],
   "source": []
  },
  {
   "cell_type": "code",
   "execution_count": 39,
   "id": "3d0ad5db",
   "metadata": {
    "ExecuteTime": {
     "end_time": "2022-06-22T14:34:09.625972Z",
     "start_time": "2022-06-22T14:34:09.422611Z"
    },
    "scrolled": true
   },
   "outputs": [
    {
     "name": "stderr",
     "output_type": "stream",
     "text": [
      "2022-06-22 16:34:09.514542: W tensorflow/core/grappler/optimizers/data/auto_shard.cc:695] AUTO sharding policy will apply DATA sharding policy as it failed to apply FILE sharding policy because of the following reason: Did not find a shardable source, walked to a node which is not a dataset: name: \"FlatMapDataset/_9\"\n",
      "op: \"FlatMapDataset\"\n",
      "input: \"PrefetchDataset/_8\"\n",
      "attr {\n",
      "  key: \"Targuments\"\n",
      "  value {\n",
      "    list {\n",
      "    }\n",
      "  }\n",
      "}\n",
      "attr {\n",
      "  key: \"f\"\n",
      "  value {\n",
      "    func {\n",
      "      name: \"__inference_Dataset_flat_map_slice_batch_indices_28740\"\n",
      "    }\n",
      "  }\n",
      "}\n",
      "attr {\n",
      "  key: \"output_shapes\"\n",
      "  value {\n",
      "    list {\n",
      "      shape {\n",
      "        dim {\n",
      "          size: -1\n",
      "        }\n",
      "      }\n",
      "    }\n",
      "  }\n",
      "}\n",
      "attr {\n",
      "  key: \"output_types\"\n",
      "  value {\n",
      "    list {\n",
      "      type: DT_INT64\n",
      "    }\n",
      "  }\n",
      "}\n",
      ". Consider either turning off auto-sharding or switching the auto_shard_policy to DATA to shard this dataset. You can do this by creating a new `tf.data.Options()` object then setting `options.experimental_distribute.auto_shard_policy = AutoShardPolicy.DATA` before applying the options object to the dataset via `dataset.with_options(options)`.\n"
     ]
    },
    {
     "ename": "AttributeError",
     "evalue": "'LinkingModel' object has no attribute 'loss_tracker'",
     "output_type": "error",
     "traceback": [
      "\u001b[0;31m---------------------------------------------------------------------------\u001b[0m",
      "\u001b[0;31mAttributeError\u001b[0m                            Traceback (most recent call last)",
      "\u001b[0;32m/tmp/ipykernel_2004/2216361350.py\u001b[0m in \u001b[0;36m<module>\u001b[0;34m\u001b[0m\n\u001b[0;32m----> 1\u001b[0;31m model.fit(\n\u001b[0m\u001b[1;32m      2\u001b[0m     \u001b[0mx\u001b[0m\u001b[0;34m=\u001b[0m\u001b[0mX\u001b[0m\u001b[0;34m,\u001b[0m\u001b[0;34m\u001b[0m\u001b[0;34m\u001b[0m\u001b[0m\n\u001b[1;32m      3\u001b[0m     \u001b[0my\u001b[0m\u001b[0;34m=\u001b[0m\u001b[0mY\u001b[0m\u001b[0;34m,\u001b[0m\u001b[0;34m\u001b[0m\u001b[0;34m\u001b[0m\u001b[0m\n\u001b[1;32m      4\u001b[0m     \u001b[0mbatch_size\u001b[0m\u001b[0;34m=\u001b[0m\u001b[0margs\u001b[0m\u001b[0;34m.\u001b[0m\u001b[0mbatch_size\u001b[0m\u001b[0;34m,\u001b[0m\u001b[0;34m\u001b[0m\u001b[0;34m\u001b[0m\u001b[0m\n\u001b[1;32m      5\u001b[0m     \u001b[0mepochs\u001b[0m\u001b[0;34m=\u001b[0m\u001b[0margs\u001b[0m\u001b[0;34m.\u001b[0m\u001b[0mnepochs\u001b[0m\u001b[0;34m,\u001b[0m\u001b[0;34m\u001b[0m\u001b[0;34m\u001b[0m\u001b[0m\n",
      "\u001b[0;32m/cvmfs/sft.cern.ch/lcg/views/LCG_101swan/x86_64-centos7-gcc8-opt/lib/python3.9/site-packages/tensorflow/python/keras/engine/training.py\u001b[0m in \u001b[0;36mfit\u001b[0;34m(self, x, y, batch_size, epochs, verbose, callbacks, validation_split, validation_data, shuffle, class_weight, sample_weight, initial_epoch, steps_per_epoch, validation_steps, validation_batch_size, validation_freq, max_queue_size, workers, use_multiprocessing)\u001b[0m\n\u001b[1;32m   1170\u001b[0m       \u001b[0mlogs\u001b[0m \u001b[0;34m=\u001b[0m \u001b[0;32mNone\u001b[0m\u001b[0;34m\u001b[0m\u001b[0;34m\u001b[0m\u001b[0m\n\u001b[1;32m   1171\u001b[0m       \u001b[0;32mfor\u001b[0m \u001b[0mepoch\u001b[0m\u001b[0;34m,\u001b[0m \u001b[0miterator\u001b[0m \u001b[0;32min\u001b[0m \u001b[0mdata_handler\u001b[0m\u001b[0;34m.\u001b[0m\u001b[0menumerate_epochs\u001b[0m\u001b[0;34m(\u001b[0m\u001b[0;34m)\u001b[0m\u001b[0;34m:\u001b[0m\u001b[0;34m\u001b[0m\u001b[0;34m\u001b[0m\u001b[0m\n\u001b[0;32m-> 1172\u001b[0;31m         \u001b[0mself\u001b[0m\u001b[0;34m.\u001b[0m\u001b[0mreset_metrics\u001b[0m\u001b[0;34m(\u001b[0m\u001b[0;34m)\u001b[0m\u001b[0;34m\u001b[0m\u001b[0;34m\u001b[0m\u001b[0m\n\u001b[0m\u001b[1;32m   1173\u001b[0m         \u001b[0mcallbacks\u001b[0m\u001b[0;34m.\u001b[0m\u001b[0mon_epoch_begin\u001b[0m\u001b[0;34m(\u001b[0m\u001b[0mepoch\u001b[0m\u001b[0;34m)\u001b[0m\u001b[0;34m\u001b[0m\u001b[0;34m\u001b[0m\u001b[0m\n\u001b[1;32m   1174\u001b[0m         \u001b[0;32mwith\u001b[0m \u001b[0mdata_handler\u001b[0m\u001b[0;34m.\u001b[0m\u001b[0mcatch_stop_iteration\u001b[0m\u001b[0;34m(\u001b[0m\u001b[0;34m)\u001b[0m\u001b[0;34m:\u001b[0m\u001b[0;34m\u001b[0m\u001b[0;34m\u001b[0m\u001b[0m\n",
      "\u001b[0;32m/cvmfs/sft.cern.ch/lcg/views/LCG_101swan/x86_64-centos7-gcc8-opt/lib/python3.9/site-packages/tensorflow/python/keras/engine/training.py\u001b[0m in \u001b[0;36mreset_metrics\u001b[0;34m(self)\u001b[0m\n\u001b[1;32m   1764\u001b[0m \u001b[0;34m\u001b[0m\u001b[0m\n\u001b[1;32m   1765\u001b[0m     \"\"\"\n\u001b[0;32m-> 1766\u001b[0;31m     \u001b[0;32mfor\u001b[0m \u001b[0mm\u001b[0m \u001b[0;32min\u001b[0m \u001b[0mself\u001b[0m\u001b[0;34m.\u001b[0m\u001b[0mmetrics\u001b[0m\u001b[0;34m:\u001b[0m\u001b[0;34m\u001b[0m\u001b[0;34m\u001b[0m\u001b[0m\n\u001b[0m\u001b[1;32m   1767\u001b[0m       \u001b[0mm\u001b[0m\u001b[0;34m.\u001b[0m\u001b[0mreset_state\u001b[0m\u001b[0;34m(\u001b[0m\u001b[0;34m)\u001b[0m\u001b[0;34m\u001b[0m\u001b[0;34m\u001b[0m\u001b[0m\n\u001b[1;32m   1768\u001b[0m \u001b[0;34m\u001b[0m\u001b[0m\n",
      "\u001b[0;32m/tmp/ipykernel_2004/186680040.py\u001b[0m in \u001b[0;36mmetrics\u001b[0;34m(self)\u001b[0m\n\u001b[1;32m    115\u001b[0m         \u001b[0;31m# If you don't implement this property, you have to call\u001b[0m\u001b[0;34m\u001b[0m\u001b[0;34m\u001b[0m\u001b[0;34m\u001b[0m\u001b[0m\n\u001b[1;32m    116\u001b[0m         \u001b[0;31m# `reset_states()` yourself at the time of your choosing.\u001b[0m\u001b[0;34m\u001b[0m\u001b[0;34m\u001b[0m\u001b[0;34m\u001b[0m\u001b[0m\n\u001b[0;32m--> 117\u001b[0;31m         \u001b[0;32mreturn\u001b[0m \u001b[0;34m[\u001b[0m\u001b[0mself\u001b[0m\u001b[0;34m.\u001b[0m\u001b[0mloss_tracker\u001b[0m\u001b[0;34m]\u001b[0m\u001b[0;34m\u001b[0m\u001b[0;34m\u001b[0m\u001b[0m\n\u001b[0m\u001b[1;32m    118\u001b[0m \u001b[0;34m\u001b[0m\u001b[0m\n\u001b[1;32m    119\u001b[0m \u001b[0;31m## Loss functions\u001b[0m\u001b[0;34m\u001b[0m\u001b[0;34m\u001b[0m\u001b[0;34m\u001b[0m\u001b[0m\n",
      "\u001b[0;31mAttributeError\u001b[0m: 'LinkingModel' object has no attribute 'loss_tracker'"
     ]
    }
   ],
   "source": [
    "model.fit(\n",
    "    x=X,\n",
    "    y=Y,\n",
    "    batch_size=args.batch_size,\n",
    "    epochs=args.nepochs, \n",
    "    verbose='auto',\n",
    "    callbacks=None,\n",
    "    validation_split=0.4,\n",
    "    shuffle=True,\n",
    "    class_weight=None,\n",
    "    sample_weight=None,\n",
    "    initial_epoch=args.initial_epoch,\n",
    "    steps_per_epoch=None,\n",
    "    validation_steps=None,\n",
    "    validation_batch_size=None,\n",
    "    validation_freq=1,\n",
    "    max_queue_size=10,\n",
    "    workers=1,\n",
    "    use_multiprocessing=False\n",
    ")\n"
   ]
  },
  {
   "cell_type": "code",
   "execution_count": 99,
   "id": "c67fc066",
   "metadata": {
    "ExecuteTime": {
     "end_time": "2022-06-22T14:46:14.273607Z",
     "start_time": "2022-06-22T14:46:14.265391Z"
    }
   },
   "outputs": [
    {
     "data": {
      "text/plain": [
       "<tf.Tensor: shape=(), dtype=float32, numpy=3.5705843>"
      ]
     },
     "execution_count": 99,
     "metadata": {},
     "output_type": "execute_result"
    }
   ],
   "source": [
    "reduced_loss"
   ]
  },
  {
   "cell_type": "code",
   "execution_count": null,
   "id": "cca80f79",
   "metadata": {},
   "outputs": [],
   "source": []
  }
 ],
 "metadata": {
  "kernelspec": {
   "display_name": "Python 3",
   "language": "python",
   "name": "python3"
  },
  "language_info": {
   "codemirror_mode": {
    "name": "ipython",
    "version": 3
   },
   "file_extension": ".py",
   "mimetype": "text/x-python",
   "name": "python",
   "nbconvert_exporter": "python",
   "pygments_lexer": "ipython3",
   "version": "3.9.6"
  },
  "toc": {
   "base_numbering": 1,
   "nav_menu": {},
   "number_sections": true,
   "sideBar": true,
   "skip_h1_title": false,
   "title_cell": "Table of Contents",
   "title_sidebar": "Contents",
   "toc_cell": false,
   "toc_position": {},
   "toc_section_display": true,
   "toc_window_display": false
  },
  "varInspector": {
   "cols": {
    "lenName": 16,
    "lenType": 16,
    "lenVar": 40
   },
   "kernels_config": {
    "python": {
     "delete_cmd_postfix": "",
     "delete_cmd_prefix": "del ",
     "library": "var_list.py",
     "varRefreshCmd": "print(var_dic_list())"
    },
    "r": {
     "delete_cmd_postfix": ") ",
     "delete_cmd_prefix": "rm(",
     "library": "var_list.r",
     "varRefreshCmd": "cat(var_dic_list()) "
    }
   },
   "types_to_exclude": [
    "module",
    "function",
    "builtin_function_or_method",
    "instance",
    "_Feature"
   ],
   "window_display": false
  }
 },
 "nbformat": 4,
 "nbformat_minor": 5
}
