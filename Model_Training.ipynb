{
 "cells": [
  {
   "cell_type": "code",
   "execution_count": 3,
   "id": "46096fbc",
   "metadata": {
    "ExecuteTime": {
     "end_time": "2022-06-23T12:57:42.880302Z",
     "start_time": "2022-06-23T12:57:33.971560Z"
    }
   },
   "outputs": [
    {
     "name": "stderr",
     "output_type": "stream",
     "text": [
      "2022-06-24 14:03:41.895877: I tensorflow/stream_executor/platform/default/dso_loader.cc:53] Successfully opened dynamic library libcudart.so.11.0\n"
     ]
    },
    {
     "name": "stdout",
     "output_type": "stream",
     "text": [
      "version=2.5.0, CUDA=True, GPU=True\n",
      "5 Physical GPUs, 1 Logical GPU\n"
     ]
    },
    {
     "name": "stderr",
     "output_type": "stream",
     "text": [
      "2022-06-24 14:03:47.198744: I tensorflow/stream_executor/platform/default/dso_loader.cc:53] Successfully opened dynamic library libcuda.so.1\n",
      "2022-06-24 14:03:47.329310: I tensorflow/core/common_runtime/gpu/gpu_device.cc:1733] Found device 0 with properties: \n",
      "pciBusID: 0000:18:00.0 name: NVIDIA A10 computeCapability: 8.6\n",
      "coreClock: 1.695GHz coreCount: 72 deviceMemorySize: 23.69GiB deviceMemoryBandwidth: 558.88GiB/s\n",
      "2022-06-24 14:03:47.329732: I tensorflow/core/common_runtime/gpu/gpu_device.cc:1733] Found device 1 with properties: \n",
      "pciBusID: 0000:3b:00.0 name: NVIDIA A10 computeCapability: 8.6\n",
      "coreClock: 1.695GHz coreCount: 72 deviceMemorySize: 23.69GiB deviceMemoryBandwidth: 558.88GiB/s\n",
      "2022-06-24 14:03:47.330114: I tensorflow/core/common_runtime/gpu/gpu_device.cc:1733] Found device 2 with properties: \n",
      "pciBusID: 0000:86:00.0 name: Tesla V100-PCIE-32GB computeCapability: 7.0\n",
      "coreClock: 1.38GHz coreCount: 80 deviceMemorySize: 31.75GiB deviceMemoryBandwidth: 836.37GiB/s\n",
      "2022-06-24 14:03:47.336262: I tensorflow/core/common_runtime/gpu/gpu_device.cc:1733] Found device 3 with properties: \n",
      "pciBusID: 0000:5e:00.0 name: Tesla T4 computeCapability: 7.5\n",
      "coreClock: 1.59GHz coreCount: 40 deviceMemorySize: 14.56GiB deviceMemoryBandwidth: 298.08GiB/s\n",
      "2022-06-24 14:03:47.339281: I tensorflow/core/common_runtime/gpu/gpu_device.cc:1733] Found device 4 with properties: \n",
      "pciBusID: 0000:af:00.0 name: Tesla T4 computeCapability: 7.5\n",
      "coreClock: 1.59GHz coreCount: 40 deviceMemorySize: 14.56GiB deviceMemoryBandwidth: 298.08GiB/s\n",
      "2022-06-24 14:03:47.339314: I tensorflow/stream_executor/platform/default/dso_loader.cc:53] Successfully opened dynamic library libcudart.so.11.0\n",
      "2022-06-24 14:03:47.354892: I tensorflow/stream_executor/platform/default/dso_loader.cc:53] Successfully opened dynamic library libcublas.so.11\n",
      "2022-06-24 14:03:47.354947: I tensorflow/stream_executor/platform/default/dso_loader.cc:53] Successfully opened dynamic library libcublasLt.so.11\n",
      "2022-06-24 14:03:47.397182: I tensorflow/stream_executor/platform/default/dso_loader.cc:53] Successfully opened dynamic library libcufft.so.10\n",
      "2022-06-24 14:03:47.399616: I tensorflow/stream_executor/platform/default/dso_loader.cc:53] Successfully opened dynamic library libcurand.so.10\n",
      "2022-06-24 14:03:47.402345: I tensorflow/stream_executor/platform/default/dso_loader.cc:53] Successfully opened dynamic library libcusolver.so.11\n",
      "2022-06-24 14:03:47.407756: I tensorflow/stream_executor/platform/default/dso_loader.cc:53] Successfully opened dynamic library libcusparse.so.11\n",
      "2022-06-24 14:03:47.412696: I tensorflow/stream_executor/platform/default/dso_loader.cc:53] Successfully opened dynamic library libcudnn.so.8\n",
      "2022-06-24 14:03:47.424853: I tensorflow/core/common_runtime/gpu/gpu_device.cc:1871] Adding visible gpu devices: 0, 1, 2, 3, 4\n",
      "2022-06-24 14:03:47.427996: I tensorflow/core/platform/cpu_feature_guard.cc:142] This TensorFlow binary is optimized with oneAPI Deep Neural Network Library (oneDNN) to use the following CPU instructions in performance-critical operations:  AVX2 AVX512F FMA\n",
      "To enable them in other operations, rebuild TensorFlow with the appropriate compiler flags.\n",
      "2022-06-24 14:03:47.435412: I tensorflow/core/common_runtime/gpu/gpu_device.cc:1733] Found device 0 with properties: \n",
      "pciBusID: 0000:86:00.0 name: Tesla V100-PCIE-32GB computeCapability: 7.0\n",
      "coreClock: 1.38GHz coreCount: 80 deviceMemorySize: 31.75GiB deviceMemoryBandwidth: 836.37GiB/s\n",
      "2022-06-24 14:03:47.436126: I tensorflow/core/common_runtime/gpu/gpu_device.cc:1871] Adding visible gpu devices: 2\n",
      "2022-06-24 14:03:47.436447: I tensorflow/stream_executor/platform/default/dso_loader.cc:53] Successfully opened dynamic library libcudart.so.11.0\n",
      "2022-06-24 14:03:48.557834: I tensorflow/core/common_runtime/gpu/gpu_device.cc:1258] Device interconnect StreamExecutor with strength 1 edge matrix:\n",
      "2022-06-24 14:03:48.557886: I tensorflow/core/common_runtime/gpu/gpu_device.cc:1264]      2 \n",
      "2022-06-24 14:03:48.557899: I tensorflow/core/common_runtime/gpu/gpu_device.cc:1277] 2:   N \n",
      "2022-06-24 14:03:48.559522: I tensorflow/core/common_runtime/gpu/gpu_device.cc:1418] Created Ten"
     ]
    }
   ],
   "source": [
    "import tensorflow as tf\n",
    "import json, os\n",
    "import numpy as np\n",
    "import awkward as ak\n",
    "\n",
    "# Tested with TensorFlow 2.1.0\n",
    "print('version={}, CUDA={}, GPU={}'.format(\n",
    "    tf.__version__, tf.test.is_built_with_cuda(),\n",
    "    len(tf.config.list_physical_devices('GPU')) > 0))\n",
    "      \n",
    "    \n",
    "if len(tf.config.list_physical_devices('GPU')) > 0:\n",
    "    gpus = tf.config.list_physical_devices('GPU')\n",
    "    tf.config.set_visible_devices(gpus[2], 'GPU')\n",
    "    logical_gpus = tf.config.list_logical_devices('GPU')\n",
    "    print(len(gpus), \"Physical GPUs,\", len(logical_gpus), \"Logical GPU\")\n",
    "    #     physical_devices = tf.config.list_physical_devices('GPU')\n",
    "    #     #tf.config.experimental.set_memory_growth(physical_devices[0], enable=True)\n",
    "    #     strategy = tf.distribute.OneDeviceStrategy(\"gpu:2\")\n",
    "    strategy = tf.distribute.OneDeviceStrategy(\"gpu:2\")\n",
    "else:\n",
    "    strategy = tf.distribute.OneDeviceStrategy(\"cpu:0\")\n"
   ]
  },
  {
   "cell_type": "code",
   "execution_count": 4,
   "id": "e54b8656",
   "metadata": {
    "ExecuteTime": {
     "end_time": "2022-06-23T12:57:42.933640Z",
     "start_time": "2022-06-23T12:57:42.917622Z"
    }
   },
   "outputs": [
    {
     "name": "stderr",
     "output_type": "stream",
     "text": [
      "sorFlow device (/job:localhost/replica:0/task:0/device:GPU:0 with 30995 MB memory) -> physical GPU (device: 2, name: Tesla V100-PCIE-32GB, pci bus id: 0000:86:00.0, compute capability: 7.0)\n"
     ]
    }
   ],
   "source": [
    "#########################3\n",
    "# Masking utils\n",
    "def create_padding_masks(rechits):\n",
    "    #mask_rechits = tf.cast(tf.reduce_sum(rechits,-1) != 0, tf.float32)\n",
    "    mask_cls = tf.cast(tf.reduce_sum(rechits,[-1]) != 0, tf.float32)\n",
    "    return mask_cls\n",
    "\n",
    "###########################\n",
    "\n",
    "def point_wise_feed_forward_network(d_model, dff, name=\"fff\"):\n",
    "      return tf.keras.Sequential([\n",
    "      tf.keras.layers.Dense(dff, activation='relu'),  # (batch_size, seq_len, dff)\n",
    "      tf.keras.layers.Dense(d_model)  # (batch_size, seq_len, d_model)\n",
    "  ],name=name)\n",
    "\n",
    "    \n",
    "def get_dense(spec, act, last_act, dropout=0., L2=False, L1=False, name=\"dense\"):\n",
    "    layers = [] \n",
    "    for i, d in enumerate(spec[:-1]):\n",
    "        if not L1 and not L2:\n",
    "            layers.append(tf.keras.layers.Dense(d, activation=act, name=name+\"_{}\".format(i)))\n",
    "        if not L1 and L2:\n",
    "            layers.append(tf.keras.layers.Dense(d, activation=act, kernel_regularizer=tf.keras.regularizers.L2(0.001), name=name+\"_{}\".format(i)))\n",
    "        if not L2 and L1:\n",
    "            layers.append(tf.keras.layers.Dense(d, activation=act, kernel_regularizer=tf.keras.regularizers.L1(0.001),name=name+\"_{}\".format(i)))\n",
    "        if L1 and L2:\n",
    "            layers.append(tf.keras.layers.Dense(d, activation=act, kernel_regularizer=tf.keras.regularizers.L1L2(0.001,0.001),name=name+\"_{}\".format(i)))\n",
    "        if dropout > 0.:\n",
    "            layers.append(tf.keras.layers.Dropout(dropout))\n",
    "    layers.append(tf.keras.layers.Dense(spec[-1], activation=last_act, name=name+\"_{}\".format(i+1)))\n",
    "    return tf.keras.Sequential(layers, name=name)\n",
    "\n",
    "def get_conv1d(spec, act, last_act, dropout=0., L2=False, L1=False, name=\"dense\"):\n",
    "    layers = [] \n",
    "    for i, d in enumerate(spec[:-1]):\n",
    "        if not L1 and not L2:\n",
    "            layers.append(tf.keras.layers.Conv1D(filters=d,kernel_size=1, activation=act, name=name+\"_{}\".format(i)))\n",
    "        if not L1 and L2:\n",
    "            layers.append(tf.keras.layers.Conv1D(filters=d,kernel_size=1, activation=act, kernel_regularizer=tf.keras.regularizers.L2(0.001), name=name+\"_{}\".format(i)))\n",
    "        if not L2 and L1:\n",
    "            layers.append(tf.keras.layers.Conv1D(filters=d,kernel_size=1, activation=act, kernel_regularizer=tf.keras.regularizers.L1(0.001),name=name+\"_{}\".format(i)))\n",
    "        if L1 and L2:\n",
    "            layers.append(tf.keras.layers.Conv1D(filters=d,kernel_size=1, activation=act, kernel_regularizer=tf.keras.regularizers.L1L2(0.001,0.001),name=name+\"_{}\".format(i)))\n",
    "        if dropout > 0.:\n",
    "            layers.append(tf.keras.layers.Dropout(dropout))\n",
    "    layers.append(tf.keras.layers.Conv1D(filters=spec[-1], kernel_size=1, activation=last_act, name=name+\"_{}\".format(i+1)))\n",
    "    return tf.keras.Sequential(layers, name=name)\n",
    "\n"
   ]
  },
  {
   "cell_type": "code",
   "execution_count": 5,
   "id": "21ff5214",
   "metadata": {
    "ExecuteTime": {
     "end_time": "2022-06-23T12:57:43.014846Z",
     "start_time": "2022-06-23T12:57:42.971099Z"
    }
   },
   "outputs": [],
   "source": [
    "############################\n",
    "# From https://www.tensorflow.org/tutorials/text/transformer#multi-head_attention\n",
    "def scaled_dot_product_attention(q, k, v, mask):\n",
    "    \"\"\"Calculate the attention weights.\n",
    "    q, k, v must have matching leading dimensions.\n",
    "    k, v must have matching penultimate dimension, i.e.: seq_len_k = seq_len_v.\n",
    "    The mask has different shapes depending on its type(padding or look ahead) \n",
    "    but it must be broadcastable for addition.\n",
    "    Args:\n",
    "    q: query shape == (..., seq_len_q, depth)\n",
    "    k: key shape == (..., seq_len_k, depth)\n",
    "    v: value shape == (..., seq_len_v, depth_v)\n",
    "    mask: Float tensor with shape broadcastable \n",
    "          to (..., seq_len_q, seq_len_k). Defaults to None.\n",
    "    Returns:\n",
    "    output, attention_weights\n",
    "    \"\"\"\n",
    "\n",
    "    matmul_qk = tf.matmul(q, k, transpose_b=True)  # (..., seq_len_q, seq_len_k)\n",
    "\n",
    "    # scale matmul_qk\n",
    "    dk = tf.cast(tf.shape(k)[-1], tf.float32)\n",
    "    scaled_attention_logits = matmul_qk / tf.math.sqrt(dk)\n",
    "\n",
    "    # add the mask to the scaled tensor.\n",
    "    if mask is not None:\n",
    "        # the mask signals the elements to keep so we have to invert it\n",
    "        scaled_attention_logits += ( (1 - mask) * -1e9)  \n",
    "\n",
    "    # softmax is normalized on the last axis (seq_len_k) so that the scores\n",
    "    # add up to 1.\n",
    "    attention_weights = tf.nn.softmax(scaled_attention_logits, axis=-1)  # (..., seq_len_q, seq_len_k)\n",
    "    output = tf.matmul(attention_weights, v)  # (..., seq_len_q, depth_v)\n",
    "    return output, attention_weights\n",
    "\n",
    "\n",
    "########################################\n",
    "\n",
    "class SelfAttention(tf.keras.layers.Layer):\n",
    "    '''\n",
    "    Self attention layer only computing the SA computation\n",
    "    Input : [Nbatch, Nclusters, input_dim]\n",
    "    Output:  [Nbatch, Nclusters, output_dim]\n",
    "    '''    \n",
    "    def __init__(self, input_dim, output_dim, *args, **kwargs):\n",
    "        self.activation = kwargs.pop(\"activation\", \"relu\")\n",
    "        self.input_dim = input_dim\n",
    "        self.output_dim = output_dim\n",
    "        name = kwargs.pop(\"name\", None)\n",
    "\n",
    "        super(SelfAttention, self).__init__(name=name)\n",
    "\n",
    "        # Self-attention matrices\n",
    "        self.Q = self.add_weight(shape=(self.input_dim, self.output_dim), name=\"Q_sa_\"+name, initializer=\"random_normal\")\n",
    "        self.K = self.add_weight(shape=(self.input_dim, self.output_dim), name=\"K_sa_\"+name, initializer=\"random_normal\")\n",
    "        self.V = self.add_weight(shape=(self.input_dim, self.output_dim), name=\"V_sa_\"+name, initializer=\"random_normal\")\n",
    "\n",
    "\n",
    "    def get_config():\n",
    "        return {\n",
    "            \"input_dim\" : self.input_dim,\n",
    "            \"output_dim\": self.output_dim,\n",
    "            \"name\": self.name\n",
    "        }\n",
    "        \n",
    "    def call(self, x, mask, training):\n",
    "        # x has structure  [Nbatch, Nclusters, Nfeatures]\n",
    "        q = tf.matmul(x,self.Q)\n",
    "        k = tf.matmul(x,self.K)\n",
    "        v = tf.matmul(x,self.V)\n",
    "        # mask the padded clusters in the attention distance\n",
    "        mask_for_attention = mask[:,tf.newaxis,:]\n",
    "        # Mask for output\n",
    "        mask_for_nodes = mask[:,:,tf.newaxis]\n",
    "        # Get self-attention output and attention weights\n",
    "        sa_output, attention_weights = scaled_dot_product_attention(q, k, v, mask_for_attention)\n",
    "        # Dropout\n",
    "        sa_output = sa_output * mask_for_nodes\n",
    "        \n",
    "        return sa_output, attention_weights\n",
    "\n",
    "####################################################\n",
    "\n",
    "class SelfAttentionBlock(tf.keras.layers.Layer):\n",
    "    '''\n",
    "    Generic self attention layer that can reduce or not the output feature vectors.\n",
    "    Input : [Nbatch, Nclusters, input_dim]\n",
    "    Output:  \n",
    "            - reduce=none  [Nbatch, Nclusters, output_dim]  \n",
    "            - reduce=sum or mean   [Nbatch, output_dim]  \n",
    "    '''    \n",
    "    def __init__(self, input_dim, output_dim, reduce=None, *args, **kwargs):\n",
    "        self.activation = kwargs.pop(\"activation\", \"relu\")\n",
    "        self.dropout = kwargs.get(\"dropout\", 0.)\n",
    "        self.l2_reg = kwargs.get(\"l2_reg\", False)\n",
    "        self.input_dim = input_dim\n",
    "        self.output_dim = output_dim\n",
    "        self.reduce = reduce # it can be None, sum, mean, max\n",
    "        name = kwargs.pop(\"name\", None)\n",
    "\n",
    "        super(SelfAttentionBlock, self).__init__(name=name)\n",
    "        \n",
    "        # Self-attention matrices\n",
    "        self.Q = self.add_weight(shape=(self.input_dim, self.output_dim), name=\"Q_sa_\"+name, initializer=\"random_normal\")\n",
    "        self.K = self.add_weight(shape=(self.input_dim, self.output_dim), name=\"K_sa_\"+name, initializer=\"random_normal\")\n",
    "        self.V = self.add_weight(shape=(self.input_dim, self.output_dim), name=\"V_sa_\"+name, initializer=\"random_normal\")\n",
    "        self.inputW = self.add_weight(shape=(self.input_dim, self.output_dim), name=\"input_sa_\"+name, initializer=\"random_normal\")\n",
    "\n",
    "        # Feed-forward output (1 hidden layer)\n",
    "        self.dense_out = get_conv1d([self.output_dim, self.output_dim], self.activation, last_act=self.activation,\n",
    "                                    L2=self.l2_reg, dropout=self.dropout, name=\"output_sa_\"+name)\n",
    "        # Layer normalizations\n",
    "        self.norm1 = tf.keras.layers.LayerNormalization(name=\"SA_lnorm1_\"+name, epsilon=1e-3, axis=-1)\n",
    "        self.norm2 = tf.keras.layers.LayerNormalization(name=\"SA_lnorm2_\"+name, epsilon=1e-3, axis=-1)\n",
    "        # Dropouts\n",
    "        self.drop1 = tf.keras.layers.Dropout(self.dropout)\n",
    "        self.drop2 = tf.keras.layers.Dropout(self.dropout)\n",
    "\n",
    "    def get_config():\n",
    "        return {\n",
    "            \"input_dim\" : self.input_dim,\n",
    "            \"output_dim\": self.output_dim,\n",
    "            \"l2_reg\": self.l2_reg,\n",
    "            \"dropout\": self.dropout,\n",
    "            \"activation\": self.activation,\n",
    "            \"reduce\": self.reduce,\n",
    "            \"name\": self.name\n",
    "        }\n",
    "        \n",
    "    def call(self, x, mask, training):\n",
    "        # x has structure  [Nbatch, Nclusters, Nfeatures]\n",
    "        q = tf.matmul(x,self.Q)\n",
    "        k = tf.matmul(x,self.K)\n",
    "        v = tf.matmul(x,self.V)\n",
    "        # Apply the dense_input to x to get transformed dimension\n",
    "        transf_input = tf.matmul(x,self.inputW)\n",
    "        # mask the padded clusters in the attention distance\n",
    "        mask_for_attention = mask[:,tf.newaxis,:]\n",
    "        # Mask for output\n",
    "        mask_for_nodes = mask[:,:,tf.newaxis]\n",
    "        # Get self-attention output and attention weights\n",
    "        sa_output, attention_weights = scaled_dot_product_attention(q, k, v, mask_for_attention)\n",
    "        # Dropout\n",
    "        sa_output = self.drop1(sa_output, training=training) \n",
    "        # Add + layer norm  + mask\n",
    "        output_sa = self.norm1(transf_input + sa_output) * mask_for_nodes\n",
    "        # Apply dense\n",
    "        output_dense = self.dense_out(output_sa, training=training) \n",
    "        # Dropout\n",
    "        output_dense = self.drop2(output_dense, training=training)\n",
    "        # Add and layer norm\n",
    "        output_block = self.norm2(output_dense + output_sa) * mask_for_nodes\n",
    "\n",
    "        # Now the aggregation \n",
    "        if self.reduce == \"sum\":\n",
    "            return  tf.reduce_sum(output_block, -2), attention_weights\n",
    "        if self.reduce == \"mean\":\n",
    "            N_nodes = tf.reduce_sum(mask,-1)[:,tf.newaxis]\n",
    "            return tf.math.divide_no_nan( tf.reduce_sum(output_block, -2), N_nodes), attention_weights\n",
    "        if self.reduce == \"max\":\n",
    "            return tf.reduce_max(output_block, axis=-2), attention_weights\n",
    "        else:\n",
    "            #just return all the nodes\n",
    "            return output_block, attention_weights\n",
    "\n",
    "######################################################################\n",
    "######################################################################\n",
    "\n",
    "class MultiHeadAttention(tf.keras.layers.Layer):\n",
    "    def __init__(self, d_model, num_heads, **kwargs):\n",
    "        self.num_heads = num_heads\n",
    "        self.d_model = d_model\n",
    "        name = kwargs.pop(\"name\", None)\n",
    "        super(MultiHeadAttention, self).__init__(name=name)\n",
    "\n",
    "        assert d_model % self.num_heads == 0\n",
    "\n",
    "        self.depth = d_model // self.num_heads\n",
    "\n",
    "        self.Wq = tf.keras.layers.Conv1D(filters=self.d_model,kernel_size=1, use_bias=False)\n",
    "        self.Wk = tf.keras.layers.Conv1D(filters=self.d_model,kernel_size=1, use_bias=False)\n",
    "        self.Wv = tf.keras.layers.Conv1D(filters=self.d_model,kernel_size=1, use_bias=False)\n",
    "        self.dense = tf.keras.layers.Conv1D(filters=self.d_model,kernel_size=1, use_bias=False)\n",
    "\n",
    "    def get_config():\n",
    "            return {\n",
    "                \"num_heads\" : self.num_heads,\n",
    "                \"d_model\": self.d_model,\n",
    "                \"name\": self.name\n",
    "            }\n",
    "\n",
    "    def split_heads(self, x, batch_size):\n",
    "        \"\"\"Split the last dimension into (num_heads, depth).\n",
    "        Transpose the result such that the shape is (batch_size, num_heads, seq_len, depth)\n",
    "        \"\"\"\n",
    "        x = tf.reshape(x, (batch_size, -1, self.num_heads, self.depth))\n",
    "        return tf.transpose(x, perm=[0, 2, 1, 3])\n",
    "\n",
    "    def call(self, v, k, q, mask):\n",
    "        batch_size = tf.shape(q)[0]\n",
    "\n",
    "        mask_att = mask[:,tf.newaxis,tf.newaxis,:]\n",
    "\n",
    "        q = self.Wq(q)  # (batch_size, seq_len, d_model)\n",
    "        k = self.Wk(k)  # (batch_size, seq_len, d_model)\n",
    "        v = self.Wv(v)  # (batch_size, seq_len, d_model)\n",
    "\n",
    "        q = self.split_heads(q, batch_size)  # (batch_size, num_heads, seq_len_q, depth)\n",
    "        k = self.split_heads(k, batch_size)  # (batch_size, num_heads, seq_len_k, depth)\n",
    "        v = self.split_heads(v, batch_size)  # (batch_size, num_heads, seq_len_v, depth)\n",
    "\n",
    "        # scaled_attention.shape == (batch_size, num_heads, seq_len_q, depth)\n",
    "        # attention_weights.shape == (batch_size, num_heads, seq_len_q, seq_len_k)\n",
    "        scaled_attention, attention_weights = scaled_dot_product_attention(\n",
    "            q, k, v, mask_att)\n",
    "\n",
    "        scaled_attention = tf.transpose(scaled_attention, perm=[0, 2, 1, 3])  # (batch_size, seq_len_q, num_heads, depth)\n",
    "        concat_attention = tf.reshape(scaled_attention,\n",
    "                                      (batch_size, -1, self.d_model))  # (batch_size, seq_len_q, d_model)\n",
    "\n",
    "        # the output is not masked\n",
    "        output = self.dense(concat_attention) # (batch_size, seq_len_q, d_model)\n",
    "\n",
    "        return output, attention_weights\n",
    "\n",
    "\n",
    "#######################################################################################\n",
    "\n",
    "class MultiSelfAttentionBlock(tf.keras.layers.Layer):\n",
    "    def __init__(self, output_dim, num_heads, ff_dim,reduce=None, **kwargs):\n",
    "        name = kwargs.pop(\"name\", None)\n",
    "        super(MultiSelfAttentionBlock, self).__init__(name=name)\n",
    "        self.output_dim = output_dim\n",
    "        self.ff_dim = ff_dim\n",
    "        self.num_heads = num_heads\n",
    "        self.reduce = reduce # it can be None, sum, mean, max\n",
    "        self.activation = kwargs.pop(\"activation\", \"relu\")\n",
    "        self.dropout = kwargs.get(\"dropout\", 0.)\n",
    "        self.l2_reg = kwargs.get(\"l2_reg\", False)\n",
    "\n",
    "        self.inputW = tf.keras.layers.Conv1D(filters=self.output_dim, kernel_size=1, use_bias=False)\n",
    "        self.mha = MultiHeadAttention(self.output_dim, self.num_heads,name=self.name+\"_msa\", )\n",
    "        self.ffn = get_conv1d([self.ff_dim, self.output_dim], self.activation, last_act=self.activation,\n",
    "                                        L2=self.l2_reg, dropout=self.dropout, name=self.name+\"_ff\")\n",
    "\n",
    "        self.layernorm1 = tf.keras.layers.LayerNormalization(epsilon=1e-6)\n",
    "        self.layernorm2 = tf.keras.layers.LayerNormalization(epsilon=1e-6)\n",
    "        self.dropout1 = tf.keras.layers.Dropout(self.dropout)\n",
    "        self.dropout2 = tf.keras.layers.Dropout(self.dropout)\n",
    "\n",
    "    def get_config():\n",
    "        return {\n",
    "            \"output_dim\" : self.output_dim,\n",
    "            \"ff_dim\" : self.ff_dim,\n",
    "            \"num_heads\" : self.num_heads,\n",
    "            \"dropout\" : self.dropout,\n",
    "            \"name\": self.name,\n",
    "            \"reduce\": self.reduce\n",
    "        }\n",
    "    \n",
    "    def call(self, x, mask, training):\n",
    "        mask_out = mask[:,:,tf.newaxis]\n",
    "        #projecting the input on the MSA dim\n",
    "        msa_input = self.inputW(x)\n",
    "        attn_output, attn_weights = self.mha(msa_input,msa_input,msa_input, mask)  # (batch_size, input_seq_len, d_model)\n",
    "        attn_output = self.dropout1(attn_output, training=training)\n",
    "        out1 = self.layernorm1(msa_input + attn_output)  # (batch_size, input_seq_len, d_model)\n",
    "\n",
    "        ffn_output = self.ffn(out1)  # (batch_size, input_seq_len, d_model)\n",
    "        ffn_output = self.dropout2(ffn_output, training=training)\n",
    "        output_block = self.layernorm2(out1 + ffn_output) * mask_out  # (batch_size, input_seq_len, d_model)\n",
    "\n",
    "        # Now the aggregation \n",
    "        if self.reduce == \"sum\":\n",
    "            return  tf.reduce_sum(output_block, -2), attn_weights\n",
    "        if self.reduce == \"mean\":\n",
    "            N_nodes = tf.reduce_sum(mask,-1)[:,tf.newaxis]\n",
    "            return tf.math.divide_no_nan( tf.reduce_sum(output_block, -2), N_nodes), attn_weights\n",
    "        if self.reduce == \"max\":\n",
    "            return tf.reduce_max(output_block, axis=-2), attn_weights\n",
    "        else:\n",
    "            #just return all the nodes\n",
    "            return output_block, attn_weights\n"
   ]
  },
  {
   "cell_type": "code",
   "execution_count": 67,
   "id": "992a4f50",
   "metadata": {
    "ExecuteTime": {
     "end_time": "2022-06-23T12:57:43.067183Z",
     "start_time": "2022-06-23T12:57:43.051352Z"
    }
   },
   "outputs": [],
   "source": [
    "############################################\n",
    "# Putting all the pieces together\n",
    "\n",
    "class LinkingModel(tf.keras.Model):\n",
    "    '''\n",
    "    Model parameters:\n",
    "    - activation\n",
    "    - output_dim_nodes: latent space dimension for clusters node built from rechits and cluster features\n",
    "    - output_dim_msa_encoder: output of the self-attention layer for cluster classification (default==output_dim_gconv)\n",
    "    - layers_input:  list representing the DNN applied on the [rechit+cluster] concatened features to build the clusters latent space\n",
    "    - dropout: dropout function to apply on classification DNN\n",
    "    - l2_reg: activate l2 regularization in all the Dense layers\n",
    "    - loss_weights:  dictionary \n",
    "    '''\n",
    "    def __init__(self, **kwargs):\n",
    "        self.activation = kwargs.get(\"activation\", tf.nn.selu)\n",
    "        self.output_dim_msa = kwargs.get(\"output_dim_msa\",32)\n",
    "        self.nrepeat_msa = kwargs.pop(\"nrepeat_msa\",1)\n",
    "        self.num_heads_msa = kwargs.pop(\"num_heads_msa\", 8)\n",
    "        self.cnn_dim = kwargs.pop(\"cnn_dim\", 128)\n",
    "        self.out_hidden_dim = kwargs.pop(\"out_hidden_dim\", 128)\n",
    "        self.ff_dim_msa = kwargs.pop(\"ff_dim_msa\", 128)\n",
    "        self.dropout = kwargs.get(\"dropout\",0.)\n",
    "        self.l2_reg = kwargs.get(\"l2_reg\", False)\n",
    "        #self.loss_weights = kwargs.get(\"loss_weights\", {\"classification\":1})\n",
    "        \n",
    "        super(LinkingModel, self).__init__()\n",
    "        \n",
    "        self.initial_CNN1 = get_conv1d([self.cnn_dim, self.cnn_dim,], self.activation, last_act=self.activation,\n",
    "                                        L2=self.l2_reg, dropout=self.dropout, name=self.name+\"_initial\")\n",
    "        self.final_CNN1 = get_conv1d([self.cnn_dim, self.cnn_dim], self.activation, last_act=self.activation,\n",
    "                                        L2=self.l2_reg, dropout=self.dropout, name=self.name+\"middle\")\n",
    "        self.output_CNN1 = get_conv1d([self.out_hidden_dim, self.out_hidden_dim, 1], self.activation, last_act=\"linear\",\n",
    "                                        L2=self.l2_reg, dropout=self.dropout, name=self.name+\"final\")        \n",
    "        \n",
    "        # Multi-Self-attention layers\n",
    "        self.MSA =[ ] \n",
    "        for i in range(self.nrepeat_msa):\n",
    "            self.MSA.append(MultiSelfAttentionBlock(name=\"MSA_{}\".format(i), \n",
    "                                                    output_dim=self.output_dim_msa, \n",
    "                                                    num_heads=self.num_heads_msa,\n",
    "                                                    ff_dim=self.ff_dim_msa, **kwargs))\n",
    "\n",
    "\n",
    "    def get_config(self):\n",
    "        return {\n",
    "            \"output_dim_msa\": self.graphbuild.output_dim_msa,\n",
    "            \"cnn_dim\": self.cnn_dim,\n",
    "            \"num_heads_msa\": self.num_heads_msa,\n",
    "            \"ff_dim_msa\": self.ff_dim_msa,\n",
    "            \"nrepeat_msa\": self.nrepeat_msa,\n",
    "            \"l2_reg\": self.l2_reg,\n",
    "            \"dropout\": self.dropout,\n",
    "            \"activation\": self.activation,\n",
    "            \"name\": self.name,\n",
    "           # \"loss_weights\": self.loss_weights\n",
    "        }\n",
    "\n",
    "    def call(self, X, training):\n",
    "        # getting paddin mask\n",
    "        mask = create_padding_masks(X)\n",
    "        \n",
    "        \n",
    "        output_MSA = self.initial_CNN1(X)\n",
    "        att_weights_MSA = []\n",
    "        for msa in self.MSA:\n",
    "            output_MSA, attweights = msa(output_MSA, mask, training)\n",
    "            att_weights_MSA.append(attweights)\n",
    "        \n",
    "        finalX = self.final_CNN1(output_MSA)\n",
    "        \n",
    "        A, B = np.where(np.ones((finalX.shape[1],finalX.shape[1])))\n",
    "        out = tf.concat([tf.gather(finalX, A),tf.gather(finalX, B)], axis=-1)\n",
    "\n",
    "        output = self.output_CNN1(out)\n",
    "        \n",
    "        return output, mask\n",
    "\n",
    "    ########################\n",
    "    # Training related methods\n",
    "    def set_metrics(self):\n",
    "        self.loss_tracker = tf.keras.metrics.Mean(name=\"loss\")\n",
    "       \n",
    "\n",
    "    #Customized training loop\n",
    "    #Based on https://www.tensorflow.org/guide/keras/customizing_what_happens_in_fit/\n",
    "    @tf.function\n",
    "    def train_step(self, data):\n",
    "        x, y = data \n",
    "        with tf.GradientTape() as tape:\n",
    "            y_pred, mask = self(x, training=True)  # Forward pass\n",
    "            # Compute our own loss\n",
    "            loss = classification_loss(y, y_pred, mask)\n",
    "            # Total loss function\n",
    "            # adding the regularization losses\n",
    "            loss += sum(self.losses)\n",
    "\n",
    "        # Compute gradients\n",
    "        trainable_vars = self.trainable_variables\n",
    "        gradients = tape.gradient(loss, trainable_vars)\n",
    "        # Update weights\n",
    "        self.optimizer.apply_gradients(zip(gradients, trainable_vars))\n",
    "        # Compute our own metrics\n",
    "        self.loss_tracker.update_state(loss)\n",
    "        # mae_metric.update_state(y, y_pred)\n",
    "        return {\"loss\": self.loss_tracker.result()}\n",
    "\n",
    "    @tf.function\n",
    "    def test_step(self, data):\n",
    "        # Unpack the data\n",
    "        x, y   = data\n",
    "        # Compute predictions\n",
    "        y_pred, mask = self(x, training=False)\n",
    "        # Updates the metrics tracking the loss\n",
    "        loss = classification_loss(y, y_pred, mask )\n",
    "\n",
    "        # Total loss function\n",
    "        loss += sum(self.losses)\n",
    "        \n",
    "        # Compute our own metrics\n",
    "        self.loss_tracker.update_state(loss)\n",
    "        # mae_metric.update_state(y, y_pred)\n",
    "        return {\"loss\": self.loss_tracker.result()}\n",
    "\n",
    "    @property\n",
    "    def metrics(self):\n",
    "        # We list our `Metric` objects here so that `reset_states()` can be\n",
    "        # called automatically at the start of each epoch\n",
    "        # or at the start of `evaluate()`.\n",
    "        # If you don't implement this property, you have to call\n",
    "        # `reset_states()` yourself at the time of your choosing.\n",
    "        return [self.loss_tracker]\n",
    "\n",
    "## Loss functions\n",
    "\n",
    "#from focal_loss import binary_focal_loss\n",
    "\n",
    "def classification_loss(y_true, y_pred, mask):\n",
    "    class_loss = tf.reshape(tf.nn.sigmoid_cross_entropy_with_logits(tf.reshape(tf.cast(y_true, tf.float32), [-1]), \n",
    "                                                     tf.reshape(tf.cast(y_pred, tf.float32), [-1])),\n",
    "                        [-1,30,30])\n",
    "    reduced_loss = tf.reduce_mean((tf.reduce_sum(class_loss, axis=(1,2))/2 ) / tf.reduce_sum(mask, axis=1)**2)\n",
    "    return reduced_loss \n"
   ]
  },
  {
   "cell_type": "code",
   "execution_count": 41,
   "id": "a641b794",
   "metadata": {
    "ExecuteTime": {
     "end_time": "2022-06-23T12:57:46.192638Z",
     "start_time": "2022-06-23T12:57:45.447838Z"
    }
   },
   "outputs": [],
   "source": [
    "import numba\n",
    "@numba.njit\n",
    "def get_truth_matrix_padded(Y, N, pad):\n",
    "    Z = np.zeros((N, pad, pad))\n",
    "    ev = 0\n",
    "    for yvec in Y:\n",
    "        for i in range(len(yvec)):\n",
    "            for j in range(len(yvec)):\n",
    "#                 if i==j:\n",
    "#                     Z[ev, i, j] = 0.\n",
    "#                 else:\n",
    "                if yvec[i] and yvec[j]:\n",
    "                    Z[ev, i,j] = 1.\n",
    "                else:\n",
    "                    Z[ev, i,j] = 0.\n",
    "        ev+=1\n",
    "    return Z\n",
    "                    "
   ]
  },
  {
   "cell_type": "code",
   "execution_count": 42,
   "id": "f25c3324",
   "metadata": {
    "ExecuteTime": {
     "end_time": "2022-06-23T12:57:48.349323Z",
     "start_time": "2022-06-23T12:57:48.341883Z"
    }
   },
   "outputs": [],
   "source": [
    "import glob\n",
    "\n",
    "def load_data(path, pad):\n",
    "    \n",
    "    files = glob.glob(path)\n",
    "    print(files)\n",
    "    dfs= [ ]\n",
    "    for f in files:\n",
    "        dfs.append(ak.from_parquet(f))\n",
    "    df = ak.concatenate(dfs, axis=0)\n",
    "    mask_empty_window = ak.num(df, axis=1)!=0\n",
    "    df = df[mask_empty_window]\n",
    "    df_pad_X = ak.pad_none(df.X, pad, clip=True)\n",
    "    X =  ak.fill_none(df_pad_X, \n",
    "             {'raw_en': 0.,\n",
    "               'barycenter_x': 0.,\n",
    "               'barycenter_y': 0.,\n",
    "               'barycenter_z': 0.,\n",
    "               'EV1': 0.,\n",
    "               'EV2': 0.,\n",
    "               'EV3': 0.,\n",
    "               'sigmaPCA1': 0.,\n",
    "               'sigmaPCA2': 0.,\n",
    "               'sigmaPCA3': 0.,\n",
    "               'misalign': 0.})\n",
    "    \n",
    "    \n",
    "    #Y = fill_pad(df.Y, ak.num(df.Y, axis=0), pad)\n",
    "   # Y = np.asarray(ak.fill_none(df_pad.Y, 0.))\n",
    "    #np.fill_diagonal(Y, 0.)\n",
    "    X = np.transpose(np.asarray(ak.concatenate(ak.unzip(X[:, np.newaxis]), axis=1)), \n",
    "                     axes=(0,2,1))\n",
    "        \n",
    "    Y  =  get_truth_matrix_padded(df.Y , \n",
    "                               ak.num(df.Y, axis=0), #number of events\n",
    "                                pad )\n",
    "    \n",
    "    return X,Y\n"
   ]
  },
  {
   "cell_type": "code",
   "execution_count": 43,
   "id": "b4441511",
   "metadata": {
    "ExecuteTime": {
     "end_time": "2022-06-23T12:57:50.813199Z",
     "start_time": "2022-06-23T12:57:48.619625Z"
    }
   },
   "outputs": [
    {
     "name": "stdout",
     "output_type": "stream",
     "text": [
      "['dataset/dataset_0.parquet', 'dataset/dataset_1.parquet', 'dataset/dataset_2.parquet', 'dataset/dataset_3.parquet', 'dataset/dataset_4.parquet', 'dataset/dataset_5.parquet', 'dataset/dataset_6.parquet', 'dataset/dataset_7.parquet', 'dataset/dataset_8.parquet']\n"
     ]
    }
   ],
   "source": [
    "X, Y = load_data(\"dataset/dataset_*.parquet\", 30)"
   ]
  },
  {
   "cell_type": "code",
   "execution_count": 44,
   "id": "4f8327b0",
   "metadata": {
    "ExecuteTime": {
     "end_time": "2022-06-23T12:57:54.275539Z",
     "start_time": "2022-06-23T12:57:54.270561Z"
    }
   },
   "outputs": [],
   "source": [
    "tot_true = np.sum(Y, axis=(1,2))"
   ]
  },
  {
   "cell_type": "code",
   "execution_count": 45,
   "id": "58030c6e",
   "metadata": {},
   "outputs": [],
   "source": [
    "X = X[tot_true>0]\n",
    "Y = Y[tot_true>0]"
   ]
  },
  {
   "cell_type": "code",
   "execution_count": 20,
   "id": "5f304ce2",
   "metadata": {},
   "outputs": [
    {
     "data": {
      "text/plain": [
       "12258"
      ]
     },
     "execution_count": 20,
     "metadata": {},
     "output_type": "execute_result"
    }
   ],
   "source": [
    "np.sum(tot_true==0)"
   ]
  },
  {
   "cell_type": "code",
   "execution_count": 11,
   "id": "52f890cf",
   "metadata": {},
   "outputs": [
    {
     "data": {
      "text/plain": [
       "(19765, 30, 11)"
      ]
     },
     "execution_count": 11,
     "metadata": {},
     "output_type": "execute_result"
    }
   ],
   "source": [
    "X.shape"
   ]
  },
  {
   "cell_type": "markdown",
   "id": "85dcb75e",
   "metadata": {},
   "source": [
    "# Playing manually with the code "
   ]
  },
  {
   "cell_type": "code",
   "execution_count": 65,
   "id": "fc02c4bd",
   "metadata": {
    "ExecuteTime": {
     "end_time": "2022-06-22T08:44:42.549129Z",
     "start_time": "2022-06-22T08:44:42.520398Z"
    }
   },
   "outputs": [],
   "source": [
    "mblock = MultiSelfAttentionBlock(name=\"test\", output_dim=64, num_heads=8,ff_dim=64 )"
   ]
  },
  {
   "cell_type": "code",
   "execution_count": 54,
   "id": "f6d02c5a",
   "metadata": {
    "ExecuteTime": {
     "end_time": "2022-06-22T08:41:17.804997Z",
     "start_time": "2022-06-22T08:41:17.800413Z"
    }
   },
   "outputs": [],
   "source": [
    "x = X[0:10] "
   ]
  },
  {
   "cell_type": "code",
   "execution_count": 93,
   "id": "76b19eaf",
   "metadata": {
    "ExecuteTime": {
     "end_time": "2022-06-22T08:56:49.429246Z",
     "start_time": "2022-06-22T08:56:49.419890Z"
    }
   },
   "outputs": [
    {
     "data": {
      "text/plain": [
       "<tf.Tensor: shape=(10, 30), dtype=float32, numpy=\n",
       "array([[1., 1., 1., 0., 0., 0., 0., 0., 0., 0., 0., 0., 0., 0., 0., 0.,\n",
       "        0., 0., 0., 0., 0., 0., 0., 0., 0., 0., 0., 0., 0., 0.],\n",
       "       [1., 1., 0., 0., 0., 0., 0., 0., 0., 0., 0., 0., 0., 0., 0., 0.,\n",
       "        0., 0., 0., 0., 0., 0., 0., 0., 0., 0., 0., 0., 0., 0.],\n",
       "       [1., 1., 0., 0., 0., 0., 0., 0., 0., 0., 0., 0., 0., 0., 0., 0.,\n",
       "        0., 0., 0., 0., 0., 0., 0., 0., 0., 0., 0., 0., 0., 0.],\n",
       "       [1., 1., 0., 0., 0., 0., 0., 0., 0., 0., 0., 0., 0., 0., 0., 0.,\n",
       "        0., 0., 0., 0., 0., 0., 0., 0., 0., 0., 0., 0., 0., 0.],\n",
       "       [1., 1., 1., 0., 0., 0., 0., 0., 0., 0., 0., 0., 0., 0., 0., 0.,\n",
       "        0., 0., 0., 0., 0., 0., 0., 0., 0., 0., 0., 0., 0., 0.],\n",
       "       [1., 1., 1., 1., 1., 1., 0., 0., 0., 0., 0., 0., 0., 0., 0., 0.,\n",
       "        0., 0., 0., 0., 0., 0., 0., 0., 0., 0., 0., 0., 0., 0.],\n",
       "       [1., 0., 0., 0., 0., 0., 0., 0., 0., 0., 0., 0., 0., 0., 0., 0.,\n",
       "        0., 0., 0., 0., 0., 0., 0., 0., 0., 0., 0., 0., 0., 0.],\n",
       "       [1., 1., 1., 0., 0., 0., 0., 0., 0., 0., 0., 0., 0., 0., 0., 0.,\n",
       "        0., 0., 0., 0., 0., 0., 0., 0., 0., 0., 0., 0., 0., 0.],\n",
       "       [1., 1., 1., 1., 0., 0., 0., 0., 0., 0., 0., 0., 0., 0., 0., 0.,\n",
       "        0., 0., 0., 0., 0., 0., 0., 0., 0., 0., 0., 0., 0., 0.],\n",
       "       [1., 1., 0., 0., 0., 0., 0., 0., 0., 0., 0., 0., 0., 0., 0., 0.,\n",
       "        0., 0., 0., 0., 0., 0., 0., 0., 0., 0., 0., 0., 0., 0.]],\n",
       "      dtype=float32)>"
      ]
     },
     "execution_count": 93,
     "metadata": {},
     "output_type": "execute_result"
    }
   ],
   "source": [
    "mask"
   ]
  },
  {
   "cell_type": "code",
   "execution_count": 61,
   "id": "c298d136",
   "metadata": {
    "ExecuteTime": {
     "end_time": "2022-06-22T08:43:14.945566Z",
     "start_time": "2022-06-22T08:43:14.932915Z"
    }
   },
   "outputs": [
    {
     "data": {
      "text/plain": [
       "array([[ 4.96965218e+00,  5.54281044e+01, -8.06592846e+00,\n",
       "        -3.33302948e+02,  3.57265930e+01,  3.69383883e+00,\n",
       "         1.63760388e+00,  5.62472868e+00,  2.13143992e+00,\n",
       "         2.20849037e+00,  9.95262384e-01],\n",
       "       [ 1.96536850e+02,  5.51286774e+01, -1.40400867e+01,\n",
       "        -3.37301331e+02,  5.51291275e+01,  1.83413044e-01,\n",
       "         8.92492458e-02,  7.26717424e+00,  9.21676576e-01,\n",
       "         1.31927109e+00,  9.99922454e-01],\n",
       "       [ 2.36502171e+00,  6.01809464e+01, -1.63384705e+01,\n",
       "        -3.43526642e+02,  2.68618660e+01,  2.09040236e+00,\n",
       "         1.61338389e+00,  5.16966248e+00,  1.47657037e+00,\n",
       "         1.28840375e+00,  9.91966069e-01],\n",
       "       [ 0.00000000e+00,  0.00000000e+00,  0.00000000e+00,\n",
       "         0.00000000e+00,  0.00000000e+00,  0.00000000e+00,\n",
       "         0.00000000e+00,  0.00000000e+00,  0.00000000e+00,\n",
       "         0.00000000e+00,  0.00000000e+00],\n",
       "       [ 0.00000000e+00,  0.00000000e+00,  0.00000000e+00,\n",
       "         0.00000000e+00,  0.00000000e+00,  0.00000000e+00,\n",
       "         0.00000000e+00,  0.00000000e+00,  0.00000000e+00,\n",
       "         0.00000000e+00,  0.00000000e+00],\n",
       "       [ 0.00000000e+00,  0.00000000e+00,  0.00000000e+00,\n",
       "         0.00000000e+00,  0.00000000e+00,  0.00000000e+00,\n",
       "         0.00000000e+00,  0.00000000e+00,  0.00000000e+00,\n",
       "         0.00000000e+00,  0.00000000e+00],\n",
       "       [ 0.00000000e+00,  0.00000000e+00,  0.00000000e+00,\n",
       "         0.00000000e+00,  0.00000000e+00,  0.00000000e+00,\n",
       "         0.00000000e+00,  0.00000000e+00,  0.00000000e+00,\n",
       "         0.00000000e+00,  0.00000000e+00],\n",
       "       [ 0.00000000e+00,  0.00000000e+00,  0.00000000e+00,\n",
       "         0.00000000e+00,  0.00000000e+00,  0.00000000e+00,\n",
       "         0.00000000e+00,  0.00000000e+00,  0.00000000e+00,\n",
       "         0.00000000e+00,  0.00000000e+00],\n",
       "       [ 0.00000000e+00,  0.00000000e+00,  0.00000000e+00,\n",
       "         0.00000000e+00,  0.00000000e+00,  0.00000000e+00,\n",
       "         0.00000000e+00,  0.00000000e+00,  0.00000000e+00,\n",
       "         0.00000000e+00,  0.00000000e+00],\n",
       "       [ 0.00000000e+00,  0.00000000e+00,  0.00000000e+00,\n",
       "         0.00000000e+00,  0.00000000e+00,  0.00000000e+00,\n",
       "         0.00000000e+00,  0.00000000e+00,  0.00000000e+00,\n",
       "         0.00000000e+00,  0.00000000e+00],\n",
       "       [ 0.00000000e+00,  0.00000000e+00,  0.00000000e+00,\n",
       "         0.00000000e+00,  0.00000000e+00,  0.00000000e+00,\n",
       "         0.00000000e+00,  0.00000000e+00,  0.00000000e+00,\n",
       "         0.00000000e+00,  0.00000000e+00],\n",
       "       [ 0.00000000e+00,  0.00000000e+00,  0.00000000e+00,\n",
       "         0.00000000e+00,  0.00000000e+00,  0.00000000e+00,\n",
       "         0.00000000e+00,  0.00000000e+00,  0.00000000e+00,\n",
       "         0.00000000e+00,  0.00000000e+00],\n",
       "       [ 0.00000000e+00,  0.00000000e+00,  0.00000000e+00,\n",
       "         0.00000000e+00,  0.00000000e+00,  0.00000000e+00,\n",
       "         0.00000000e+00,  0.00000000e+00,  0.00000000e+00,\n",
       "         0.00000000e+00,  0.00000000e+00],\n",
       "       [ 0.00000000e+00,  0.00000000e+00,  0.00000000e+00,\n",
       "         0.00000000e+00,  0.00000000e+00,  0.00000000e+00,\n",
       "         0.00000000e+00,  0.00000000e+00,  0.00000000e+00,\n",
       "         0.00000000e+00,  0.00000000e+00],\n",
       "       [ 0.00000000e+00,  0.00000000e+00,  0.00000000e+00,\n",
       "         0.00000000e+00,  0.00000000e+00,  0.00000000e+00,\n",
       "         0.00000000e+00,  0.00000000e+00,  0.00000000e+00,\n",
       "         0.00000000e+00,  0.00000000e+00],\n",
       "       [ 0.00000000e+00,  0.00000000e+00,  0.00000000e+00,\n",
       "         0.00000000e+00,  0.00000000e+00,  0.00000000e+00,\n",
       "         0.00000000e+00,  0.00000000e+00,  0.00000000e+00,\n",
       "         0.00000000e+00,  0.00000000e+00],\n",
       "       [ 0.00000000e+00,  0.00000000e+00,  0.00000000e+00,\n",
       "         0.00000000e+00,  0.00000000e+00,  0.00000000e+00,\n",
       "         0.00000000e+00,  0.00000000e+00,  0.00000000e+00,\n",
       "         0.00000000e+00,  0.00000000e+00],\n",
       "       [ 0.00000000e+00,  0.00000000e+00,  0.00000000e+00,\n",
       "         0.00000000e+00,  0.00000000e+00,  0.00000000e+00,\n",
       "         0.00000000e+00,  0.00000000e+00,  0.00000000e+00,\n",
       "         0.00000000e+00,  0.00000000e+00],\n",
       "       [ 0.00000000e+00,  0.00000000e+00,  0.00000000e+00,\n",
       "         0.00000000e+00,  0.00000000e+00,  0.00000000e+00,\n",
       "         0.00000000e+00,  0.00000000e+00,  0.00000000e+00,\n",
       "         0.00000000e+00,  0.00000000e+00],\n",
       "       [ 0.00000000e+00,  0.00000000e+00,  0.00000000e+00,\n",
       "         0.00000000e+00,  0.00000000e+00,  0.00000000e+00,\n",
       "         0.00000000e+00,  0.00000000e+00,  0.00000000e+00,\n",
       "         0.00000000e+00,  0.00000000e+00],\n",
       "       [ 0.00000000e+00,  0.00000000e+00,  0.00000000e+00,\n",
       "         0.00000000e+00,  0.00000000e+00,  0.00000000e+00,\n",
       "         0.00000000e+00,  0.00000000e+00,  0.00000000e+00,\n",
       "         0.00000000e+00,  0.00000000e+00],\n",
       "       [ 0.00000000e+00,  0.00000000e+00,  0.00000000e+00,\n",
       "         0.00000000e+00,  0.00000000e+00,  0.00000000e+00,\n",
       "         0.00000000e+00,  0.00000000e+00,  0.00000000e+00,\n",
       "         0.00000000e+00,  0.00000000e+00],\n",
       "       [ 0.00000000e+00,  0.00000000e+00,  0.00000000e+00,\n",
       "         0.00000000e+00,  0.00000000e+00,  0.00000000e+00,\n",
       "         0.00000000e+00,  0.00000000e+00,  0.00000000e+00,\n",
       "         0.00000000e+00,  0.00000000e+00],\n",
       "       [ 0.00000000e+00,  0.00000000e+00,  0.00000000e+00,\n",
       "         0.00000000e+00,  0.00000000e+00,  0.00000000e+00,\n",
       "         0.00000000e+00,  0.00000000e+00,  0.00000000e+00,\n",
       "         0.00000000e+00,  0.00000000e+00],\n",
       "       [ 0.00000000e+00,  0.00000000e+00,  0.00000000e+00,\n",
       "         0.00000000e+00,  0.00000000e+00,  0.00000000e+00,\n",
       "         0.00000000e+00,  0.00000000e+00,  0.00000000e+00,\n",
       "         0.00000000e+00,  0.00000000e+00],\n",
       "       [ 0.00000000e+00,  0.00000000e+00,  0.00000000e+00,\n",
       "         0.00000000e+00,  0.00000000e+00,  0.00000000e+00,\n",
       "         0.00000000e+00,  0.00000000e+00,  0.00000000e+00,\n",
       "         0.00000000e+00,  0.00000000e+00],\n",
       "       [ 0.00000000e+00,  0.00000000e+00,  0.00000000e+00,\n",
       "         0.00000000e+00,  0.00000000e+00,  0.00000000e+00,\n",
       "         0.00000000e+00,  0.00000000e+00,  0.00000000e+00,\n",
       "         0.00000000e+00,  0.00000000e+00],\n",
       "       [ 0.00000000e+00,  0.00000000e+00,  0.00000000e+00,\n",
       "         0.00000000e+00,  0.00000000e+00,  0.00000000e+00,\n",
       "         0.00000000e+00,  0.00000000e+00,  0.00000000e+00,\n",
       "         0.00000000e+00,  0.00000000e+00],\n",
       "       [ 0.00000000e+00,  0.00000000e+00,  0.00000000e+00,\n",
       "         0.00000000e+00,  0.00000000e+00,  0.00000000e+00,\n",
       "         0.00000000e+00,  0.00000000e+00,  0.00000000e+00,\n",
       "         0.00000000e+00,  0.00000000e+00],\n",
       "       [ 0.00000000e+00,  0.00000000e+00,  0.00000000e+00,\n",
       "         0.00000000e+00,  0.00000000e+00,  0.00000000e+00,\n",
       "         0.00000000e+00,  0.00000000e+00,  0.00000000e+00,\n",
       "         0.00000000e+00,  0.00000000e+00]])"
      ]
     },
     "execution_count": 61,
     "metadata": {},
     "output_type": "execute_result"
    }
   ],
   "source": [
    "x[0]"
   ]
  },
  {
   "cell_type": "code",
   "execution_count": 58,
   "id": "f3e3e941",
   "metadata": {
    "ExecuteTime": {
     "end_time": "2022-06-22T08:42:48.585192Z",
     "start_time": "2022-06-22T08:42:48.579576Z"
    }
   },
   "outputs": [],
   "source": [
    "mask = create_padding_masks(X)"
   ]
  },
  {
   "cell_type": "code",
   "execution_count": 84,
   "id": "caa91a37",
   "metadata": {
    "ExecuteTime": {
     "end_time": "2022-06-22T08:53:44.060634Z",
     "start_time": "2022-06-22T08:53:44.041217Z"
    }
   },
   "outputs": [],
   "source": [
    "out, att = mblock(x, mask)"
   ]
  },
  {
   "cell_type": "code",
   "execution_count": 17,
   "id": "07aa8d83",
   "metadata": {
    "ExecuteTime": {
     "end_time": "2022-06-22T15:03:23.527839Z",
     "start_time": "2022-06-22T15:03:23.391744Z"
    },
    "scrolled": true
   },
   "outputs": [],
   "source": [
    "from plotting import *"
   ]
  },
  {
   "cell_type": "code",
   "execution_count": 79,
   "id": "4d91321b",
   "metadata": {
    "ExecuteTime": {
     "end_time": "2022-06-22T08:53:09.808377Z",
     "start_time": "2022-06-22T08:53:09.796156Z"
    }
   },
   "outputs": [],
   "source": [
    "total_att = np.concatenate(att, axis=1)"
   ]
  },
  {
   "cell_type": "code",
   "execution_count": 86,
   "id": "448850de",
   "metadata": {
    "ExecuteTime": {
     "end_time": "2022-06-22T08:53:55.745069Z",
     "start_time": "2022-06-22T08:53:55.739925Z"
    }
   },
   "outputs": [
    {
     "data": {
      "text/plain": [
       "TensorShape([10, 8, 30, 30])"
      ]
     },
     "execution_count": 86,
     "metadata": {},
     "output_type": "execute_result"
    }
   ],
   "source": [
    "att.shape"
   ]
  },
  {
   "cell_type": "code",
   "execution_count": 24,
   "id": "cc598d37",
   "metadata": {},
   "outputs": [
    {
     "data": {
      "text/plain": [
       "(28104, 30, 30)"
      ]
     },
     "execution_count": 24,
     "metadata": {},
     "output_type": "execute_result"
    }
   ],
   "source": [
    "Y.shape"
   ]
  },
  {
   "cell_type": "code",
   "execution_count": 37,
   "id": "d31d0105",
   "metadata": {},
   "outputs": [],
   "source": [
    "tot_true = np.sum(Y, axis=(1,2))"
   ]
  },
  {
   "cell_type": "code",
   "execution_count": 44,
   "id": "195a36e7",
   "metadata": {},
   "outputs": [
    {
     "data": {
      "image/png": "[encoded data removed]",
      "text/plain": [
       "<Figure size 432x288 with 1 Axes>"
      ]
     },
     "metadata": {
      "needs_background": "light"
     },
     "output_type": "display_data"
    }
   ],
   "source": [
    "plt.hist(np.sum(Y, axis=(1,2)), bins=30, range=(1,31))\n",
    "plt.yscale(\"log\")"
   ]
  },
  {
   "cell_type": "code",
   "execution_count": 45,
   "id": "43c0293b",
   "metadata": {},
   "outputs": [
    {
     "data": {
      "image/png": "[encoded data removed]",
      "text/plain": [
       "<Figure size 3000x600 with 10 Axes>"
      ]
     },
     "metadata": {
      "needs_background": "light"
     },
     "output_type": "display_data"
    }
   ],
   "source": [
    "plotM(*Y[15:20])"
   ]
  },
  {
   "cell_type": "code",
   "execution_count": 121,
   "id": "14c73cfd",
   "metadata": {
    "ExecuteTime": {
     "end_time": "2022-06-22T09:11:22.274970Z",
     "start_time": "2022-06-22T09:11:21.504676Z"
    }
   },
   "outputs": [
    {
     "data": {
      "image/png": "[encoded data removed]",
      "text/plain": [
       "<Figure size 1800x600 with 6 Axes>"
      ]
     },
     "metadata": {
      "needs_background": "light"
     },
     "output_type": "display_data"
    }
   ],
   "source": [
    "plotM(*x[3:6])"
   ]
  },
  {
   "cell_type": "code",
   "execution_count": 126,
   "id": "d9c99ba7",
   "metadata": {
    "ExecuteTime": {
     "end_time": "2022-06-22T09:12:00.840478Z",
     "start_time": "2022-06-22T09:12:00.104596Z"
    }
   },
   "outputs": [
    {
     "data": {
      "image/png": "[encoded data removed]",
      "text/plain": [
       "<Figure size 1800x600 with 6 Axes>"
      ]
     },
     "metadata": {
      "needs_background": "light"
     },
     "output_type": "display_data"
    }
   ],
   "source": [
    "plotM(*att[3:6,2])"
   ]
  },
  {
   "cell_type": "code",
   "execution_count": 127,
   "id": "d982b6b7",
   "metadata": {
    "ExecuteTime": {
     "end_time": "2022-06-22T09:12:02.081660Z",
     "start_time": "2022-06-22T09:12:01.079520Z"
    }
   },
   "outputs": [
    {
     "data": {
      "image/png": "[encoded data removed]",
      "text/plain": [
       "<Figure size 1800x600 with 6 Axes>"
      ]
     },
     "metadata": {
      "needs_background": "light"
     },
     "output_type": "display_data"
    }
   ],
   "source": [
    "plotM(*out[3:6])"
   ]
  },
  {
   "cell_type": "markdown",
   "id": "8ebe22b9",
   "metadata": {},
   "source": [
    "# Training"
   ]
  },
  {
   "cell_type": "code",
   "execution_count": 68,
   "id": "fa25c4c7",
   "metadata": {
    "ExecuteTime": {
     "end_time": "2022-06-23T13:11:44.537972Z",
     "start_time": "2022-06-23T13:11:44.531785Z"
    }
   },
   "outputs": [],
   "source": [
    "models_path = \"/eos/user/d/dvalsecc/HGCAL_SuperClustering/models/\"\n",
    "\n",
    "from collections import namedtuple\n",
    "#\n",
    "Args = namedtuple('args', [ 'name','models_path', 'load','initial_epoch','nepochs',\n",
    "                           'lr_decay','lr', 'batch_size','opt', 'activation', \n",
    "                           'output_dim_msa', 'num_heads_msa','cnn_dim', 'ff_dim_msa', 'nrepeat_msa',\n",
    "                           \"out_hidden_dim\", 'dropout','l2_reg'])\n",
    "\n",
    "args = Args( \n",
    "models_path = models_path,\n",
    "name= \"test2\",\n",
    "load = False,\n",
    "initial_epoch = 0,\n",
    "nepochs = 200,\n",
    "lr_decay = 0.,\n",
    "lr = 5e-4,\n",
    "batch_size = 64,\n",
    "opt='adam',\n",
    "    \n",
    "activation = tf.keras.activations.selu,\n",
    "cnn_dim = 64,\n",
    "output_dim_msa = 64,\n",
    "out_hidden_dim =  64,\n",
    "num_heads_msa = 8,\n",
    "ff_dim_msa = 64,  \n",
    "nrepeat_msa = 2,\n",
    "dropout = 0.1,\n",
    "l2_reg = True\n",
    ")\n",
    "\n"
   ]
  },
  {
   "cell_type": "code",
   "execution_count": 69,
   "id": "7d7ceb8f",
   "metadata": {
    "ExecuteTime": {
     "end_time": "2022-06-23T13:11:44.768200Z",
     "start_time": "2022-06-23T13:11:44.741328Z"
    }
   },
   "outputs": [
    {
     "name": "stdout",
     "output_type": "stream",
     "text": [
      "/eos/user/d/dvalsecc/HGCAL_SuperClustering/models/run_44\n"
     ]
    }
   ],
   "source": [
    "import os\n",
    "def get_unique_run():\n",
    "    previous_runs = os.listdir(args.models_path)\n",
    "    if len(previous_runs) == 0:\n",
    "        run_number = 1\n",
    "    else:\n",
    "        run_number = max([int(s.split('run_')[1]) for s in previous_runs]) + 1\n",
    "    return run_number\n",
    "\n",
    "if not os.path.isdir(args.models_path):\n",
    "    os.makedirs(args.models_path)\n",
    "\n",
    "name =  'run_{:02}'.format(get_unique_run())\n",
    "outdir = args.models_path + name\n",
    "\n",
    "if os.path.isdir(outdir):\n",
    "    print(\"Output directory exists: {}\".format(outdir), file=sys.stderr)\n",
    "else:\n",
    "    os.makedirs(outdir)\n",
    "\n",
    "print(outdir)"
   ]
  },
  {
   "cell_type": "code",
   "execution_count": 70,
   "id": "873043aa",
   "metadata": {
    "ExecuteTime": {
     "end_time": "2022-06-23T13:11:44.924120Z",
     "start_time": "2022-06-23T13:11:44.920578Z"
    }
   },
   "outputs": [],
   "source": [
    "if args.lr_decay > 0:\n",
    "        #lr_schedule = tf.keras.optimizers.schedules.ExponentialDecay(\n",
    "        #    args.lr,\n",
    "        #    decay_steps=int(args.ntrain//args.batch_size),\n",
    "        #    decay_rate=args.lr_decay\n",
    "        #)\n",
    "        lr_schedule = tf.keras.optimizers.schedules.InverseTimeDecay(\n",
    "            args.lr,\n",
    "            decay_steps=int(args.ntrain//args.batch_size),\n",
    "            decay_rate=args.lr_decay,\n",
    "            staircase=True\n",
    "        )\n",
    "else:\n",
    "    lr_schedule = args.lr\n",
    "\n"
   ]
  },
  {
   "cell_type": "code",
   "execution_count": 71,
   "id": "4f2adb24",
   "metadata": {
    "ExecuteTime": {
     "end_time": "2022-06-23T13:11:45.221715Z",
     "start_time": "2022-06-23T13:11:45.216355Z"
    }
   },
   "outputs": [],
   "source": [
    "def get_model(args, weights=None):\n",
    "\n",
    "    tf.keras.backend.clear_session()\n",
    "\n",
    "    \n",
    "    with strategy.scope():\n",
    "        opt = tf.keras.optimizers.Adam(learning_rate=args.lr)\n",
    "        # Construction of the model\n",
    "        model = LinkingModel(\n",
    "                    activation = args.activation,\n",
    "                    output_dim_msa=args.output_dim_msa,\n",
    "                    cnn_dim = args.cnn_dim,\n",
    "                    num_heads_msa=args.num_heads_msa,\n",
    "                    ff_dim_msa=args.ff_dim_msa,\n",
    "                    nrepeat_msa=args.nrepeat_msa,\n",
    "                    dropout = args.dropout,\n",
    "                    l2_reg = args.l2_reg\n",
    "                    )\n",
    "        \n",
    "         \n",
    "        #     loss_new =  tf.keras.losses.BinaryFocalCrossentropy(\n",
    "        #         gamma=2.0,\n",
    "        #         from_logits=False,\n",
    "        #         label_smoothing=0.0,\n",
    "        #         axis=-1,\n",
    "        #         reduction=losses_utils.ReductionV2.AUTO,\n",
    "        #         name='binary_focal_crossentropy'\n",
    "        #     )\n",
    "\n",
    "        model.compile(optimizer=args.opt)\n",
    "        model.set_metrics()\n",
    "        \n",
    "        ypred = model(X[0:args.batch_size])\n",
    "        if weights:\n",
    "            model.load_weights(weights)\n",
    "        return model"
   ]
  },
  {
   "cell_type": "code",
   "execution_count": 72,
   "id": "84d2e2f9",
   "metadata": {
    "ExecuteTime": {
     "end_time": "2022-06-23T13:11:45.944512Z",
     "start_time": "2022-06-23T13:11:45.763137Z"
    }
   },
   "outputs": [],
   "source": [
    "model = get_model(args)"
   ]
  },
  {
   "cell_type": "code",
   "execution_count": 73,
   "id": "ea2ada19",
   "metadata": {
    "ExecuteTime": {
     "end_time": "2022-06-23T13:11:46.255206Z",
     "start_time": "2022-06-23T13:11:46.248858Z"
    }
   },
   "outputs": [
    {
     "name": "stdout",
     "output_type": "stream",
     "text": [
      "Model: \"linking_model\"\n",
      "_________________________________________________________________\n",
      "Layer (type)                 Output Shape              Param #   \n",
      "=================================================================\n",
      "linking_model_initial (Seque (64, 30, 64)              4928      \n",
      "_________________________________________________________________\n",
      "linking_modelmiddle (Sequent (64, 30, 64)              8320      \n",
      "_________________________________________________________________\n",
      "linking_modelfinal (Sequenti (900, 30, 1)              33153     \n",
      "_________________________________________________________________\n",
      "MSA_0 (MultiSelfAttentionBlo multiple                  29056     \n",
      "_________________________________________________________________\n",
      "MSA_1 (MultiSelfAttentionBlo multiple                  29056     \n",
      "=================================================================\n",
      "Total params: 104,515\n",
      "Trainable params: 104,513\n",
      "Non-trainable params: 2\n",
      "_________________________________________________________________\n"
     ]
    }
   ],
   "source": [
    "model.summary()"
   ]
  },
  {
   "cell_type": "code",
   "execution_count": 60,
   "id": "da2e2e24",
   "metadata": {
    "ExecuteTime": {
     "end_time": "2022-06-23T13:12:11.393895Z",
     "start_time": "2022-06-23T13:12:11.385148Z"
    }
   },
   "outputs": [],
   "source": [
    "callbacks = []\n",
    "\n",
    "\n",
    "tb = tf.keras.callbacks.TensorBoard(\n",
    "    log_dir=outdir, histogram_freq=1, \n",
    "    write_graph=False, \n",
    "    write_images=True,\n",
    "    update_freq='epoch',\n",
    "    profile_batch=0,\n",
    ")\n",
    "tb.set_model(model)\n",
    "callbacks += [tb]\n",
    "\n",
    "terminate_cb = tf.keras.callbacks.TerminateOnNaN()\n",
    "callbacks += [terminate_cb]\n",
    "\n",
    "lr_reduce = tf.keras.callbacks.ReduceLROnPlateau(\n",
    "    monitor='val_loss', factor=0.5, patience=5, verbose=1,\n",
    "    mode='auto', min_delta=0.0005, cooldown=0, min_lr=1e-7,\n",
    ")\n",
    "\n",
    "\n",
    "cp_callback = tf.keras.callbacks.ModelCheckpoint(\n",
    "    filepath=outdir + \"/weights.{epoch:02d}-{val_loss:.6f}.hdf5\",\n",
    "    save_weights_only=True,\n",
    "    verbose=1\n",
    ")\n",
    "cp_callback.set_model(model)\n",
    "\n",
    "\n",
    "early = tf.keras.callbacks.EarlyStopping(\n",
    "    monitor='val_loss', min_delta=0.001, patience=20, verbose=1,\n",
    "    mode='auto', baseline=None, restore_best_weights=False\n",
    ")\n",
    "early.set_model(model)\n",
    "\n",
    "\n",
    "import plot_loss\n",
    "\n",
    "loss_plotter = plot_loss.LossPlotter(outdir)\n",
    "# loss_plotter.set_model(model)\n",
    "\n",
    "\n",
    "callbacks += [loss_plotter, cp_callback, lr_reduce, early]"
   ]
  },
  {
   "cell_type": "code",
   "execution_count": 61,
   "id": "b573a8d5",
   "metadata": {
    "ExecuteTime": {
     "end_time": "2022-06-23T13:12:21.916906Z",
     "start_time": "2022-06-23T13:12:21.913090Z"
    }
   },
   "outputs": [],
   "source": [
    "# Load the TensorBoard notebook extension\n",
    "%load_ext tensorboard"
   ]
  },
  {
   "cell_type": "code",
   "execution_count": 62,
   "id": "bfc74020",
   "metadata": {
    "ExecuteTime": {
     "start_time": "2022-06-23T13:13:19.115Z"
    },
    "scrolled": false
   },
   "outputs": [
    {
     "name": "stderr",
     "output_type": "stream",
     "text": [
      "2022-06-24 14:56:16.416558: W tensorflow/core/grappler/optimizers/data/auto_shard.cc:695] AUTO sharding policy will apply DATA sharding policy as it failed to apply FILE sharding policy because of the following reason: Did not find a shardable source, walked to a node which is not a dataset: name: \"FlatMapDataset/_9\"\n",
      "op: \"FlatMapDataset\"\n",
      "input: \"PrefetchDataset/_8\"\n",
      "attr {\n",
      "  key: \"Targuments\"\n",
      "  value {\n",
      "    list {\n",
      "    }\n",
      "  }\n",
      "}\n",
      "attr {\n",
      "  key: \"f\"\n",
      "  value {\n",
      "    func {\n",
      "      name: \"__inference_Dataset_flat_map_slice_batch_indices_2981\"\n",
      "    }\n",
      "  }\n",
      "}\n",
      "attr {\n",
      "  key: \"output_shapes\"\n",
      "  value {\n",
      "    list {\n",
      "      shape {\n",
      "        dim {\n",
      "          size: -1\n",
      "        }\n",
      "      }\n",
      "    }\n",
      "  }\n",
      "}\n",
      "attr {\n",
      "  key: \"output_types\"\n",
      "  value {\n",
      "    list {\n",
      "      type: DT_INT64\n",
      "    }\n",
      "  }\n",
      "}\n",
      ". Consider either turning off auto-sharding or switching the auto_shard_policy to DATA to shard this dataset. You can do this by creating a new `tf.data.Options()` object then setting `options.experimental_distribute.auto_shard_policy = AutoShardPolicy.DATA` before applying the options object to the dataset via `dataset.with_options(options)`.\n",
      "2022-06-24 14:56:16.457059: I tensorflow/compiler/mlir/mlir_graph_optimization_pass.cc:176] None of the MLIR Optimization Passes are enabled (registered 2)\n",
      "2022-06-24 14:56:16.458942: I tensorflow/core/platform/profile_utils/cpu_utils.cc:114] CPU Frequency: 2200000000 Hz\n"
     ]
    },
    {
     "name": "stdout",
     "output_type": "stream",
     "text": [
      "Epoch 1/200\n",
      "WARNING:tensorflow:From /cvmfs/sft.cern.ch/lcg/views/LCG_101cuda/x86_64-centos7-gcc8-opt/lib/python3.8/site-packages/tensorflow/python/ops/array_ops.py:5043: calling gather (from tensorflow.python.ops.array_ops) with validate_indices is deprecated and will be removed in a future version.\n",
      "Instructions for updating:\n",
      "The `validate_indices` argument has no effect. Indices are always validated on CPU and never validated on GPU.\n"
     ]
    },
    {
     "name": "stderr",
     "output_type": "stream",
     "text": [
      "/cvmfs/sft.cern.ch/lcg/views/LCG_101cuda/x86_64-centos7-gcc8-opt/lib/python3.8/site-packages/tensorflow/python/framework/indexed_slices.py:447: UserWarning: Converting sparse IndexedSlices(IndexedSlices(indices=Tensor(\"concat_1:0\", shape=(1800,), dtype=int64), values=Tensor(\"concat:0\", shape=(1800, 30, 64), dtype=float32), dense_shape=Tensor(\"gradient_tape/linking_model/Cast:0\", shape=(3,), dtype=int32))) to a dense Tensor of unknown shape. This may consume a large amount of memory.\n",
      "  warnings.warn(\n",
      "2022-06-24 14:56:21.298475: W tensorflow/core/framework/op_kernel.cc:1755] Invalid argument: required broadcastable shapes at loc(unknown)\n",
      "2022-06-24 14:56:21.303602: I tensorflow/stream_executor/platform/default/dso_loader.cc:53] Successfully opened dynamic library libcudnn.so.8\n",
      "2022-06-24 14:56:22.080824: I tensorflow/stream_executor/cuda/cuda_dnn.cc:359] Loaded cuDNN version 8101\n"
     ]
    },
    {
     "ename": "InvalidArgumentError",
     "evalue": " required broadcastable shapes at loc(unknown)\n\t [[{{node StatefulPartitionedCall/gradient_tape/truediv_1/RealDiv}}]] [Op:__inference_train_function_7210]\n\nFunction call stack:\ntrain_function\n",
     "output_type": "error",
     "traceback": [
      "\u001b[0;31m---------------------------------------------------------------------------\u001b[0m",
      "\u001b[0;31mInvalidArgumentError\u001b[0m                      Traceback (most recent call last)",
      "\u001b[0;32m/tmp/dvalsecc/ipykernel_215176/304025893.py\u001b[0m in \u001b[0;36m<module>\u001b[0;34m\u001b[0m\n\u001b[1;32m      1\u001b[0m \u001b[0;32mif\u001b[0m \u001b[0margs\u001b[0m\u001b[0;34m.\u001b[0m\u001b[0mnepochs\u001b[0m \u001b[0;34m>\u001b[0m \u001b[0;36m0\u001b[0m\u001b[0;34m:\u001b[0m\u001b[0;34m\u001b[0m\u001b[0;34m\u001b[0m\u001b[0m\n\u001b[0;32m----> 2\u001b[0;31m     ret = model.fit(\n\u001b[0m\u001b[1;32m      3\u001b[0m         \u001b[0mx\u001b[0m\u001b[0;34m=\u001b[0m\u001b[0mX\u001b[0m\u001b[0;34m,\u001b[0m\u001b[0;34m\u001b[0m\u001b[0;34m\u001b[0m\u001b[0m\n\u001b[1;32m      4\u001b[0m         \u001b[0my\u001b[0m\u001b[0;34m=\u001b[0m\u001b[0mY\u001b[0m\u001b[0;34m,\u001b[0m\u001b[0;34m\u001b[0m\u001b[0;34m\u001b[0m\u001b[0m\n\u001b[1;32m      5\u001b[0m         \u001b[0mbatch_size\u001b[0m\u001b[0;34m=\u001b[0m\u001b[0margs\u001b[0m\u001b[0;34m.\u001b[0m\u001b[0mbatch_size\u001b[0m\u001b[0;34m,\u001b[0m\u001b[0;34m\u001b[0m\u001b[0;34m\u001b[0m\u001b[0m\n",
      "\u001b[0;32m/cvmfs/sft.cern.ch/lcg/views/LCG_101cuda/x86_64-centos7-gcc8-opt/lib/python3.8/site-packages/tensorflow/python/keras/engine/training.py\u001b[0m in \u001b[0;36mfit\u001b[0;34m(self, x, y, batch_size, epochs, verbose, callbacks, validation_split, validation_data, shuffle, class_weight, sample_weight, initial_epoch, steps_per_epoch, validation_steps, validation_batch_size, validation_freq, max_queue_size, workers, use_multiprocessing)\u001b[0m\n\u001b[1;32m   1181\u001b[0m                 _r=1):\n\u001b[1;32m   1182\u001b[0m               \u001b[0mcallbacks\u001b[0m\u001b[0;34m.\u001b[0m\u001b[0mon_train_batch_begin\u001b[0m\u001b[0;34m(\u001b[0m\u001b[0mstep\u001b[0m\u001b[0;34m)\u001b[0m\u001b[0;34m\u001b[0m\u001b[0;34m\u001b[0m\u001b[0m\n\u001b[0;32m-> 1183\u001b[0;31m               \u001b[0mtmp_logs\u001b[0m \u001b[0;34m=\u001b[0m \u001b[0mself\u001b[0m\u001b[0;34m.\u001b[0m\u001b[0mtrain_function\u001b[0m\u001b[0;34m(\u001b[0m\u001b[0miterator\u001b[0m\u001b[0;34m)\u001b[0m\u001b[0;34m\u001b[0m\u001b[0;34m\u001b[0m\u001b[0m\n\u001b[0m\u001b[1;32m   1184\u001b[0m               \u001b[0;32mif\u001b[0m \u001b[0mdata_handler\u001b[0m\u001b[0;34m.\u001b[0m\u001b[0mshould_sync\u001b[0m\u001b[0;34m:\u001b[0m\u001b[0;34m\u001b[0m\u001b[0;34m\u001b[0m\u001b[0m\n\u001b[1;32m   1185\u001b[0m                 \u001b[0mcontext\u001b[0m\u001b[0;34m.\u001b[0m\u001b[0masync_wait\u001b[0m\u001b[0;34m(\u001b[0m\u001b[0;34m)\u001b[0m\u001b[0;34m\u001b[0m\u001b[0;34m\u001b[0m\u001b[0m\n",
      "\u001b[0;32m/cvmfs/sft.cern.ch/lcg/views/LCG_101cuda/x86_64-centos7-gcc8-opt/lib/python3.8/site-packages/tensorflow/python/eager/def_function.py\u001b[0m in \u001b[0;36m__call__\u001b[0;34m(self, *args, **kwds)\u001b[0m\n\u001b[1;32m    887\u001b[0m \u001b[0;34m\u001b[0m\u001b[0m\n\u001b[1;32m    888\u001b[0m       \u001b[0;32mwith\u001b[0m \u001b[0mOptionalXlaContext\u001b[0m\u001b[0;34m(\u001b[0m\u001b[0mself\u001b[0m\u001b[0;34m.\u001b[0m\u001b[0m_jit_compile\u001b[0m\u001b[0;34m)\u001b[0m\u001b[0;34m:\u001b[0m\u001b[0;34m\u001b[0m\u001b[0;34m\u001b[0m\u001b[0m\n\u001b[0;32m--> 889\u001b[0;31m         \u001b[0mresult\u001b[0m \u001b[0;34m=\u001b[0m \u001b[0mself\u001b[0m\u001b[0;34m.\u001b[0m\u001b[0m_call\u001b[0m\u001b[0;34m(\u001b[0m\u001b[0;34m*\u001b[0m\u001b[0margs\u001b[0m\u001b[0;34m,\u001b[0m \u001b[0;34m**\u001b[0m\u001b[0mkwds\u001b[0m\u001b[0;34m)\u001b[0m\u001b[0;34m\u001b[0m\u001b[0;34m\u001b[0m\u001b[0m\n\u001b[0m\u001b[1;32m    890\u001b[0m \u001b[0;34m\u001b[0m\u001b[0m\n\u001b[1;32m    891\u001b[0m       \u001b[0mnew_tracing_count\u001b[0m \u001b[0;34m=\u001b[0m \u001b[0mself\u001b[0m\u001b[0;34m.\u001b[0m\u001b[0mexperimental_get_tracing_count\u001b[0m\u001b[0;34m(\u001b[0m\u001b[0;34m)\u001b[0m\u001b[0;34m\u001b[0m\u001b[0;34m\u001b[0m\u001b[0m\n",
      "\u001b[0;32m/cvmfs/sft.cern.ch/lcg/views/LCG_101cuda/x86_64-centos7-gcc8-opt/lib/python3.8/site-packages/tensorflow/python/eager/def_function.py\u001b[0m in \u001b[0;36m_call\u001b[0;34m(self, *args, **kwds)\u001b[0m\n\u001b[1;32m    954\u001b[0m               *args, **kwds)\n\u001b[1;32m    955\u001b[0m       \u001b[0;31m# If we did not create any variables the trace we have is good enough.\u001b[0m\u001b[0;34m\u001b[0m\u001b[0;34m\u001b[0m\u001b[0;34m\u001b[0m\u001b[0m\n\u001b[0;32m--> 956\u001b[0;31m       return self._concrete_stateful_fn._call_flat(\n\u001b[0m\u001b[1;32m    957\u001b[0m           filtered_flat_args, self._concrete_stateful_fn.captured_inputs)  # pylint: disable=protected-access\n\u001b[1;32m    958\u001b[0m \u001b[0;34m\u001b[0m\u001b[0m\n",
      "\u001b[0;32m/cvmfs/sft.cern.ch/lcg/views/LCG_101cuda/x86_64-centos7-gcc8-opt/lib/python3.8/site-packages/tensorflow/python/eager/function.py\u001b[0m in \u001b[0;36m_call_flat\u001b[0;34m(self, args, captured_inputs, cancellation_manager)\u001b[0m\n\u001b[1;32m   1958\u001b[0m         and executing_eagerly):\n\u001b[1;32m   1959\u001b[0m       \u001b[0;31m# No tape is watching; skip to running the function.\u001b[0m\u001b[0;34m\u001b[0m\u001b[0;34m\u001b[0m\u001b[0;34m\u001b[0m\u001b[0m\n\u001b[0;32m-> 1960\u001b[0;31m       return self._build_call_outputs(self._inference_function.call(\n\u001b[0m\u001b[1;32m   1961\u001b[0m           ctx, args, cancellation_manager=cancellation_manager))\n\u001b[1;32m   1962\u001b[0m     forward_backward = self._select_forward_and_backward_functions(\n",
      "\u001b[0;32m/cvmfs/sft.cern.ch/lcg/views/LCG_101cuda/x86_64-centos7-gcc8-opt/lib/python3.8/site-packages/tensorflow/python/eager/function.py\u001b[0m in \u001b[0;36mcall\u001b[0;34m(self, ctx, args, cancellation_manager)\u001b[0m\n\u001b[1;32m    589\u001b[0m       \u001b[0;32mwith\u001b[0m \u001b[0m_InterpolateFunctionError\u001b[0m\u001b[0;34m(\u001b[0m\u001b[0mself\u001b[0m\u001b[0;34m)\u001b[0m\u001b[0;34m:\u001b[0m\u001b[0;34m\u001b[0m\u001b[0;34m\u001b[0m\u001b[0m\n\u001b[1;32m    590\u001b[0m         \u001b[0;32mif\u001b[0m \u001b[0mcancellation_manager\u001b[0m \u001b[0;32mis\u001b[0m \u001b[0;32mNone\u001b[0m\u001b[0;34m:\u001b[0m\u001b[0;34m\u001b[0m\u001b[0;34m\u001b[0m\u001b[0m\n\u001b[0;32m--> 591\u001b[0;31m           outputs = execute.execute(\n\u001b[0m\u001b[1;32m    592\u001b[0m               \u001b[0mstr\u001b[0m\u001b[0;34m(\u001b[0m\u001b[0mself\u001b[0m\u001b[0;34m.\u001b[0m\u001b[0msignature\u001b[0m\u001b[0;34m.\u001b[0m\u001b[0mname\u001b[0m\u001b[0;34m)\u001b[0m\u001b[0;34m,\u001b[0m\u001b[0;34m\u001b[0m\u001b[0;34m\u001b[0m\u001b[0m\n\u001b[1;32m    593\u001b[0m               \u001b[0mnum_outputs\u001b[0m\u001b[0;34m=\u001b[0m\u001b[0mself\u001b[0m\u001b[0;34m.\u001b[0m\u001b[0m_num_outputs\u001b[0m\u001b[0;34m,\u001b[0m\u001b[0;34m\u001b[0m\u001b[0;34m\u001b[0m\u001b[0m\n",
      "\u001b[0;32m/cvmfs/sft.cern.ch/lcg/views/LCG_101cuda/x86_64-centos7-gcc8-opt/lib/python3.8/site-packages/tensorflow/python/eager/execute.py\u001b[0m in \u001b[0;36mquick_execute\u001b[0;34m(op_name, num_outputs, inputs, attrs, ctx, name)\u001b[0m\n\u001b[1;32m     57\u001b[0m   \u001b[0;32mtry\u001b[0m\u001b[0;34m:\u001b[0m\u001b[0;34m\u001b[0m\u001b[0;34m\u001b[0m\u001b[0m\n\u001b[1;32m     58\u001b[0m     \u001b[0mctx\u001b[0m\u001b[0;34m.\u001b[0m\u001b[0mensure_initialized\u001b[0m\u001b[0;34m(\u001b[0m\u001b[0;34m)\u001b[0m\u001b[0;34m\u001b[0m\u001b[0;34m\u001b[0m\u001b[0m\n\u001b[0;32m---> 59\u001b[0;31m     tensors = pywrap_tfe.TFE_Py_Execute(ctx._handle, device_name, op_name,\n\u001b[0m\u001b[1;32m     60\u001b[0m                                         inputs, attrs, num_outputs)\n\u001b[1;32m     61\u001b[0m   \u001b[0;32mexcept\u001b[0m \u001b[0mcore\u001b[0m\u001b[0;34m.\u001b[0m\u001b[0m_NotOkStatusException\u001b[0m \u001b[0;32mas\u001b[0m \u001b[0me\u001b[0m\u001b[0;34m:\u001b[0m\u001b[0;34m\u001b[0m\u001b[0;34m\u001b[0m\u001b[0m\n",
      "\u001b[0;31mInvalidArgumentError\u001b[0m:  required broadcastable shapes at loc(unknown)\n\t [[{{node StatefulPartitionedCall/gradient_tape/truediv_1/RealDiv}}]] [Op:__inference_train_function_7210]\n\nFunction call stack:\ntrain_function\n"
     ]
    }
   ],
   "source": [
    "if args.nepochs > 0:\n",
    "    ret = model.fit(\n",
    "        x=X,\n",
    "        y=Y,\n",
    "        batch_size=args.batch_size,\n",
    "        epochs=args.nepochs,\n",
    "        verbose=True,\n",
    "        callbacks = callbacks,\n",
    "        initial_epoch = args.initial_epoch,\n",
    "        validation_split=0.3,\n",
    "        shuffle=True,\n",
    "    )\n",
    "\n"
   ]
  },
  {
   "cell_type": "code",
   "execution_count": 74,
   "id": "cca80f79",
   "metadata": {
    "ExecuteTime": {
     "end_time": "2022-06-22T15:48:35.709017Z",
     "start_time": "2022-06-22T15:48:35.648758Z"
    }
   },
   "outputs": [],
   "source": [
    "pred, mask = model(X)"
   ]
  },
  {
   "cell_type": "code",
   "execution_count": 75,
   "id": "a52887fd",
   "metadata": {},
   "outputs": [
    {
     "data": {
      "text/plain": [
       "TensorShape([900, 30, 1])"
      ]
     },
     "execution_count": 75,
     "metadata": {},
     "output_type": "execute_result"
    }
   ],
   "source": [
    "pred.shape"
   ]
  },
  {
   "cell_type": "code",
   "execution_count": 76,
   "id": "f0593763",
   "metadata": {},
   "outputs": [
    {
     "data": {
      "text/plain": [
       "<tf.Tensor: shape=(900, 30, 1), dtype=float32, numpy=\n",
       "array([[[0.7244421 ],\n",
       "        [0.70258474],\n",
       "        [0.67900634],\n",
       "        ...,\n",
       "        [0.        ],\n",
       "        [0.        ],\n",
       "        [0.        ]],\n",
       "\n",
       "       [[0.6671573 ],\n",
       "        [0.60541767],\n",
       "        [0.66530365],\n",
       "        ...,\n",
       "        [0.        ],\n",
       "        [0.        ],\n",
       "        [0.        ]],\n",
       "\n",
       "       [[0.37461782],\n",
       "        [0.25395596],\n",
       "        [0.33706892],\n",
       "        ...,\n",
       "        [0.        ],\n",
       "        [0.        ],\n",
       "        [0.        ]],\n",
       "\n",
       "       ...,\n",
       "\n",
       "       [[0.93315434],\n",
       "        [0.9379947 ],\n",
       "        [0.999849  ],\n",
       "        ...,\n",
       "        [0.        ],\n",
       "        [0.        ],\n",
       "        [0.        ]],\n",
       "\n",
       "       [[0.62597126],\n",
       "        [0.6221257 ],\n",
       "        [0.69592303],\n",
       "        ...,\n",
       "        [0.        ],\n",
       "        [0.        ],\n",
       "        [0.        ]],\n",
       "\n",
       "       [[0.6646423 ],\n",
       "        [0.6340441 ],\n",
       "        [0.68080044],\n",
       "        ...,\n",
       "        [0.        ],\n",
       "        [0.        ],\n",
       "        [0.        ]]], dtype=float32)>"
      ]
     },
     "execution_count": 76,
     "metadata": {},
     "output_type": "execute_result"
    }
   ],
   "source": [
    "tf.reshape(pred, )"
   ]
  },
  {
   "cell_type": "code",
   "execution_count": 80,
   "id": "f2e4179a",
   "metadata": {},
   "outputs": [],
   "source": [
    "W = tf.where(~tf.math.is_nan(pred[0:10]))"
   ]
  },
  {
   "cell_type": "code",
   "execution_count": 2,
   "id": "1f759787",
   "metadata": {},
   "outputs": [
    {
     "ename": "NameError",
     "evalue": "name 'tf' is not defined",
     "output_type": "error",
     "traceback": [
      "\u001b[0;31m---------------------------------------------------------------------------\u001b[0m",
      "\u001b[0;31mNameError\u001b[0m                                 Traceback (most recent call last)",
      "\u001b[0;32m/tmp/dvalsecc/ipykernel_215176/2618983777.py\u001b[0m in \u001b[0;36m<module>\u001b[0;34m\u001b[0m\n\u001b[0;32m----> 1\u001b[0;31m \u001b[0mw\u001b[0m \u001b[0;34m=\u001b[0m \u001b[0mtf\u001b[0m\u001b[0;34m.\u001b[0m\u001b[0mtranspose\u001b[0m\u001b[0;34m(\u001b[0m\u001b[0mW\u001b[0m\u001b[0;34m)\u001b[0m\u001b[0;34m\u001b[0m\u001b[0;34m\u001b[0m\u001b[0m\n\u001b[0m",
      "\u001b[0;31mNameError\u001b[0m: name 'tf' is not defined"
     ]
    }
   ],
   "source": [
    "w = tf.transpose(W)"
   ]
  },
  {
   "cell_type": "code",
   "execution_count": 86,
   "id": "fe839894",
   "metadata": {},
   "outputs": [
    {
     "data": {
      "text/plain": [
       "TensorShape([3, 9600])"
      ]
     },
     "execution_count": 86,
     "metadata": {},
     "output_type": "execute_result"
    }
   ],
   "source": [
    "w.shape"
   ]
  },
  {
   "cell_type": "code",
   "execution_count": 1,
   "id": "abee0831",
   "metadata": {},
   "outputs": [
    {
     "ename": "NameError",
     "evalue": "name 'w' is not defined",
     "output_type": "error",
     "traceback": [
      "\u001b[0;31m---------------------------------------------------------------------------\u001b[0m",
      "\u001b[0;31mNameError\u001b[0m                                 Traceback (most recent call last)",
      "\u001b[0;32m/tmp/dvalsecc/ipykernel_215176/2655497425.py\u001b[0m in \u001b[0;36m<module>\u001b[0;34m\u001b[0m\n\u001b[0;32m----> 1\u001b[0;31m \u001b[0mw\u001b[0m\u001b[0;34m[\u001b[0m\u001b[0;36m0\u001b[0m\u001b[0;34m,\u001b[0m\u001b[0;34m:\u001b[0m\u001b[0;34m]\u001b[0m\u001b[0;34m\u001b[0m\u001b[0;34m\u001b[0m\u001b[0m\n\u001b[0m",
      "\u001b[0;31mNameError\u001b[0m: name 'w' is not defined"
     ]
    }
   ],
   "source": [
    "w[0,:]"
   ]
  },
  {
   "cell_type": "code",
   "execution_count": 89,
   "id": "0587630e",
   "metadata": {},
   "outputs": [
    {
     "data": {
      "text/plain": [
       "<tf.Tensor: shape=(9600,), dtype=int64, numpy=array([ 0,  0,  0, ..., 29, 29, 29])>"
      ]
     },
     "execution_count": 89,
     "metadata": {},
     "output_type": "execute_result"
    }
   ],
   "source": [
    "w[1,:]"
   ]
  },
  {
   "cell_type": "code",
   "execution_count": 90,
   "id": "343c8f22",
   "metadata": {},
   "outputs": [
    {
     "data": {
      "text/plain": [
       "<tf.Tensor: shape=(9600,), dtype=int64, numpy=array([ 0,  1,  2, ..., 29, 30, 31])>"
      ]
     },
     "execution_count": 90,
     "metadata": {},
     "output_type": "execute_result"
    }
   ],
   "source": [
    "w[2,:]"
   ]
  },
  {
   "cell_type": "code",
   "execution_count": 22,
   "id": "15c08cd4",
   "metadata": {},
   "outputs": [],
   "source": [
    "A, B = np.where(np.ones((30,30)))"
   ]
  },
  {
   "cell_type": "code",
   "execution_count": 23,
   "id": "973741a8",
   "metadata": {},
   "outputs": [
    {
     "data": {
      "text/plain": [
       "array([ 0,  0,  0,  0,  0,  0,  0,  0,  0,  0,  0,  0,  0,  0,  0,  0,  0,\n",
       "        0,  0,  0,  0,  0,  0,  0,  0,  0,  0,  0,  0,  0,  1,  1,  1,  1,\n",
       "        1,  1,  1,  1,  1,  1,  1,  1,  1,  1,  1,  1,  1,  1,  1,  1,  1,\n",
       "        1,  1,  1,  1,  1,  1,  1,  1,  1,  2,  2,  2,  2,  2,  2,  2,  2,\n",
       "        2,  2,  2,  2,  2,  2,  2,  2,  2,  2,  2,  2,  2,  2,  2,  2,  2,\n",
       "        2,  2,  2,  2,  2,  3,  3,  3,  3,  3,  3,  3,  3,  3,  3,  3,  3,\n",
       "        3,  3,  3,  3,  3,  3,  3,  3,  3,  3,  3,  3,  3,  3,  3,  3,  3,\n",
       "        3,  4,  4,  4,  4,  4,  4,  4,  4,  4,  4,  4,  4,  4,  4,  4,  4,\n",
       "        4,  4,  4,  4,  4,  4,  4,  4,  4,  4,  4,  4,  4,  4,  5,  5,  5,\n",
       "        5,  5,  5,  5,  5,  5,  5,  5,  5,  5,  5,  5,  5,  5,  5,  5,  5,\n",
       "        5,  5,  5,  5,  5,  5,  5,  5,  5,  5,  6,  6,  6,  6,  6,  6,  6,\n",
       "        6,  6,  6,  6,  6,  6,  6,  6,  6,  6,  6,  6,  6,  6,  6,  6,  6,\n",
       "        6,  6,  6,  6,  6,  6,  7,  7,  7,  7,  7,  7,  7,  7,  7,  7,  7,\n",
       "        7,  7,  7,  7,  7,  7,  7,  7,  7,  7,  7,  7,  7,  7,  7,  7,  7,\n",
       "        7,  7,  8,  8,  8,  8,  8,  8,  8,  8,  8,  8,  8,  8,  8,  8,  8,\n",
       "        8,  8,  8,  8,  8,  8,  8,  8,  8,  8,  8,  8,  8,  8,  8,  9,  9,\n",
       "        9,  9,  9,  9,  9,  9,  9,  9,  9,  9,  9,  9,  9,  9,  9,  9,  9,\n",
       "        9,  9,  9,  9,  9,  9,  9,  9,  9,  9,  9, 10, 10, 10, 10, 10, 10,\n",
       "       10, 10, 10, 10, 10, 10, 10, 10, 10, 10, 10, 10, 10, 10, 10, 10, 10,\n",
       "       10, 10, 10, 10, 10, 10, 10, 11, 11, 11, 11, 11, 11, 11, 11, 11, 11,\n",
       "       11, 11, 11, 11, 11, 11, 11, 11, 11, 11, 11, 11, 11, 11, 11, 11, 11,\n",
       "       11, 11, 11, 12, 12, 12, 12, 12, 12, 12, 12, 12, 12, 12, 12, 12, 12,\n",
       "       12, 12, 12, 12, 12, 12, 12, 12, 12, 12, 12, 12, 12, 12, 12, 12, 13,\n",
       "       13, 13, 13, 13, 13, 13, 13, 13, 13, 13, 13, 13, 13, 13, 13, 13, 13,\n",
       "       13, 13, 13, 13, 13, 13, 13, 13, 13, 13, 13, 13, 14, 14, 14, 14, 14,\n",
       "       14, 14, 14, 14, 14, 14, 14, 14, 14, 14, 14, 14, 14, 14, 14, 14, 14,\n",
       "       14, 14, 14, 14, 14, 14, 14, 14, 15, 15, 15, 15, 15, 15, 15, 15, 15,\n",
       "       15, 15, 15, 15, 15, 15, 15, 15, 15, 15, 15, 15, 15, 15, 15, 15, 15,\n",
       "       15, 15, 15, 15, 16, 16, 16, 16, 16, 16, 16, 16, 16, 16, 16, 16, 16,\n",
       "       16, 16, 16, 16, 16, 16, 16, 16, 16, 16, 16, 16, 16, 16, 16, 16, 16,\n",
       "       17, 17, 17, 17, 17, 17, 17, 17, 17, 17, 17, 17, 17, 17, 17, 17, 17,\n",
       "       17, 17, 17, 17, 17, 17, 17, 17, 17, 17, 17, 17, 17, 18, 18, 18, 18,\n",
       "       18, 18, 18, 18, 18, 18, 18, 18, 18, 18, 18, 18, 18, 18, 18, 18, 18,\n",
       "       18, 18, 18, 18, 18, 18, 18, 18, 18, 19, 19, 19, 19, 19, 19, 19, 19,\n",
       "       19, 19, 19, 19, 19, 19, 19, 19, 19, 19, 19, 19, 19, 19, 19, 19, 19,\n",
       "       19, 19, 19, 19, 19, 20, 20, 20, 20, 20, 20, 20, 20, 20, 20, 20, 20,\n",
       "       20, 20, 20, 20, 20, 20, 20, 20, 20, 20, 20, 20, 20, 20, 20, 20, 20,\n",
       "       20, 21, 21, 21, 21, 21, 21, 21, 21, 21, 21, 21, 21, 21, 21, 21, 21,\n",
       "       21, 21, 21, 21, 21, 21, 21, 21, 21, 21, 21, 21, 21, 21, 22, 22, 22,\n",
       "       22, 22, 22, 22, 22, 22, 22, 22, 22, 22, 22, 22, 22, 22, 22, 22, 22,\n",
       "       22, 22, 22, 22, 22, 22, 22, 22, 22, 22, 23, 23, 23, 23, 23, 23, 23,\n",
       "       23, 23, 23, 23, 23, 23, 23, 23, 23, 23, 23, 23, 23, 23, 23, 23, 23,\n",
       "       23, 23, 23, 23, 23, 23, 24, 24, 24, 24, 24, 24, 24, 24, 24, 24, 24,\n",
       "       24, 24, 24, 24, 24, 24, 24, 24, 24, 24, 24, 24, 24, 24, 24, 24, 24,\n",
       "       24, 24, 25, 25, 25, 25, 25, 25, 25, 25, 25, 25, 25, 25, 25, 25, 25,\n",
       "       25, 25, 25, 25, 25, 25, 25, 25, 25, 25, 25, 25, 25, 25, 25, 26, 26,\n",
       "       26, 26, 26, 26, 26, 26, 26, 26, 26, 26, 26, 26, 26, 26, 26, 26, 26,\n",
       "       26, 26, 26, 26, 26, 26, 26, 26, 26, 26, 26, 27, 27, 27, 27, 27, 27,\n",
       "       27, 27, 27, 27, 27, 27, 27, 27, 27, 27, 27, 27, 27, 27, 27, 27, 27,\n",
       "       27, 27, 27, 27, 27, 27, 27, 28, 28, 28, 28, 28, 28, 28, 28, 28, 28,\n",
       "       28, 28, 28, 28, 28, 28, 28, 28, 28, 28, 28, 28, 28, 28, 28, 28, 28,\n",
       "       28, 28, 28, 29, 29, 29, 29, 29, 29, 29, 29, 29, 29, 29, 29, 29, 29,\n",
       "       29, 29, 29, 29, 29, 29, 29, 29, 29, 29, 29, 29, 29, 29, 29, 29])"
      ]
     },
     "execution_count": 23,
     "metadata": {},
     "output_type": "execute_result"
    }
   ],
   "source": [
    "A"
   ]
  },
  {
   "cell_type": "code",
   "execution_count": 31,
   "id": "546f225e",
   "metadata": {},
   "outputs": [
    {
     "data": {
      "text/plain": [
       "array([ 0,  0,  0,  0,  0,  0,  0,  0,  0,  0,  0,  0,  0,  0,  0,  0,  0,\n",
       "        0,  0,  0,  0,  0,  0,  0,  0,  0,  0,  0,  0,  0,  1,  1,  1,  1,\n",
       "        1,  1,  1,  1,  1,  1,  1,  1,  1,  1,  1,  1,  1,  1,  1,  1,  1,\n",
       "        1,  1,  1,  1,  1,  1,  1,  1,  1,  2,  2,  2,  2,  2,  2,  2,  2,\n",
       "        2,  2,  2,  2,  2,  2,  2,  2,  2,  2,  2,  2,  2,  2,  2,  2,  2,\n",
       "        2,  2,  2,  2,  2,  3,  3,  3,  3,  3,  3,  3,  3,  3,  3,  3,  3,\n",
       "        3,  3,  3,  3,  3,  3,  3,  3,  3,  3,  3,  3,  3,  3,  3,  3,  3,\n",
       "        3,  4,  4,  4,  4,  4,  4,  4,  4,  4,  4,  4,  4,  4,  4,  4,  4,\n",
       "        4,  4,  4,  4,  4,  4,  4,  4,  4,  4,  4,  4,  4,  4,  5,  5,  5,\n",
       "        5,  5,  5,  5,  5,  5,  5,  5,  5,  5,  5,  5,  5,  5,  5,  5,  5,\n",
       "        5,  5,  5,  5,  5,  5,  5,  5,  5,  5,  6,  6,  6,  6,  6,  6,  6,\n",
       "        6,  6,  6,  6,  6,  6,  6,  6,  6,  6,  6,  6,  6,  6,  6,  6,  6,\n",
       "        6,  6,  6,  6,  6,  6,  7,  7,  7,  7,  7,  7,  7,  7,  7,  7,  7,\n",
       "        7,  7,  7,  7,  7,  7,  7,  7,  7,  7,  7,  7,  7,  7,  7,  7,  7,\n",
       "        7,  7,  8,  8,  8,  8,  8,  8,  8,  8,  8,  8,  8,  8,  8,  8,  8,\n",
       "        8,  8,  8,  8,  8,  8,  8,  8,  8,  8,  8,  8,  8,  8,  8,  9,  9,\n",
       "        9,  9,  9,  9,  9,  9,  9,  9,  9,  9,  9,  9,  9,  9,  9,  9,  9,\n",
       "        9,  9,  9,  9,  9,  9,  9,  9,  9,  9,  9, 10, 10, 10, 10, 10, 10,\n",
       "       10, 10, 10, 10, 10, 10, 10, 10, 10, 10, 10, 10, 10, 10, 10, 10, 10,\n",
       "       10, 10, 10, 10, 10, 10, 10, 11, 11, 11, 11, 11, 11, 11, 11, 11, 11,\n",
       "       11, 11, 11, 11, 11, 11, 11, 11, 11, 11, 11, 11, 11, 11, 11, 11, 11,\n",
       "       11, 11, 11, 12, 12, 12, 12, 12, 12, 12, 12, 12, 12, 12, 12, 12, 12,\n",
       "       12, 12, 12, 12, 12, 12, 12, 12, 12, 12, 12, 12, 12, 12, 12, 12, 13,\n",
       "       13, 13, 13, 13, 13, 13, 13, 13, 13, 13, 13, 13, 13, 13, 13, 13, 13,\n",
       "       13, 13, 13, 13, 13, 13, 13, 13, 13, 13, 13, 13, 14, 14, 14, 14, 14,\n",
       "       14, 14, 14, 14, 14, 14, 14, 14, 14, 14, 14, 14, 14, 14, 14, 14, 14,\n",
       "       14, 14, 14, 14, 14, 14, 14, 14, 15, 15, 15, 15, 15, 15, 15, 15, 15,\n",
       "       15, 15, 15, 15, 15, 15, 15, 15, 15, 15, 15, 15, 15, 15, 15, 15, 15,\n",
       "       15, 15, 15, 15, 16, 16, 16, 16, 16, 16, 16, 16, 16, 16, 16, 16, 16,\n",
       "       16, 16, 16, 16, 16, 16, 16, 16, 16, 16, 16, 16, 16, 16, 16, 16, 16,\n",
       "       17, 17, 17, 17, 17, 17, 17, 17, 17, 17, 17, 17, 17, 17, 17, 17, 17,\n",
       "       17, 17, 17, 17, 17, 17, 17, 17, 17, 17, 17, 17, 17, 18, 18, 18, 18,\n",
       "       18, 18, 18, 18, 18, 18, 18, 18, 18, 18, 18, 18, 18, 18, 18, 18, 18,\n",
       "       18, 18, 18, 18, 18, 18, 18, 18, 18, 19, 19, 19, 19, 19, 19, 19, 19,\n",
       "       19, 19, 19, 19, 19, 19, 19, 19, 19, 19, 19, 19, 19, 19, 19, 19, 19,\n",
       "       19, 19, 19, 19, 19, 20, 20, 20, 20, 20, 20, 20, 20, 20, 20, 20, 20,\n",
       "       20, 20, 20, 20, 20, 20, 20, 20, 20, 20, 20, 20, 20, 20, 20, 20, 20,\n",
       "       20, 21, 21, 21, 21, 21, 21, 21, 21, 21, 21, 21, 21, 21, 21, 21, 21,\n",
       "       21, 21, 21, 21, 21, 21, 21, 21, 21, 21, 21, 21, 21, 21, 22, 22, 22,\n",
       "       22, 22, 22, 22, 22, 22, 22, 22, 22, 22, 22, 22, 22, 22, 22, 22, 22,\n",
       "       22, 22, 22, 22, 22, 22, 22, 22, 22, 22, 23, 23, 23, 23, 23, 23, 23,\n",
       "       23, 23, 23, 23, 23, 23, 23, 23, 23, 23, 23, 23, 23, 23, 23, 23, 23,\n",
       "       23, 23, 23, 23, 23, 23, 24, 24, 24, 24, 24, 24, 24, 24, 24, 24, 24,\n",
       "       24, 24, 24, 24, 24, 24, 24, 24, 24, 24, 24, 24, 24, 24, 24, 24, 24,\n",
       "       24, 24, 25, 25, 25, 25, 25, 25, 25, 25, 25, 25, 25, 25, 25, 25, 25,\n",
       "       25, 25, 25, 25, 25, 25, 25, 25, 25, 25, 25, 25, 25, 25, 25, 26, 26,\n",
       "       26, 26, 26, 26, 26, 26, 26, 26, 26, 26, 26, 26, 26, 26, 26, 26, 26,\n",
       "       26, 26, 26, 26, 26, 26, 26, 26, 26, 26, 26, 27, 27, 27, 27, 27, 27,\n",
       "       27, 27, 27, 27, 27, 27, 27, 27, 27, 27, 27, 27, 27, 27, 27, 27, 27,\n",
       "       27, 27, 27, 27, 27, 27, 27, 28, 28, 28, 28, 28, 28, 28, 28, 28, 28,\n",
       "       28, 28, 28, 28, 28, 28, 28, 28, 28, 28, 28, 28, 28, 28, 28, 28, 28,\n",
       "       28, 28, 28, 29, 29, 29, 29, 29, 29, 29, 29, 29, 29, 29, 29, 29, 29,\n",
       "       29, 29, 29, 29, 29, 29, 29, 29, 29, 29, 29, 29, 29, 29, 29, 29])"
      ]
     },
     "execution_count": 31,
     "metadata": {},
     "output_type": "execute_result"
    }
   ],
   "source": [
    "A"
   ]
  },
  {
   "cell_type": "code",
   "execution_count": 34,
   "id": "de1d10a0",
   "metadata": {},
   "outputs": [],
   "source": [
    "A = tf.convert_to_tensor(A)"
   ]
  },
  {
   "cell_type": "code",
   "execution_count": 81,
   "id": "58e7c63a",
   "metadata": {},
   "outputs": [
    {
     "data": {
      "text/plain": [
       "<tf.Tensor: shape=(900, 30, 1), dtype=float32, numpy=\n",
       "array([[[0.7244421 ],\n",
       "        [0.70258474],\n",
       "        [0.67900634],\n",
       "        ...,\n",
       "        [0.        ],\n",
       "        [0.        ],\n",
       "        [0.        ]],\n",
       "\n",
       "       [[0.6671573 ],\n",
       "        [0.60541767],\n",
       "        [0.66530365],\n",
       "        ...,\n",
       "        [0.        ],\n",
       "        [0.        ],\n",
       "        [0.        ]],\n",
       "\n",
       "       [[0.37461782],\n",
       "        [0.25395596],\n",
       "        [0.33706892],\n",
       "        ...,\n",
       "        [0.        ],\n",
       "        [0.        ],\n",
       "        [0.        ]],\n",
       "\n",
       "       ...,\n",
       "\n",
       "       [[0.93315434],\n",
       "        [0.9379947 ],\n",
       "        [0.999849  ],\n",
       "        ...,\n",
       "        [0.        ],\n",
       "        [0.        ],\n",
       "        [0.        ]],\n",
       "\n",
       "       [[0.62597126],\n",
       "        [0.6221257 ],\n",
       "        [0.69592303],\n",
       "        ...,\n",
       "        [0.        ],\n",
       "        [0.        ],\n",
       "        [0.        ]],\n",
       "\n",
       "       [[0.6646423 ],\n",
       "        [0.6340441 ],\n",
       "        [0.68080044],\n",
       "        ...,\n",
       "        [0.        ],\n",
       "        [0.        ],\n",
       "        [0.        ]]], dtype=float32)>"
      ]
     },
     "execution_count": 81,
     "metadata": {},
     "output_type": "execute_result"
    }
   ],
   "source": [
    "pred"
   ]
  },
  {
   "cell_type": "code",
   "execution_count": 78,
   "id": "2967b73c",
   "metadata": {},
   "outputs": [
    {
     "data": {
      "text/plain": [
       "<tf.Tensor: shape=(900, 30, 2), dtype=float32, numpy=\n",
       "array([[[0.7244421 , 0.7244421 ],\n",
       "        [0.70258474, 0.70258474],\n",
       "        [0.67900634, 0.67900634],\n",
       "        ...,\n",
       "        [0.        , 0.        ],\n",
       "        [0.        , 0.        ],\n",
       "        [0.        , 0.        ]],\n",
       "\n",
       "       [[0.7244421 , 0.6671573 ],\n",
       "        [0.70258474, 0.60541767],\n",
       "        [0.67900634, 0.66530365],\n",
       "        ...,\n",
       "        [0.        , 0.        ],\n",
       "        [0.        , 0.        ],\n",
       "        [0.        , 0.        ]],\n",
       "\n",
       "       [[0.7244421 , 0.37461782],\n",
       "        [0.70258474, 0.25395596],\n",
       "        [0.67900634, 0.33706892],\n",
       "        ...,\n",
       "        [0.        , 0.        ],\n",
       "        [0.        , 0.        ],\n",
       "        [0.        , 0.        ]],\n",
       "\n",
       "       ...,\n",
       "\n",
       "       [[0.56450117, 0.79595065],\n",
       "        [0.5063501 , 0.7589114 ],\n",
       "        [0.5483341 , 0.8195295 ],\n",
       "        ...,\n",
       "        [0.        , 0.        ],\n",
       "        [0.        , 0.        ],\n",
       "        [0.        , 0.        ]],\n",
       "\n",
       "       [[0.56450117, 0.44701314],\n",
       "        [0.5063501 , 0.39605653],\n",
       "        [0.5483341 , 0.4907431 ],\n",
       "        ...,\n",
       "        [0.        , 0.        ],\n",
       "        [0.        , 0.        ],\n",
       "        [0.        , 0.        ]],\n",
       "\n",
       "       [[0.56450117, 0.56450117],\n",
       "        [0.5063501 , 0.5063501 ],\n",
       "        [0.5483341 , 0.5483341 ],\n",
       "        ...,\n",
       "        [0.        , 0.        ],\n",
       "        [0.        , 0.        ],\n",
       "        [0.        , 0.        ]]], dtype=float32)>"
      ]
     },
     "execution_count": 78,
     "metadata": {},
     "output_type": "execute_result"
    }
   ],
   "source": [
    "tf.concat([tf.gather(pred, A),tf.gather(pred, B)], axis=-1)\n"
   ]
  },
  {
   "cell_type": "code",
   "execution_count": 37,
   "id": "774d5b03",
   "metadata": {},
   "outputs": [
    {
     "data": {
      "text/plain": [
       "<tf.Tensor: shape=(900, 30, 32), dtype=float32, numpy=\n",
       "array([[[ 0.38983274, -0.48789644,  0.13591094, ...,  0.59442157,\n",
       "         -0.06207559,  0.93142444],\n",
       "        [ 0.37475485, -0.47296274,  0.13363351, ...,  0.6246688 ,\n",
       "         -0.08010476,  0.931255  ],\n",
       "        [ 0.36593965, -0.4843387 ,  0.14967309, ...,  0.6306784 ,\n",
       "         -0.07543467,  0.9211492 ],\n",
       "        ...,\n",
       "        [ 0.        ,  0.        ,  0.        , ...,  0.        ,\n",
       "          0.        ,  0.        ],\n",
       "        [ 0.        ,  0.        ,  0.        , ...,  0.        ,\n",
       "          0.        ,  0.        ],\n",
       "        [ 0.        ,  0.        ,  0.        , ...,  0.        ,\n",
       "          0.        ,  0.        ]],\n",
       "\n",
       "       [[ 0.29052845, -0.315431  ,  0.21742713, ...,  0.63024646,\n",
       "          0.01130052,  1.0967039 ],\n",
       "        [ 0.33501127, -0.3407974 ,  0.2375989 , ...,  0.63454163,\n",
       "          0.05889279,  1.1047648 ],\n",
       "        [ 0.24759965, -0.2560288 ,  0.23533194, ...,  0.6907041 ,\n",
       "          0.03297705,  1.0896007 ],\n",
       "        ...,\n",
       "        [ 0.        ,  0.        ,  0.        , ...,  0.        ,\n",
       "          0.        ,  0.        ],\n",
       "        [ 0.        ,  0.        ,  0.        , ...,  0.        ,\n",
       "          0.        ,  0.        ],\n",
       "        [ 0.        ,  0.        ,  0.        , ...,  0.        ,\n",
       "          0.        ,  0.        ]],\n",
       "\n",
       "       [[ 0.4588777 , -0.32341313,  0.61541474, ...,  0.7157801 ,\n",
       "          0.24432565,  0.85070866],\n",
       "        [ 0.46861023, -0.3225727 ,  0.6748502 , ...,  0.6984635 ,\n",
       "          0.2981186 ,  0.81413525],\n",
       "        [ 0.44603398, -0.31264788,  0.6369158 , ...,  0.7270905 ,\n",
       "          0.2670213 ,  0.86189455],\n",
       "        ...,\n",
       "        [ 0.        ,  0.        ,  0.        , ...,  0.        ,\n",
       "          0.        ,  0.        ],\n",
       "        [ 0.        ,  0.        ,  0.        , ...,  0.        ,\n",
       "          0.        ,  0.        ],\n",
       "        [ 0.        ,  0.        ,  0.        , ...,  0.        ,\n",
       "          0.        ,  0.        ]],\n",
       "\n",
       "       ...,\n",
       "\n",
       "       [[ 0.3625186 , -0.4412006 ,  0.15279108, ...,  0.58026314,\n",
       "         -0.15209374,  0.9412447 ],\n",
       "        [ 0.3925507 , -0.44675708,  0.12198132, ...,  0.5557677 ,\n",
       "         -0.12718672,  0.93467253],\n",
       "        [ 0.37975886, -0.41603735,  0.11032329, ...,  0.57934844,\n",
       "         -0.13555028,  0.96328014],\n",
       "        ...,\n",
       "        [ 0.        ,  0.        ,  0.        , ...,  0.        ,\n",
       "          0.        ,  0.        ],\n",
       "        [ 0.        ,  0.        ,  0.        , ...,  0.        ,\n",
       "          0.        ,  0.        ],\n",
       "        [ 0.        ,  0.        ,  0.        , ...,  0.        ,\n",
       "          0.        ,  0.        ]],\n",
       "\n",
       "       [[ 0.34032983, -0.33810696,  0.48184907, ...,  0.6738249 ,\n",
       "          0.08604495,  0.96435475],\n",
       "        [ 0.34464365, -0.34367833,  0.50606835, ...,  0.68389136,\n",
       "          0.10459761,  0.9714025 ],\n",
       "        [ 0.3419471 , -0.33496135,  0.45828003, ...,  0.6782156 ,\n",
       "          0.09563959,  1.0018042 ],\n",
       "        ...,\n",
       "        [ 0.        ,  0.        ,  0.        , ...,  0.        ,\n",
       "          0.        ,  0.        ],\n",
       "        [ 0.        ,  0.        ,  0.        , ...,  0.        ,\n",
       "          0.        ,  0.        ],\n",
       "        [ 0.        ,  0.        ,  0.        , ...,  0.        ,\n",
       "          0.        ,  0.        ]],\n",
       "\n",
       "       [[-0.00365183, -0.05467286,  0.45040244, ...,  0.93577445,\n",
       "         -0.07024946,  0.73128915],\n",
       "        [-0.00960715, -0.04915248,  0.4782537 , ...,  0.9391318 ,\n",
       "         -0.09268378,  0.6858439 ],\n",
       "        [-0.01741575, -0.05315621,  0.46410403, ...,  0.945975  ,\n",
       "         -0.08646108,  0.70746624],\n",
       "        ...,\n",
       "        [ 0.        ,  0.        ,  0.        , ...,  0.        ,\n",
       "          0.        ,  0.        ],\n",
       "        [ 0.        ,  0.        ,  0.        , ...,  0.        ,\n",
       "          0.        ,  0.        ],\n",
       "        [ 0.        ,  0.        ,  0.        , ...,  0.        ,\n",
       "          0.        ,  0.        ]]], dtype=float32)>"
      ]
     },
     "execution_count": 37,
     "metadata": {},
     "output_type": "execute_result"
    }
   ],
   "source": [
    "tf.gather(pred, B)"
   ]
  },
  {
   "cell_type": "code",
   "execution_count": null,
   "id": "12dd08e4",
   "metadata": {},
   "outputs": [],
   "source": [
    "class_loss = tf.reshape(tf.nn.sigmoid_cross_entropy_with_logits(tf.reshape(tf.cast(y_true, tf.float32), [-1]), \n",
    "                                                     tf.reshape(tf.cast(y_pred, tf.float32), [-1])),\n",
    "                        [-1,30,30])\n",
    "    reduced_loss = tf.reduce_mean((tf.reduce_sum(class_loss, axis=(1,2))/2 ) / tf.reduce_sum(mask, axis=1)**2)"
   ]
  },
  {
   "cell_type": "code",
   "execution_count": null,
   "id": "bcda3233",
   "metadata": {},
   "outputs": [],
   "source": []
  },
  {
   "cell_type": "code",
   "execution_count": null,
   "id": "5c0330ea",
   "metadata": {},
   "outputs": [],
   "source": []
  },
  {
   "cell_type": "code",
   "execution_count": 177,
   "id": "0d839ad2",
   "metadata": {
    "scrolled": true
   },
   "outputs": [
    {
     "data": {
      "text/plain": [
       "array([[1., 0., 0., 1., 0., 1., 1., 0., 0., 0., 0., 0., 0., 0., 0., 0.,\n",
       "        0., 0., 0., 0., 0., 0., 0., 0., 0., 0., 0., 0., 0., 0.],\n",
       "       [0., 0., 0., 0., 0., 0., 0., 0., 0., 0., 0., 0., 0., 0., 0., 0.,\n",
       "        0., 0., 0., 0., 0., 0., 0., 0., 0., 0., 0., 0., 0., 0.],\n",
       "       [0., 0., 0., 0., 0., 0., 0., 0., 0., 0., 0., 0., 0., 0., 0., 0.,\n",
       "        0., 0., 0., 0., 0., 0., 0., 0., 0., 0., 0., 0., 0., 0.],\n",
       "       [1., 0., 0., 1., 0., 1., 1., 0., 0., 0., 0., 0., 0., 0., 0., 0.,\n",
       "        0., 0., 0., 0., 0., 0., 0., 0., 0., 0., 0., 0., 0., 0.],\n",
       "       [0., 0., 0., 0., 0., 0., 0., 0., 0., 0., 0., 0., 0., 0., 0., 0.,\n",
       "        0., 0., 0., 0., 0., 0., 0., 0., 0., 0., 0., 0., 0., 0.],\n",
       "       [1., 0., 0., 1., 0., 1., 1., 0., 0., 0., 0., 0., 0., 0., 0., 0.,\n",
       "        0., 0., 0., 0., 0., 0., 0., 0., 0., 0., 0., 0., 0., 0.],\n",
       "       [1., 0., 0., 1., 0., 1., 1., 0., 0., 0., 0., 0., 0., 0., 0., 0.,\n",
       "        0., 0., 0., 0., 0., 0., 0., 0., 0., 0., 0., 0., 0., 0.],\n",
       "       [0., 0., 0., 0., 0., 0., 0., 0., 0., 0., 0., 0., 0., 0., 0., 0.,\n",
       "        0., 0., 0., 0., 0., 0., 0., 0., 0., 0., 0., 0., 0., 0.],\n",
       "       [0., 0., 0., 0., 0., 0., 0., 0., 0., 0., 0., 0., 0., 0., 0., 0.,\n",
       "        0., 0., 0., 0., 0., 0., 0., 0., 0., 0., 0., 0., 0., 0.],\n",
       "       [0., 0., 0., 0., 0., 0., 0., 0., 0., 0., 0., 0., 0., 0., 0., 0.,\n",
       "        0., 0., 0., 0., 0., 0., 0., 0., 0., 0., 0., 0., 0., 0.],\n",
       "       [0., 0., 0., 0., 0., 0., 0., 0., 0., 0., 0., 0., 0., 0., 0., 0.,\n",
       "        0., 0., 0., 0., 0., 0., 0., 0., 0., 0., 0., 0., 0., 0.],\n",
       "       [0., 0., 0., 0., 0., 0., 0., 0., 0., 0., 0., 0., 0., 0., 0., 0.,\n",
       "        0., 0., 0., 0., 0., 0., 0., 0., 0., 0., 0., 0., 0., 0.],\n",
       "       [0., 0., 0., 0., 0., 0., 0., 0., 0., 0., 0., 0., 0., 0., 0., 0.,\n",
       "        0., 0., 0., 0., 0., 0., 0., 0., 0., 0., 0., 0., 0., 0.],\n",
       "       [0., 0., 0., 0., 0., 0., 0., 0., 0., 0., 0., 0., 0., 0., 0., 0.,\n",
       "        0., 0., 0., 0., 0., 0., 0., 0., 0., 0., 0., 0., 0., 0.],\n",
       "       [0., 0., 0., 0., 0., 0., 0., 0., 0., 0., 0., 0., 0., 0., 0., 0.,\n",
       "        0., 0., 0., 0., 0., 0., 0., 0., 0., 0., 0., 0., 0., 0.],\n",
       "       [0., 0., 0., 0., 0., 0., 0., 0., 0., 0., 0., 0., 0., 0., 0., 0.,\n",
       "        0., 0., 0., 0., 0., 0., 0., 0., 0., 0., 0., 0., 0., 0.],\n",
       "       [0., 0., 0., 0., 0., 0., 0., 0., 0., 0., 0., 0., 0., 0., 0., 0.,\n",
       "        0., 0., 0., 0., 0., 0., 0., 0., 0., 0., 0., 0., 0., 0.],\n",
       "       [0., 0., 0., 0., 0., 0., 0., 0., 0., 0., 0., 0., 0., 0., 0., 0.,\n",
       "        0., 0., 0., 0., 0., 0., 0., 0., 0., 0., 0., 0., 0., 0.],\n",
       "       [0., 0., 0., 0., 0., 0., 0., 0., 0., 0., 0., 0., 0., 0., 0., 0.,\n",
       "        0., 0., 0., 0., 0., 0., 0., 0., 0., 0., 0., 0., 0., 0.],\n",
       "       [0., 0., 0., 0., 0., 0., 0., 0., 0., 0., 0., 0., 0., 0., 0., 0.,\n",
       "        0., 0., 0., 0., 0., 0., 0., 0., 0., 0., 0., 0., 0., 0.],\n",
       "       [0., 0., 0., 0., 0., 0., 0., 0., 0., 0., 0., 0., 0., 0., 0., 0.,\n",
       "        0., 0., 0., 0., 0., 0., 0., 0., 0., 0., 0., 0., 0., 0.],\n",
       "       [0., 0., 0., 0., 0., 0., 0., 0., 0., 0., 0., 0., 0., 0., 0., 0.,\n",
       "        0., 0., 0., 0., 0., 0., 0., 0., 0., 0., 0., 0., 0., 0.],\n",
       "       [0., 0., 0., 0., 0., 0., 0., 0., 0., 0., 0., 0., 0., 0., 0., 0.,\n",
       "        0., 0., 0., 0., 0., 0., 0., 0., 0., 0., 0., 0., 0., 0.],\n",
       "       [0., 0., 0., 0., 0., 0., 0., 0., 0., 0., 0., 0., 0., 0., 0., 0.,\n",
       "        0., 0., 0., 0., 0., 0., 0., 0., 0., 0., 0., 0., 0., 0.],\n",
       "       [0., 0., 0., 0., 0., 0., 0., 0., 0., 0., 0., 0., 0., 0., 0., 0.,\n",
       "        0., 0., 0., 0., 0., 0., 0., 0., 0., 0., 0., 0., 0., 0.],\n",
       "       [0., 0., 0., 0., 0., 0., 0., 0., 0., 0., 0., 0., 0., 0., 0., 0.,\n",
       "        0., 0., 0., 0., 0., 0., 0., 0., 0., 0., 0., 0., 0., 0.],\n",
       "       [0., 0., 0., 0., 0., 0., 0., 0., 0., 0., 0., 0., 0., 0., 0., 0.,\n",
       "        0., 0., 0., 0., 0., 0., 0., 0., 0., 0., 0., 0., 0., 0.],\n",
       "       [0., 0., 0., 0., 0., 0., 0., 0., 0., 0., 0., 0., 0., 0., 0., 0.,\n",
       "        0., 0., 0., 0., 0., 0., 0., 0., 0., 0., 0., 0., 0., 0.],\n",
       "       [0., 0., 0., 0., 0., 0., 0., 0., 0., 0., 0., 0., 0., 0., 0., 0.,\n",
       "        0., 0., 0., 0., 0., 0., 0., 0., 0., 0., 0., 0., 0., 0.],\n",
       "       [0., 0., 0., 0., 0., 0., 0., 0., 0., 0., 0., 0., 0., 0., 0., 0.,\n",
       "        0., 0., 0., 0., 0., 0., 0., 0., 0., 0., 0., 0., 0., 0.]])"
      ]
     },
     "execution_count": 177,
     "metadata": {},
     "output_type": "execute_result"
    }
   ],
   "source": [
    "Y[0]"
   ]
  },
  {
   "cell_type": "code",
   "execution_count": 178,
   "id": "9ac460e9",
   "metadata": {},
   "outputs": [
    {
     "data": {
      "text/plain": [
       "array([1., 0., 0., 1., 0., 1., 1., 0., 0., 0., 0., 0., 0., 0., 0., 0., 0.,\n",
       "       0., 0., 0., 0., 0., 0., 0., 0., 0., 0., 0., 0., 0.])"
      ]
     },
     "execution_count": 178,
     "metadata": {},
     "output_type": "execute_result"
    }
   ],
   "source": [
    "Y[0][0]"
   ]
  },
  {
   "cell_type": "code",
   "execution_count": 180,
   "id": "66a12921",
   "metadata": {},
   "outputs": [
    {
     "data": {
      "text/plain": [
       "<tf.Tensor: shape=(19765, 30, 30), dtype=float32, numpy=\n",
       "array([[[4.4298228e-26, 4.4298228e-26, 4.4298228e-26, ...,\n",
       "         2.2907826e-26, 2.2907826e-26, 2.2907826e-26],\n",
       "        [4.4298228e-26, 4.4298228e-26, 4.4298228e-26, ...,\n",
       "         2.2907826e-26, 2.2907826e-26, 2.2907826e-26],\n",
       "        [4.4298228e-26, 4.4298228e-26, 4.4298228e-26, ...,\n",
       "         2.2907826e-26, 2.2907826e-26, 2.2907826e-26],\n",
       "        ...,\n",
       "        [2.2907826e-26, 2.2907826e-26, 2.2907826e-26, ...,\n",
       "         1.4094854e-26, 1.4094854e-26, 1.4094854e-26],\n",
       "        [2.2907826e-26, 2.2907826e-26, 2.2907826e-26, ...,\n",
       "         1.4094854e-26, 1.4094854e-26, 1.4094854e-26],\n",
       "        [2.2907826e-26, 2.2907826e-26, 2.2907826e-26, ...,\n",
       "         1.4094854e-26, 1.4094854e-26, 1.4094854e-26]],\n",
       "\n",
       "       [[4.4298228e-26, 4.4298228e-26, 4.4298228e-26, ...,\n",
       "         2.2907826e-26, 2.2907826e-26, 2.2907826e-26],\n",
       "        [4.4298228e-26, 4.4298228e-26, 4.4298228e-26, ...,\n",
       "         2.2907826e-26, 2.2907826e-26, 2.2907826e-26],\n",
       "        [4.4298228e-26, 4.4298228e-26, 4.4298228e-26, ...,\n",
       "         2.2907826e-26, 2.2907826e-26, 2.2907826e-26],\n",
       "        ...,\n",
       "        [2.2907826e-26, 2.2907826e-26, 2.2907826e-26, ...,\n",
       "         1.4094854e-26, 1.4094854e-26, 1.4094854e-26],\n",
       "        [2.2907826e-26, 2.2907826e-26, 2.2907826e-26, ...,\n",
       "         1.4094854e-26, 1.4094854e-26, 1.4094854e-26],\n",
       "        [2.2907826e-26, 2.2907826e-26, 2.2907826e-26, ...,\n",
       "         1.4094854e-26, 1.4094854e-26, 1.4094854e-26]],\n",
       "\n",
       "       [[4.4298228e-26, 4.4298228e-26, 4.4298228e-26, ...,\n",
       "         2.2907826e-26, 2.2907826e-26, 2.2907826e-26],\n",
       "        [4.4298228e-26, 4.4298228e-26, 4.4298228e-26, ...,\n",
       "         2.2907826e-26, 2.2907826e-26, 2.2907826e-26],\n",
       "        [4.4298228e-26, 4.4298228e-26, 4.4298228e-26, ...,\n",
       "         2.2907826e-26, 2.2907826e-26, 2.2907826e-26],\n",
       "        ...,\n",
       "        [2.2907826e-26, 2.2907826e-26, 2.2907826e-26, ...,\n",
       "         1.4094854e-26, 1.4094854e-26, 1.4094854e-26],\n",
       "        [2.2907826e-26, 2.2907826e-26, 2.2907826e-26, ...,\n",
       "         1.4094854e-26, 1.4094854e-26, 1.4094854e-26],\n",
       "        [2.2907826e-26, 2.2907826e-26, 2.2907826e-26, ...,\n",
       "         1.4094854e-26, 1.4094854e-26, 1.4094854e-26]],\n",
       "\n",
       "       ...,\n",
       "\n",
       "       [[4.4298228e-26, 4.4298228e-26, 4.4298228e-26, ...,\n",
       "         2.2907826e-26, 2.2907826e-26, 2.2907826e-26],\n",
       "        [4.4298228e-26, 4.4298228e-26, 4.4298228e-26, ...,\n",
       "         2.2907826e-26, 2.2907826e-26, 2.2907826e-26],\n",
       "        [4.4298228e-26, 4.4298228e-26, 4.4298228e-26, ...,\n",
       "         2.2907826e-26, 2.2907826e-26, 2.2907826e-26],\n",
       "        ...,\n",
       "        [2.2907826e-26, 2.2907826e-26, 2.2907826e-26, ...,\n",
       "         1.4094854e-26, 1.4094854e-26, 1.4094854e-26],\n",
       "        [2.2907826e-26, 2.2907826e-26, 2.2907826e-26, ...,\n",
       "         1.4094854e-26, 1.4094854e-26, 1.4094854e-26],\n",
       "        [2.2907826e-26, 2.2907826e-26, 2.2907826e-26, ...,\n",
       "         1.4094854e-26, 1.4094854e-26, 1.4094854e-26]],\n",
       "\n",
       "       [[4.4298228e-26, 4.4298228e-26, 4.4298228e-26, ...,\n",
       "         2.2907826e-26, 2.2907826e-26, 2.2907826e-26],\n",
       "        [4.4298228e-26, 4.4298228e-26, 4.4298228e-26, ...,\n",
       "         2.2907826e-26, 2.2907826e-26, 2.2907826e-26],\n",
       "        [4.4298228e-26, 4.4298228e-26, 4.4298228e-26, ...,\n",
       "         2.2907826e-26, 2.2907826e-26, 2.2907826e-26],\n",
       "        ...,\n",
       "        [2.2907826e-26, 2.2907826e-26, 2.2907826e-26, ...,\n",
       "         1.4094854e-26, 1.4094854e-26, 1.4094854e-26],\n",
       "        [2.2907826e-26, 2.2907826e-26, 2.2907826e-26, ...,\n",
       "         1.4094854e-26, 1.4094854e-26, 1.4094854e-26],\n",
       "        [2.2907826e-26, 2.2907826e-26, 2.2907826e-26, ...,\n",
       "         1.4094854e-26, 1.4094854e-26, 1.4094854e-26]],\n",
       "\n",
       "       [[4.4298228e-26, 4.4298228e-26, 4.4298228e-26, ...,\n",
       "         2.2907826e-26, 2.2907826e-26, 2.2907826e-26],\n",
       "        [4.4298228e-26, 4.4298228e-26, 4.4298228e-26, ...,\n",
       "         2.2907826e-26, 2.2907826e-26, 2.2907826e-26],\n",
       "        [4.4298228e-26, 4.4298228e-26, 4.4298228e-26, ...,\n",
       "         2.2907826e-26, 2.2907826e-26, 2.2907826e-26],\n",
       "        ...,\n",
       "        [2.2907826e-26, 2.2907826e-26, 2.2907826e-26, ...,\n",
       "         1.4094854e-26, 1.4094854e-26, 1.4094854e-26],\n",
       "        [2.2907826e-26, 2.2907826e-26, 2.2907826e-26, ...,\n",
       "         1.4094854e-26, 1.4094854e-26, 1.4094854e-26],\n",
       "        [2.2907826e-26, 2.2907826e-26, 2.2907826e-26, ...,\n",
       "         1.4094854e-26, 1.4094854e-26, 1.4094854e-26]]], dtype=float32)>"
      ]
     },
     "execution_count": 180,
     "metadata": {},
     "output_type": "execute_result"
    }
   ],
   "source": [
    "pred"
   ]
  },
  {
   "cell_type": "code",
   "execution_count": 179,
   "id": "62f5fd1b",
   "metadata": {},
   "outputs": [
    {
     "data": {
      "text/plain": [
       "<tf.Tensor: shape=(30,), dtype=float32, numpy=\n",
       "array([0.5, 0.5, 0.5, 0.5, 0.5, 0.5, 0.5, 0.5, 0.5, 0.5, 0.5, 0.5, 0.5,\n",
       "       0.5, 0.5, 0.5, 0.5, 0.5, 0.5, 0.5, 0.5, 0.5, 0.5, 0.5, 0.5, 0.5,\n",
       "       0.5, 0.5, 0.5, 0.5], dtype=float32)>"
      ]
     },
     "execution_count": 179,
     "metadata": {},
     "output_type": "execute_result"
    }
   ],
   "source": [
    "tf.nn.sigmoid(pred[0][0])"
   ]
  },
  {
   "cell_type": "code",
   "execution_count": 173,
   "id": "cb48808a",
   "metadata": {},
   "outputs": [
    {
     "data": {
      "text/plain": [
       "<tf.Tensor: shape=(1,), dtype=float32, numpy=array([0.6946483], dtype=float32)>"
      ]
     },
     "execution_count": 173,
     "metadata": {},
     "output_type": "execute_result"
    }
   ],
   "source": [
    "tf.nn.sigmoid_cross_entropy_with_logits([0.],[0.003])"
   ]
  },
  {
   "cell_type": "code",
   "execution_count": null,
   "id": "69b965aa",
   "metadata": {},
   "outputs": [],
   "source": []
  },
  {
   "cell_type": "code",
   "execution_count": 94,
   "id": "c8018960",
   "metadata": {},
   "outputs": [],
   "source": [
    "from plotting import *"
   ]
  },
  {
   "cell_type": "code",
   "execution_count": 174,
   "id": "47879baf",
   "metadata": {
    "ExecuteTime": {
     "end_time": "2022-06-22T15:53:33.875221Z",
     "start_time": "2022-06-22T15:53:31.812497Z"
    }
   },
   "outputs": [
    {
     "data": {
      "image/png": "[encoded data removed]",
      "text/plain": [
       "<Figure size 1800x600 with 6 Axes>"
      ]
     },
     "metadata": {
      "needs_background": "light"
     },
     "output_type": "display_data"
    }
   ],
   "source": [
    "plotM(*tf.nn.sigmoid(pred[3:6]), vmin=0, vmax=1)"
   ]
  },
  {
   "cell_type": "code",
   "execution_count": 175,
   "id": "c53abeea",
   "metadata": {
    "ExecuteTime": {
     "end_time": "2022-06-22T15:53:40.355314Z",
     "start_time": "2022-06-22T15:53:38.318804Z"
    }
   },
   "outputs": [
    {
     "data": {
      "image/png": "[encoded data removed]",
      "text/plain": [
       "<Figure size 1800x600 with 6 Axes>"
      ]
     },
     "metadata": {
      "needs_background": "light"
     },
     "output_type": "display_data"
    }
   ],
   "source": [
    "plotM(*Y[3:6], vmin=0, vmax=1)"
   ]
  },
  {
   "cell_type": "code",
   "execution_count": 53,
   "id": "fc2b4a2b",
   "metadata": {
    "ExecuteTime": {
     "end_time": "2022-06-22T15:10:12.048101Z",
     "start_time": "2022-06-22T15:10:12.041499Z"
    }
   },
   "outputs": [
    {
     "data": {
      "text/plain": [
       "718"
      ]
     },
     "execution_count": 53,
     "metadata": {},
     "output_type": "execute_result"
    }
   ],
   "source": [
    "np.sum(np.sum(Y, axis=(1,2)) > 0)"
   ]
  },
  {
   "cell_type": "code",
   "execution_count": 50,
   "id": "ec03ec9c",
   "metadata": {
    "ExecuteTime": {
     "end_time": "2022-06-22T15:08:36.487243Z",
     "start_time": "2022-06-22T15:08:36.482840Z"
    }
   },
   "outputs": [
    {
     "data": {
      "text/plain": [
       "1963"
      ]
     },
     "execution_count": 50,
     "metadata": {},
     "output_type": "execute_result"
    }
   ],
   "source": [
    "Y.shape[0]"
   ]
  },
  {
   "cell_type": "code",
   "execution_count": 52,
   "id": "00ace03b",
   "metadata": {
    "ExecuteTime": {
     "end_time": "2022-06-22T15:08:54.969520Z",
     "start_time": "2022-06-22T15:08:54.965038Z"
    }
   },
   "outputs": [
    {
     "data": {
      "text/plain": [
       "0.6342333163525217"
      ]
     },
     "execution_count": 52,
     "metadata": {},
     "output_type": "execute_result"
    }
   ],
   "source": [
    "1245 / 1963"
   ]
  },
  {
   "cell_type": "code",
   "execution_count": null,
   "id": "2002ebb8",
   "metadata": {},
   "outputs": [],
   "source": []
  }
 ],
 "metadata": {
  "kernelspec": {
   "display_name": "Python 3 (ipykernel)",
   "language": "python",
   "name": "python3"
  },
  "language_info": {
   "codemirror_mode": {
    "name": "ipython",
    "version": 3
   },
   "file_extension": ".py",
   "mimetype": "text/x-python",
   "name": "python",
   "nbconvert_exporter": "python",
   "pygments_lexer": "ipython3",
   "version": "3.8.6"
  },
  "toc": {
   "base_numbering": 1,
   "nav_menu": {},
   "number_sections": true,
   "sideBar": true,
   "skip_h1_title": false,
   "title_cell": "Table of Contents",
   "title_sidebar": "Contents",
   "toc_cell": false,
   "toc_position": {},
   "toc_section_display": true,
   "toc_window_display": false
  },
  "varInspector": {
   "cols": {
    "lenName": 16,
    "lenType": 16,
    "lenVar": 40
   },
   "kernels_config": {
    "python": {
     "delete_cmd_postfix": "",
     "delete_cmd_prefix": "del ",
     "library": "var_list.py",
     "varRefreshCmd": "print(var_dic_list())"
    },
    "r": {
     "delete_cmd_postfix": ") ",
     "delete_cmd_prefix": "rm(",
     "library": "var_list.r",
     "varRefreshCmd": "cat(var_dic_list()) "
    }
   },
   "types_to_exclude": [
    "module",
    "function",
    "builtin_function_or_method",
    "instance",
    "_Feature"
   ],
   "window_display": false
  }
 },
 "nbformat": 4,
 "nbformat_minor": 5
}
